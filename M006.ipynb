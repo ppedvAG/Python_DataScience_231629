{
 "cells": [
  {
   "cell_type": "markdown",
   "id": "01caf9f6-5be6-4ed9-ba18-86a33a5b856b",
   "metadata": {},
   "source": [
    "# Machine Learning"
   ]
  },
  {
   "cell_type": "markdown",
   "id": "955587e2-de54-414b-b03f-c4c5e91ef162",
   "metadata": {},
   "source": [
    "## Modell\n",
    "\n",
    "Ein Modell ist ein Programm, dass von einem Algorithmus generiert wird (im Gegensatz zu geschrieben von uns selber). Dieses wird auf einem Datenset basierend erstellt. Der Algorithmus erkennt Zusammenhänge im Datenset und erstellt daraus das Model -> Machine Learning\n",
    "\n",
    "Diesem Modell können später neue Datensätze gegeben werden, und daraus wird eine Vorhersage getroffen"
   ]
  },
  {
   "cell_type": "markdown",
   "id": "707b1992-dd99-402e-a151-6cc07a7ffbee",
   "metadata": {},
   "source": [
    "## Beispiel: Wettermodell\n",
    "\n",
    "Datenset: 30 Jahre historische Wetterdaten\n",
    "\n",
    "4 Spalten: Datum (Tage), Uhrzeit, Niederschlag (%), Wolken (%), Temperatur\n",
    "\n",
    "Input: 11.09., 13:00, 0%, 20% -> 25°C\n",
    "\n",
    "Input: 11.01., 13:00, 0%, 20% -> 10°C\n",
    "\n",
    "Über das Datenset wird das Modell trainiert\n",
    "\n",
    "Danach kann der Input von hier gefüttert werden, um eine Temperaturvorhersage zu treffen"
   ]
  },
  {
   "cell_type": "markdown",
   "id": "88fad130-f146-4288-b12d-fef90d5cb70e",
   "metadata": {},
   "source": [
    "## Datenset\n",
    "\n",
    "Das MAGIC Gamma Telescope Set besteht aus Daten zu Partikeln, die das Teleskop treffen. Der Rekorder zeichnet auf, welche Eigenschaften diese Partikel haben und klassifiziert diese.\n",
    "\n",
    "2 Partikel:\n",
    "\n",
    "- Gamma Strahlen\n",
    "- Hadronen\n",
    "\n",
    "Mithilfe von Machine Learning können wir ein Modell aufbauen, dass anhand der Daten selbstständig Vorhersagen trifft, um welche Partikel es sich handelt.\n",
    "\n",
    "Beschreibung des Datensets:\n",
    "\n",
    "- fLength: continuous # major axis of ellipse [mm]\n",
    "- fWidth: continuous # minor axis of ellipse [mm]\n",
    "- fSize: continuous # 10-log of sum of content of all pixels [in #phot]\n",
    "- fConc: continuous # ratio of sum of two highest pixels over fSize [ratio]\n",
    "- fConc1: continuous # ratio of highest pixel over fSize [ratio]\n",
    "- fAsym: continuous # distance from highest pixel to center, projected onto major axis [mm]\n",
    "- fM3Long: continuous # 3rd root of third moment along major axis [mm]\n",
    "- fM3Trans: continuous # 3rd root of third moment along minor axis [mm]\n",
    "- fAlpha: continuous # angle of major axis with vector to origin [deg]\n",
    "- fDist: continuous # distance from origin to center of ellipse [mm]\n",
    "- class: g,h # gamma (signal), hadron (background)"
   ]
  },
  {
   "cell_type": "code",
   "execution_count": 1,
   "id": "80524f13-238e-4a86-bab8-5b972e8e61a3",
   "metadata": {},
   "outputs": [],
   "source": [
    "import numpy as np\n",
    "import pandas as pd\n",
    "import matplotlib.pyplot as plt"
   ]
  },
  {
   "cell_type": "code",
   "execution_count": 2,
   "id": "8c6fcac4-608c-4391-bc79-132796aa2bb9",
   "metadata": {},
   "outputs": [],
   "source": [
    "df = pd.read_csv(\"Data/MAGIC.csv\")"
   ]
  },
  {
   "cell_type": "code",
   "execution_count": 3,
   "id": "c8388b43-2bd4-49c4-84b2-74c688adb117",
   "metadata": {},
   "outputs": [
    {
     "data": {
      "text/html": [
       "<div>\n",
       "<style scoped>\n",
       "    .dataframe tbody tr th:only-of-type {\n",
       "        vertical-align: middle;\n",
       "    }\n",
       "\n",
       "    .dataframe tbody tr th {\n",
       "        vertical-align: top;\n",
       "    }\n",
       "\n",
       "    .dataframe thead th {\n",
       "        text-align: right;\n",
       "    }\n",
       "</style>\n",
       "<table border=\"1\" class=\"dataframe\">\n",
       "  <thead>\n",
       "    <tr style=\"text-align: right;\">\n",
       "      <th></th>\n",
       "      <th>fLength</th>\n",
       "      <th>fWidth</th>\n",
       "      <th>fSize</th>\n",
       "      <th>fConc</th>\n",
       "      <th>fConc1</th>\n",
       "      <th>fAsym</th>\n",
       "      <th>fM3Long</th>\n",
       "      <th>fM3Trans</th>\n",
       "      <th>fAlpha</th>\n",
       "      <th>fDist</th>\n",
       "      <th>class</th>\n",
       "    </tr>\n",
       "  </thead>\n",
       "  <tbody>\n",
       "    <tr>\n",
       "      <th>0</th>\n",
       "      <td>28.7967</td>\n",
       "      <td>16.0021</td>\n",
       "      <td>2.6449</td>\n",
       "      <td>0.3918</td>\n",
       "      <td>0.1982</td>\n",
       "      <td>27.7004</td>\n",
       "      <td>22.0110</td>\n",
       "      <td>-8.2027</td>\n",
       "      <td>40.0920</td>\n",
       "      <td>81.8828</td>\n",
       "      <td>g</td>\n",
       "    </tr>\n",
       "    <tr>\n",
       "      <th>1</th>\n",
       "      <td>31.6036</td>\n",
       "      <td>11.7235</td>\n",
       "      <td>2.5185</td>\n",
       "      <td>0.5303</td>\n",
       "      <td>0.3773</td>\n",
       "      <td>26.2722</td>\n",
       "      <td>23.8238</td>\n",
       "      <td>-9.9574</td>\n",
       "      <td>6.3609</td>\n",
       "      <td>205.2610</td>\n",
       "      <td>g</td>\n",
       "    </tr>\n",
       "    <tr>\n",
       "      <th>2</th>\n",
       "      <td>162.0520</td>\n",
       "      <td>136.0310</td>\n",
       "      <td>4.0612</td>\n",
       "      <td>0.0374</td>\n",
       "      <td>0.0187</td>\n",
       "      <td>116.7410</td>\n",
       "      <td>-64.8580</td>\n",
       "      <td>-45.2160</td>\n",
       "      <td>76.9600</td>\n",
       "      <td>256.7880</td>\n",
       "      <td>g</td>\n",
       "    </tr>\n",
       "    <tr>\n",
       "      <th>3</th>\n",
       "      <td>23.8172</td>\n",
       "      <td>9.5728</td>\n",
       "      <td>2.3385</td>\n",
       "      <td>0.6147</td>\n",
       "      <td>0.3922</td>\n",
       "      <td>27.2107</td>\n",
       "      <td>-6.4633</td>\n",
       "      <td>-7.1513</td>\n",
       "      <td>10.4490</td>\n",
       "      <td>116.7370</td>\n",
       "      <td>g</td>\n",
       "    </tr>\n",
       "    <tr>\n",
       "      <th>4</th>\n",
       "      <td>75.1362</td>\n",
       "      <td>30.9205</td>\n",
       "      <td>3.1611</td>\n",
       "      <td>0.3168</td>\n",
       "      <td>0.1832</td>\n",
       "      <td>-5.5277</td>\n",
       "      <td>28.5525</td>\n",
       "      <td>21.8393</td>\n",
       "      <td>4.6480</td>\n",
       "      <td>356.4620</td>\n",
       "      <td>g</td>\n",
       "    </tr>\n",
       "    <tr>\n",
       "      <th>...</th>\n",
       "      <td>...</td>\n",
       "      <td>...</td>\n",
       "      <td>...</td>\n",
       "      <td>...</td>\n",
       "      <td>...</td>\n",
       "      <td>...</td>\n",
       "      <td>...</td>\n",
       "      <td>...</td>\n",
       "      <td>...</td>\n",
       "      <td>...</td>\n",
       "      <td>...</td>\n",
       "    </tr>\n",
       "    <tr>\n",
       "      <th>19015</th>\n",
       "      <td>21.3846</td>\n",
       "      <td>10.9170</td>\n",
       "      <td>2.6161</td>\n",
       "      <td>0.5857</td>\n",
       "      <td>0.3934</td>\n",
       "      <td>15.2618</td>\n",
       "      <td>11.5245</td>\n",
       "      <td>2.8766</td>\n",
       "      <td>2.4229</td>\n",
       "      <td>106.8258</td>\n",
       "      <td>h</td>\n",
       "    </tr>\n",
       "    <tr>\n",
       "      <th>19016</th>\n",
       "      <td>28.9452</td>\n",
       "      <td>6.7020</td>\n",
       "      <td>2.2672</td>\n",
       "      <td>0.5351</td>\n",
       "      <td>0.2784</td>\n",
       "      <td>37.0816</td>\n",
       "      <td>13.1853</td>\n",
       "      <td>-2.9632</td>\n",
       "      <td>86.7975</td>\n",
       "      <td>247.4560</td>\n",
       "      <td>h</td>\n",
       "    </tr>\n",
       "    <tr>\n",
       "      <th>19017</th>\n",
       "      <td>75.4455</td>\n",
       "      <td>47.5305</td>\n",
       "      <td>3.4483</td>\n",
       "      <td>0.1417</td>\n",
       "      <td>0.0549</td>\n",
       "      <td>-9.3561</td>\n",
       "      <td>41.0562</td>\n",
       "      <td>-9.4662</td>\n",
       "      <td>30.2987</td>\n",
       "      <td>256.5166</td>\n",
       "      <td>h</td>\n",
       "    </tr>\n",
       "    <tr>\n",
       "      <th>19018</th>\n",
       "      <td>120.5135</td>\n",
       "      <td>76.9018</td>\n",
       "      <td>3.9939</td>\n",
       "      <td>0.0944</td>\n",
       "      <td>0.0683</td>\n",
       "      <td>5.8043</td>\n",
       "      <td>-93.5224</td>\n",
       "      <td>-63.8389</td>\n",
       "      <td>84.6874</td>\n",
       "      <td>408.3166</td>\n",
       "      <td>h</td>\n",
       "    </tr>\n",
       "    <tr>\n",
       "      <th>19019</th>\n",
       "      <td>187.1814</td>\n",
       "      <td>53.0014</td>\n",
       "      <td>3.2093</td>\n",
       "      <td>0.2876</td>\n",
       "      <td>0.1539</td>\n",
       "      <td>-167.3125</td>\n",
       "      <td>-168.4558</td>\n",
       "      <td>31.4755</td>\n",
       "      <td>52.7310</td>\n",
       "      <td>272.3174</td>\n",
       "      <td>h</td>\n",
       "    </tr>\n",
       "  </tbody>\n",
       "</table>\n",
       "<p>19020 rows × 11 columns</p>\n",
       "</div>"
      ],
      "text/plain": [
       "        fLength    fWidth   fSize   fConc  fConc1     fAsym   fM3Long  \\\n",
       "0       28.7967   16.0021  2.6449  0.3918  0.1982   27.7004   22.0110   \n",
       "1       31.6036   11.7235  2.5185  0.5303  0.3773   26.2722   23.8238   \n",
       "2      162.0520  136.0310  4.0612  0.0374  0.0187  116.7410  -64.8580   \n",
       "3       23.8172    9.5728  2.3385  0.6147  0.3922   27.2107   -6.4633   \n",
       "4       75.1362   30.9205  3.1611  0.3168  0.1832   -5.5277   28.5525   \n",
       "...         ...       ...     ...     ...     ...       ...       ...   \n",
       "19015   21.3846   10.9170  2.6161  0.5857  0.3934   15.2618   11.5245   \n",
       "19016   28.9452    6.7020  2.2672  0.5351  0.2784   37.0816   13.1853   \n",
       "19017   75.4455   47.5305  3.4483  0.1417  0.0549   -9.3561   41.0562   \n",
       "19018  120.5135   76.9018  3.9939  0.0944  0.0683    5.8043  -93.5224   \n",
       "19019  187.1814   53.0014  3.2093  0.2876  0.1539 -167.3125 -168.4558   \n",
       "\n",
       "       fM3Trans   fAlpha     fDist class  \n",
       "0       -8.2027  40.0920   81.8828     g  \n",
       "1       -9.9574   6.3609  205.2610     g  \n",
       "2      -45.2160  76.9600  256.7880     g  \n",
       "3       -7.1513  10.4490  116.7370     g  \n",
       "4       21.8393   4.6480  356.4620     g  \n",
       "...         ...      ...       ...   ...  \n",
       "19015    2.8766   2.4229  106.8258     h  \n",
       "19016   -2.9632  86.7975  247.4560     h  \n",
       "19017   -9.4662  30.2987  256.5166     h  \n",
       "19018  -63.8389  84.6874  408.3166     h  \n",
       "19019   31.4755  52.7310  272.3174     h  \n",
       "\n",
       "[19020 rows x 11 columns]"
      ]
     },
     "execution_count": 3,
     "metadata": {},
     "output_type": "execute_result"
    }
   ],
   "source": [
    "df"
   ]
  },
  {
   "cell_type": "markdown",
   "id": "30f30d06-34b7-4b07-be7e-b9a1ca3770c0",
   "metadata": {},
   "source": [
    "Ein Machine Learning Algorithmus kann nicht mit Buchstaben arbeiten -> Umwandlung in Zahlen"
   ]
  },
  {
   "cell_type": "code",
   "execution_count": 4,
   "id": "c694e4fc-dd58-4f64-8d89-19331cee92a5",
   "metadata": {},
   "outputs": [
    {
     "data": {
      "text/plain": [
       "0         True\n",
       "1         True\n",
       "2         True\n",
       "3         True\n",
       "4         True\n",
       "         ...  \n",
       "19015    False\n",
       "19016    False\n",
       "19017    False\n",
       "19018    False\n",
       "19019    False\n",
       "Name: class, Length: 19020, dtype: bool"
      ]
     },
     "execution_count": 4,
     "metadata": {},
     "output_type": "execute_result"
    }
   ],
   "source": [
    "df[\"class\"] == \"g\""
   ]
  },
  {
   "cell_type": "code",
   "execution_count": 5,
   "id": "09725541-4c77-4466-9adc-c4a0009753d6",
   "metadata": {},
   "outputs": [],
   "source": [
    "df[\"class\"] = (df[\"class\"] == \"g\").astype(int)"
   ]
  },
  {
   "cell_type": "code",
   "execution_count": 6,
   "id": "5be6e155-5e09-4b36-bc20-2e451cc01e69",
   "metadata": {},
   "outputs": [
    {
     "data": {
      "text/html": [
       "<div>\n",
       "<style scoped>\n",
       "    .dataframe tbody tr th:only-of-type {\n",
       "        vertical-align: middle;\n",
       "    }\n",
       "\n",
       "    .dataframe tbody tr th {\n",
       "        vertical-align: top;\n",
       "    }\n",
       "\n",
       "    .dataframe thead th {\n",
       "        text-align: right;\n",
       "    }\n",
       "</style>\n",
       "<table border=\"1\" class=\"dataframe\">\n",
       "  <thead>\n",
       "    <tr style=\"text-align: right;\">\n",
       "      <th></th>\n",
       "      <th>fLength</th>\n",
       "      <th>fWidth</th>\n",
       "      <th>fSize</th>\n",
       "      <th>fConc</th>\n",
       "      <th>fConc1</th>\n",
       "      <th>fAsym</th>\n",
       "      <th>fM3Long</th>\n",
       "      <th>fM3Trans</th>\n",
       "      <th>fAlpha</th>\n",
       "      <th>fDist</th>\n",
       "      <th>class</th>\n",
       "    </tr>\n",
       "  </thead>\n",
       "  <tbody>\n",
       "    <tr>\n",
       "      <th>0</th>\n",
       "      <td>28.7967</td>\n",
       "      <td>16.0021</td>\n",
       "      <td>2.6449</td>\n",
       "      <td>0.3918</td>\n",
       "      <td>0.1982</td>\n",
       "      <td>27.7004</td>\n",
       "      <td>22.0110</td>\n",
       "      <td>-8.2027</td>\n",
       "      <td>40.0920</td>\n",
       "      <td>81.8828</td>\n",
       "      <td>1</td>\n",
       "    </tr>\n",
       "    <tr>\n",
       "      <th>1</th>\n",
       "      <td>31.6036</td>\n",
       "      <td>11.7235</td>\n",
       "      <td>2.5185</td>\n",
       "      <td>0.5303</td>\n",
       "      <td>0.3773</td>\n",
       "      <td>26.2722</td>\n",
       "      <td>23.8238</td>\n",
       "      <td>-9.9574</td>\n",
       "      <td>6.3609</td>\n",
       "      <td>205.2610</td>\n",
       "      <td>1</td>\n",
       "    </tr>\n",
       "    <tr>\n",
       "      <th>2</th>\n",
       "      <td>162.0520</td>\n",
       "      <td>136.0310</td>\n",
       "      <td>4.0612</td>\n",
       "      <td>0.0374</td>\n",
       "      <td>0.0187</td>\n",
       "      <td>116.7410</td>\n",
       "      <td>-64.8580</td>\n",
       "      <td>-45.2160</td>\n",
       "      <td>76.9600</td>\n",
       "      <td>256.7880</td>\n",
       "      <td>1</td>\n",
       "    </tr>\n",
       "    <tr>\n",
       "      <th>3</th>\n",
       "      <td>23.8172</td>\n",
       "      <td>9.5728</td>\n",
       "      <td>2.3385</td>\n",
       "      <td>0.6147</td>\n",
       "      <td>0.3922</td>\n",
       "      <td>27.2107</td>\n",
       "      <td>-6.4633</td>\n",
       "      <td>-7.1513</td>\n",
       "      <td>10.4490</td>\n",
       "      <td>116.7370</td>\n",
       "      <td>1</td>\n",
       "    </tr>\n",
       "    <tr>\n",
       "      <th>4</th>\n",
       "      <td>75.1362</td>\n",
       "      <td>30.9205</td>\n",
       "      <td>3.1611</td>\n",
       "      <td>0.3168</td>\n",
       "      <td>0.1832</td>\n",
       "      <td>-5.5277</td>\n",
       "      <td>28.5525</td>\n",
       "      <td>21.8393</td>\n",
       "      <td>4.6480</td>\n",
       "      <td>356.4620</td>\n",
       "      <td>1</td>\n",
       "    </tr>\n",
       "    <tr>\n",
       "      <th>...</th>\n",
       "      <td>...</td>\n",
       "      <td>...</td>\n",
       "      <td>...</td>\n",
       "      <td>...</td>\n",
       "      <td>...</td>\n",
       "      <td>...</td>\n",
       "      <td>...</td>\n",
       "      <td>...</td>\n",
       "      <td>...</td>\n",
       "      <td>...</td>\n",
       "      <td>...</td>\n",
       "    </tr>\n",
       "    <tr>\n",
       "      <th>19015</th>\n",
       "      <td>21.3846</td>\n",
       "      <td>10.9170</td>\n",
       "      <td>2.6161</td>\n",
       "      <td>0.5857</td>\n",
       "      <td>0.3934</td>\n",
       "      <td>15.2618</td>\n",
       "      <td>11.5245</td>\n",
       "      <td>2.8766</td>\n",
       "      <td>2.4229</td>\n",
       "      <td>106.8258</td>\n",
       "      <td>0</td>\n",
       "    </tr>\n",
       "    <tr>\n",
       "      <th>19016</th>\n",
       "      <td>28.9452</td>\n",
       "      <td>6.7020</td>\n",
       "      <td>2.2672</td>\n",
       "      <td>0.5351</td>\n",
       "      <td>0.2784</td>\n",
       "      <td>37.0816</td>\n",
       "      <td>13.1853</td>\n",
       "      <td>-2.9632</td>\n",
       "      <td>86.7975</td>\n",
       "      <td>247.4560</td>\n",
       "      <td>0</td>\n",
       "    </tr>\n",
       "    <tr>\n",
       "      <th>19017</th>\n",
       "      <td>75.4455</td>\n",
       "      <td>47.5305</td>\n",
       "      <td>3.4483</td>\n",
       "      <td>0.1417</td>\n",
       "      <td>0.0549</td>\n",
       "      <td>-9.3561</td>\n",
       "      <td>41.0562</td>\n",
       "      <td>-9.4662</td>\n",
       "      <td>30.2987</td>\n",
       "      <td>256.5166</td>\n",
       "      <td>0</td>\n",
       "    </tr>\n",
       "    <tr>\n",
       "      <th>19018</th>\n",
       "      <td>120.5135</td>\n",
       "      <td>76.9018</td>\n",
       "      <td>3.9939</td>\n",
       "      <td>0.0944</td>\n",
       "      <td>0.0683</td>\n",
       "      <td>5.8043</td>\n",
       "      <td>-93.5224</td>\n",
       "      <td>-63.8389</td>\n",
       "      <td>84.6874</td>\n",
       "      <td>408.3166</td>\n",
       "      <td>0</td>\n",
       "    </tr>\n",
       "    <tr>\n",
       "      <th>19019</th>\n",
       "      <td>187.1814</td>\n",
       "      <td>53.0014</td>\n",
       "      <td>3.2093</td>\n",
       "      <td>0.2876</td>\n",
       "      <td>0.1539</td>\n",
       "      <td>-167.3125</td>\n",
       "      <td>-168.4558</td>\n",
       "      <td>31.4755</td>\n",
       "      <td>52.7310</td>\n",
       "      <td>272.3174</td>\n",
       "      <td>0</td>\n",
       "    </tr>\n",
       "  </tbody>\n",
       "</table>\n",
       "<p>19020 rows × 11 columns</p>\n",
       "</div>"
      ],
      "text/plain": [
       "        fLength    fWidth   fSize   fConc  fConc1     fAsym   fM3Long  \\\n",
       "0       28.7967   16.0021  2.6449  0.3918  0.1982   27.7004   22.0110   \n",
       "1       31.6036   11.7235  2.5185  0.5303  0.3773   26.2722   23.8238   \n",
       "2      162.0520  136.0310  4.0612  0.0374  0.0187  116.7410  -64.8580   \n",
       "3       23.8172    9.5728  2.3385  0.6147  0.3922   27.2107   -6.4633   \n",
       "4       75.1362   30.9205  3.1611  0.3168  0.1832   -5.5277   28.5525   \n",
       "...         ...       ...     ...     ...     ...       ...       ...   \n",
       "19015   21.3846   10.9170  2.6161  0.5857  0.3934   15.2618   11.5245   \n",
       "19016   28.9452    6.7020  2.2672  0.5351  0.2784   37.0816   13.1853   \n",
       "19017   75.4455   47.5305  3.4483  0.1417  0.0549   -9.3561   41.0562   \n",
       "19018  120.5135   76.9018  3.9939  0.0944  0.0683    5.8043  -93.5224   \n",
       "19019  187.1814   53.0014  3.2093  0.2876  0.1539 -167.3125 -168.4558   \n",
       "\n",
       "       fM3Trans   fAlpha     fDist  class  \n",
       "0       -8.2027  40.0920   81.8828      1  \n",
       "1       -9.9574   6.3609  205.2610      1  \n",
       "2      -45.2160  76.9600  256.7880      1  \n",
       "3       -7.1513  10.4490  116.7370      1  \n",
       "4       21.8393   4.6480  356.4620      1  \n",
       "...         ...      ...       ...    ...  \n",
       "19015    2.8766   2.4229  106.8258      0  \n",
       "19016   -2.9632  86.7975  247.4560      0  \n",
       "19017   -9.4662  30.2987  256.5166      0  \n",
       "19018  -63.8389  84.6874  408.3166      0  \n",
       "19019   31.4755  52.7310  272.3174      0  \n",
       "\n",
       "[19020 rows x 11 columns]"
      ]
     },
     "execution_count": 6,
     "metadata": {},
     "output_type": "execute_result"
    }
   ],
   "source": [
    "df"
   ]
  },
  {
   "cell_type": "markdown",
   "id": "5a7d4b7c-a16b-40da-baa8-989219e2d219",
   "metadata": {},
   "source": [
    "## Abweichungen zwischen Partikeln feststellen"
   ]
  },
  {
   "cell_type": "code",
   "execution_count": 7,
   "id": "27620ee3-9b9a-4939-b3ad-cb9e61101f17",
   "metadata": {},
   "outputs": [
    {
     "data": {
      "image/png": "[encoded data removed]",
      "text/plain": [
       "<Figure size 640x480 with 1 Axes>"
      ]
     },
     "metadata": {},
     "output_type": "display_data"
    },
    {
     "data": {
      "image/png": "[encoded data removed]",
      "text/plain": [
       "<Figure size 640x480 with 1 Axes>"
      ]
     },
     "metadata": {},
     "output_type": "display_data"
    },
    {
     "data": {
      "image/png": "[encoded data removed]",
      "text/plain": [
       "<Figure size 640x480 with 1 Axes>"
      ]
     },
     "metadata": {},
     "output_type": "display_data"
    },
    {
     "data": {
      "image/png": "[encoded data removed]",
      "text/plain": [
       "<Figure size 640x480 with 1 Axes>"
      ]
     },
     "metadata": {},
     "output_type": "display_data"
    },
    {
     "data": {
      "image/png": "[encoded data removed]",
      "text/plain": [
       "<Figure size 640x480 with 1 Axes>"
      ]
     },
     "metadata": {},
     "output_type": "display_data"
    },
    {
     "data": {
      "image/png": "[encoded data removed]",
      "text/plain": [
       "<Figure size 640x480 with 1 Axes>"
      ]
     },
     "metadata": {},
     "output_type": "display_data"
    },
    {
     "data": {
      "image/png": "[encoded data removed]",
      "text/plain": [
       "<Figure size 640x480 with 1 Axes>"
      ]
     },
     "metadata": {},
     "output_type": "display_data"
    },
    {
     "data": {
      "image/png": "[encoded data removed]",
      "text/plain": [
       "<Figure size 640x480 with 1 Axes>"
      ]
     },
     "metadata": {},
     "output_type": "display_data"
    },
    {
     "data": {
      "image/png": "[encoded data removed]",
      "text/plain": [
       "<Figure size 640x480 with 1 Axes>"
      ]
     },
     "metadata": {},
     "output_type": "display_data"
    },
    {
     "data": {
      "image/png": "[encoded data removed]",
      "text/plain": [
       "<Figure size 640x480 with 1 Axes>"
      ]
     },
     "metadata": {},
     "output_type": "display_data"
    }
   ],
   "source": [
    "for column in df.columns[:-1]:\n",
    "    plt.hist(df[df[\"class\"] == 1][column], label=\"Gamma\", alpha=0.7)\n",
    "    plt.hist(df[df[\"class\"] == 0][column], label=\"Hadron\", alpha=0.7)\n",
    "    plt.title(column)\n",
    "    plt.legend()\n",
    "    plt.show()"
   ]
  },
  {
   "cell_type": "markdown",
   "id": "fadde098-755d-444b-b5e0-d27b4e54ea6e",
   "metadata": {},
   "source": [
    "## Vorbereitung des Datensets\n",
    "\n",
    "Wir müssen jetzt das Datenset in Trainings-, Test-, und Validierungsdaten aufteilen.\n",
    "\n",
    "Dafür können wir das Gesamtset nehmen und aufteilen"
   ]
  },
  {
   "cell_type": "code",
   "execution_count": 8,
   "id": "bbbc6b09-9a36-4120-9b00-4cb2752a0a1c",
   "metadata": {},
   "outputs": [
    {
     "name": "stderr",
     "output_type": "stream",
     "text": [
      "C:\\Users\\lk3\\source\\repos\\Python_DataScience_2023_09_11\\venv\\lib\\site-packages\\numpy\\core\\fromnumeric.py:57: FutureWarning: 'DataFrame.swapaxes' is deprecated and will be removed in a future version. Please use 'DataFrame.transpose' instead.\n",
      "  return bound(*args, **kwds)\n"
     ]
    },
    {
     "data": {
      "text/plain": [
       "[        fLength    fWidth   fSize   fConc  fConc1     fAsym   fM3Long  \\\n",
       " 17465   98.1619   15.3418  3.1689  0.1776  0.0912   51.0349   58.9549   \n",
       " 14456   93.3517   15.7921  2.5888  0.4009  0.1972  -63.6609  -78.6656   \n",
       " 8139    41.3260   15.8124  2.6479  0.3127  0.1609  -15.2693   19.7499   \n",
       " 13496  233.0390  201.3640  4.3820  0.0507  0.0336 -239.3372 -217.8321   \n",
       " 6106    60.1899   20.8679  3.2515  0.2146  0.1112   49.4347   55.9689   \n",
       " ...         ...       ...     ...     ...     ...       ...       ...   \n",
       " 196     42.1441   13.7346  2.7459  0.3339  0.1966   31.7383   19.1549   \n",
       " 8138    12.9935   11.0298  2.3149  0.7506  0.4479  -14.2100    6.4590   \n",
       " 7616    80.8604   19.5553  3.0026  0.3519  0.2609  -83.1037   46.2738   \n",
       " 910     92.5950   24.5334  3.1670  0.2056  0.1059  -30.6767   79.5929   \n",
       " 15582   13.0278   10.5102  2.3683  0.7709  0.5032  -12.8741   -4.6312   \n",
       " \n",
       "        fM3Trans   fAlpha     fDist  class  \n",
       " 17465   12.9075  86.1812  177.7080      0  \n",
       " 14456  -14.3537  61.2864   86.0739      0  \n",
       " 8139    -7.4930  13.4291   36.1810      1  \n",
       " 13496  131.5547  11.8951  242.1093      0  \n",
       " 6106   -14.2245   0.1230  216.4470      1  \n",
       " ...         ...      ...       ...    ...  \n",
       " 196      7.9992   1.7038  228.5370      1  \n",
       " 8138    -9.7896  50.9220   48.6180      1  \n",
       " 7616    18.3933   2.7880  257.4990      1  \n",
       " 910    -23.0421   0.0787  330.4630      1  \n",
       " 15582    8.4954   9.5620  203.7950      0  \n",
       " \n",
       " [11412 rows x 11 columns],\n",
       "         fLength   fWidth   fSize   fConc  fConc1    fAsym  fM3Long  fM3Trans  \\\n",
       " 1858    19.2814  14.4914  2.3064  0.5235  0.3136  -6.0002  16.7003    0.1864   \n",
       " 16945   68.6857  21.2554  2.7924  0.1968  0.0992 -54.1573  26.0299  -14.0405   \n",
       " 2225    24.0688  16.5052  2.5065  0.4611  0.2321   9.2041  22.9830  -14.9769   \n",
       " 13308  108.2292  11.9470  2.7426  0.3674  0.2753 -84.1560 -45.7260    6.3502   \n",
       " 13262   35.5573   7.9008  2.6849  0.4287  0.2366 -16.8049  17.2613   -1.1910   \n",
       " ...         ...      ...     ...     ...     ...      ...      ...       ...   \n",
       " 13782  109.5866  19.2107  3.2331  0.1669  0.1031 -23.4812  79.6084  -17.2320   \n",
       " 13558   27.3988  10.1619  2.5729  0.5374  0.3115  31.8684  19.3130    6.3707   \n",
       " 8080    25.5169   7.0857  2.4082  0.6680  0.4121   9.0383   9.5293    5.7470   \n",
       " 17224   18.6485  16.2210  2.6031  0.5486  0.2905 -12.9740   9.2782    9.3508   \n",
       " 16831   12.8974  11.2377  2.2135  0.7278  0.4373 -14.5958   8.0007   -7.2282   \n",
       " \n",
       "         fAlpha     fDist  class  \n",
       " 1858   33.6702   46.8615      1  \n",
       " 16945  22.8840  246.8830      0  \n",
       " 2225   33.4211  195.5170      1  \n",
       " 13308   7.8289  166.9842      0  \n",
       " 13262  74.8965   89.7345      0  \n",
       " ...        ...       ...    ...  \n",
       " 13782  15.5528  209.4225      0  \n",
       " 13558  15.2720  213.1820      0  \n",
       " 8080   11.8040  191.6680      1  \n",
       " 17224  39.1318   44.9016      0  \n",
       " 16831  67.4932  204.7620      0  \n",
       " \n",
       " [3804 rows x 11 columns],\n",
       "         fLength   fWidth   fSize   fConc  fConc1     fAsym  fM3Long  fM3Trans  \\\n",
       " 15894  149.4220  39.9130  3.4418  0.1880  0.0978 -104.6490 -74.0711  -35.3242   \n",
       " 15476   53.1004   9.7925  2.8158  0.2597  0.1728   11.4001  45.1434   -0.2400   \n",
       " 7330    24.1291  12.3616  2.6646  0.5065  0.2760    2.0266  17.1422   -8.7257   \n",
       " 14176   43.3563  11.4175  2.7392  0.3482  0.2179  -18.2254  36.8009    5.6819   \n",
       " 10164   12.5202  11.9374  2.1804  0.6865  0.3663   16.4336 -10.2109    6.6055   \n",
       " ...         ...      ...     ...     ...     ...       ...      ...       ...   \n",
       " 13774  106.7713  29.1894  3.3126  0.1405  0.0634 -122.2813  75.7553  -21.8371   \n",
       " 701    100.0380  57.3927  4.2401  0.0890  0.0481  -65.9405  67.0984  -16.0677   \n",
       " 18512   12.9176  11.3596  2.1123  0.7413  0.3900   15.0388  -5.6768  -11.5638   \n",
       " 9698   106.5540  31.4188  3.3434  0.1397  0.0755 -113.2060  53.6824   24.3952   \n",
       " 11311   65.0492  20.4085  3.1836  0.2333  0.1268  -64.2384  42.3664  -13.0170   \n",
       " \n",
       "         fAlpha     fDist  class  \n",
       " 15894  12.5730  300.1680      0  \n",
       " 15476  67.0452  221.1503      0  \n",
       " 7330   40.0613   84.6768      1  \n",
       " 14176  64.9400   99.0768      0  \n",
       " 10164   9.6120  147.1240      1  \n",
       " ...        ...       ...    ...  \n",
       " 13774  29.5828  231.5108      0  \n",
       " 701     2.9310  333.9910      1  \n",
       " 18512  64.9330  227.1070      0  \n",
       " 9698    7.1160  216.2810      1  \n",
       " 11311   9.9495  262.6360      1  \n",
       " \n",
       " [3804 rows x 11 columns]]"
      ]
     },
     "execution_count": 8,
     "metadata": {},
     "output_type": "execute_result"
    }
   ],
   "source": [
    "np.split(df.sample(frac=1), [int(len(df)*0.6), int(len(df)*0.8)])"
   ]
  },
  {
   "cell_type": "code",
   "execution_count": 9,
   "id": "a3c42cc8-0e6b-44f7-844b-42ff7b73e996",
   "metadata": {},
   "outputs": [
    {
     "name": "stderr",
     "output_type": "stream",
     "text": [
      "C:\\Users\\lk3\\source\\repos\\Python_DataScience_2023_09_11\\venv\\lib\\site-packages\\numpy\\core\\fromnumeric.py:57: FutureWarning: 'DataFrame.swapaxes' is deprecated and will be removed in a future version. Please use 'DataFrame.transpose' instead.\n",
      "  return bound(*args, **kwds)\n"
     ]
    }
   ],
   "source": [
    "training, validierung, test = np.split(df.sample(frac=1), [int(len(df)*0.6), int(len(df)*0.8)])"
   ]
  },
  {
   "cell_type": "code",
   "execution_count": 10,
   "id": "28faf8e5-3141-4696-9524-e98c3563a61e",
   "metadata": {},
   "outputs": [
    {
     "data": {
      "text/plain": [
       "7430"
      ]
     },
     "execution_count": 10,
     "metadata": {},
     "output_type": "execute_result"
    }
   ],
   "source": [
    "len(training.groupby(\"class\").get_group(1))"
   ]
  },
  {
   "cell_type": "code",
   "execution_count": 11,
   "id": "9524b905-903d-46e9-aff5-5157e37cc1c9",
   "metadata": {},
   "outputs": [
    {
     "data": {
      "text/plain": [
       "3982"
      ]
     },
     "execution_count": 11,
     "metadata": {},
     "output_type": "execute_result"
    }
   ],
   "source": [
    "len(training.groupby(\"class\").get_group(0))"
   ]
  },
  {
   "cell_type": "markdown",
   "id": "ffecd2ae-f9d7-4f2f-9d3d-ef9fc6412800",
   "metadata": {},
   "source": [
    "## Standardisierung der Daten\n",
    "\n",
    "Wir müssen erstmal die Daten standardisieren, nachdem das Datenset verstreut ist (Menge der G und H ist ungleich, Werte sind zu klein/groß)\n",
    "\n",
    "RandomOverSampler\n",
    "\n",
    "- Generiert neue zufällige Daten um das Datenset auszugleichen\n",
    "- Algorithmus kann besser lernen, wenn das Datenset gleichmäßig ist (keine Lehnung in eine bestimmte Richtung -> Bias)\n",
    "\n",
    "StandardScaler\n",
    "\n",
    "- \"Glättet\" das Datenset (entfernt Outlier)\n",
    "- Verringert und Erhöht große/kleine Werte um den Prozess des Lernens zu vereinfachen\n",
    "\n",
    "LabelEncoder\n",
    "\n",
    "- Ermöglicht das Umwandeln von Texten zu numerischen Werten\n",
    "- Machine Learning Algorithmen können nicht mit Texten umgehen"
   ]
  },
  {
   "cell_type": "code",
   "execution_count": 12,
   "id": "2ddc870a-2d1b-4400-a21e-fc395875325f",
   "metadata": {},
   "outputs": [],
   "source": [
    "from sklearn.preprocessing import StandardScaler"
   ]
  },
  {
   "cell_type": "code",
   "execution_count": 13,
   "id": "f32c3c1f-43cc-4742-baff-8eabf7ab72a8",
   "metadata": {},
   "outputs": [],
   "source": [
    "scaler = StandardScaler()"
   ]
  },
  {
   "cell_type": "code",
   "execution_count": 14,
   "id": "84b871fb-3e7a-4a01-890a-4c9d6cc8d3b1",
   "metadata": {},
   "outputs": [],
   "source": [
    "dataToScale = training[training.columns[:-1]].values"
   ]
  },
  {
   "cell_type": "code",
   "execution_count": 15,
   "id": "2cedcd73-f1ee-4d16-a9da-5ed17359a2e1",
   "metadata": {},
   "outputs": [
    {
     "data": {
      "text/plain": [
       "array([[ 19.2665,  15.6173,   2.5211, ...,  -6.9701,  82.2507,  37.6749],\n",
       "       [ 26.5702,  14.7651,   2.3874, ...,   9.6575,  45.9686, 232.161 ],\n",
       "       [ 33.4439,  18.4405,   3.0013, ...,   9.1591,   5.6137, 241.962 ],\n",
       "       ...,\n",
       "       [ 74.0956,  31.6713,   3.2017, ...,  23.0124,  23.727 , 286.242 ],\n",
       "       [ 80.5879,  32.6355,   3.6311, ...,  17.2874,   2.7956, 210.673 ],\n",
       "       [ 23.3724,  10.9488,   2.316 , ...,   5.3886,   7.1894, 176.713 ]])"
      ]
     },
     "execution_count": 15,
     "metadata": {},
     "output_type": "execute_result"
    }
   ],
   "source": [
    "dataToScale  # Vor Skalierung"
   ]
  },
  {
   "cell_type": "code",
   "execution_count": 16,
   "id": "f278a15e-5eb7-4f99-83cd-6fc8ae291a45",
   "metadata": {},
   "outputs": [],
   "source": [
    "dataToScale = scaler.fit_transform(dataToScale)"
   ]
  },
  {
   "cell_type": "code",
   "execution_count": 17,
   "id": "4f35d0d1-5654-46df-a127-dfdc11a482fe",
   "metadata": {},
   "outputs": [
    {
     "data": {
      "text/plain": [
       "array([[-0.80097892, -0.36774394, -0.64381368, ..., -0.34181888,\n",
       "         2.09422186, -2.09481598],\n",
       "       [-0.62987787, -0.41451729, -0.92664268, ...,  0.45676479,\n",
       "         0.70113252,  0.51059637],\n",
       "       [-0.46885026, -0.21279147,  0.37200145, ...,  0.43282784,\n",
       "        -0.84833624,  0.64189443],\n",
       "       ...,\n",
       "       [ 0.48348195,  0.51338636,  0.79592763, ...,  1.09816854,\n",
       "        -0.15285707,  1.23508674],\n",
       "       [ 0.63557464,  0.56630687,  1.70428044, ...,  0.82321055,\n",
       "        -0.95654015,  0.22273467],\n",
       "       [-0.70479154, -0.62397646, -1.07768224, ...,  0.25173978,\n",
       "        -0.78783558, -0.23220686]])"
      ]
     },
     "execution_count": 17,
     "metadata": {},
     "output_type": "execute_result"
    }
   ],
   "source": [
    "dataToScale  # Nach Skalierung"
   ]
  },
  {
   "cell_type": "code",
   "execution_count": 18,
   "id": "62b2fd30-1deb-47e6-904e-175be8679da2",
   "metadata": {},
   "outputs": [],
   "source": [
    "from imblearn.over_sampling import RandomOverSampler"
   ]
  },
  {
   "cell_type": "code",
   "execution_count": 19,
   "id": "9fbc26eb-e308-4c82-87a6-dbb742813f2b",
   "metadata": {},
   "outputs": [],
   "source": [
    "sampler = RandomOverSampler()"
   ]
  },
  {
   "cell_type": "code",
   "execution_count": 20,
   "id": "547fd54a-d892-4051-9168-5a7944899abf",
   "metadata": {},
   "outputs": [],
   "source": [
    "x, y = sampler.fit_resample(dataToScale, training[training.columns[-1]])"
   ]
  },
  {
   "cell_type": "code",
   "execution_count": 21,
   "id": "c1629e0c-63a4-47af-9bbb-2365bb76377c",
   "metadata": {},
   "outputs": [
    {
     "data": {
      "text/plain": [
       "array([[-0.80097892, -0.36774394, -0.64381368, ..., -0.34181888,\n",
       "         2.09422186, -2.09481598],\n",
       "       [-0.62987787, -0.41451729, -0.92664268, ...,  0.45676479,\n",
       "         0.70113252,  0.51059637],\n",
       "       [-0.46885026, -0.21279147,  0.37200145, ...,  0.43282784,\n",
       "        -0.84833624,  0.64189443],\n",
       "       ...,\n",
       "       [-0.18713804,  0.32757182,  0.16384608, ..., -1.1335346 ,\n",
       "        -0.77979161, -1.48338448],\n",
       "       [-0.77425149, -0.74884076, -1.58135901, ..., -0.40238168,\n",
       "         0.35324127,  0.36761131],\n",
       "       [ 2.47894799,  2.95418974,  3.05834805, ..., -2.02607465,\n",
       "         1.99344374,  2.39800088]])"
      ]
     },
     "execution_count": 21,
     "metadata": {},
     "output_type": "execute_result"
    }
   ],
   "source": [
    "x"
   ]
  },
  {
   "cell_type": "code",
   "execution_count": 22,
   "id": "9dbb55cd-737d-4adf-aba3-8fe5d2d5f5e9",
   "metadata": {},
   "outputs": [
    {
     "data": {
      "text/plain": [
       "0        0\n",
       "1        1\n",
       "2        1\n",
       "3        0\n",
       "4        0\n",
       "        ..\n",
       "14855    0\n",
       "14856    0\n",
       "14857    0\n",
       "14858    0\n",
       "14859    0\n",
       "Name: class, Length: 14860, dtype: int32"
      ]
     },
     "execution_count": 22,
     "metadata": {},
     "output_type": "execute_result"
    }
   ],
   "source": [
    "y"
   ]
  },
  {
   "cell_type": "code",
   "execution_count": 23,
   "id": "6cd56179-390b-4bef-810e-d6ba3d336429",
   "metadata": {},
   "outputs": [
    {
     "data": {
      "text/plain": [
       "14860"
      ]
     },
     "execution_count": 23,
     "metadata": {},
     "output_type": "execute_result"
    }
   ],
   "source": [
    "len(x)"
   ]
  },
  {
   "cell_type": "code",
   "execution_count": 24,
   "id": "d5a2df36-83a1-44ae-9cc2-34ac844c91df",
   "metadata": {},
   "outputs": [
    {
     "data": {
      "text/plain": [
       "14860"
      ]
     },
     "execution_count": 24,
     "metadata": {},
     "output_type": "execute_result"
    }
   ],
   "source": [
    "len(y)"
   ]
  },
  {
   "cell_type": "code",
   "execution_count": 25,
   "id": "01a01275-aaee-497f-a608-8e45fb6e0972",
   "metadata": {},
   "outputs": [],
   "source": [
    "data = np.hstack((x, np.array(y).reshape(-1, 1)))"
   ]
  },
  {
   "cell_type": "code",
   "execution_count": 26,
   "id": "4b15d640-e38c-4724-a099-906f03a06a98",
   "metadata": {},
   "outputs": [],
   "source": [
    "data = pd.DataFrame(data)"
   ]
  },
  {
   "cell_type": "code",
   "execution_count": 27,
   "id": "5a47f31c-e40a-464a-a143-eef6b2823c5e",
   "metadata": {},
   "outputs": [
    {
     "data": {
      "text/html": [
       "<div>\n",
       "<style scoped>\n",
       "    .dataframe tbody tr th:only-of-type {\n",
       "        vertical-align: middle;\n",
       "    }\n",
       "\n",
       "    .dataframe tbody tr th {\n",
       "        vertical-align: top;\n",
       "    }\n",
       "\n",
       "    .dataframe thead th {\n",
       "        text-align: right;\n",
       "    }\n",
       "</style>\n",
       "<table border=\"1\" class=\"dataframe\">\n",
       "  <thead>\n",
       "    <tr style=\"text-align: right;\">\n",
       "      <th></th>\n",
       "      <th>0</th>\n",
       "      <th>1</th>\n",
       "      <th>2</th>\n",
       "      <th>3</th>\n",
       "      <th>4</th>\n",
       "      <th>5</th>\n",
       "      <th>6</th>\n",
       "      <th>7</th>\n",
       "      <th>8</th>\n",
       "      <th>9</th>\n",
       "      <th>10</th>\n",
       "    </tr>\n",
       "  </thead>\n",
       "  <tbody>\n",
       "    <tr>\n",
       "      <th>0</th>\n",
       "      <td>-0.800979</td>\n",
       "      <td>-0.367744</td>\n",
       "      <td>-0.643814</td>\n",
       "      <td>0.391636</td>\n",
       "      <td>0.308479</td>\n",
       "      <td>0.076576</td>\n",
       "      <td>-0.313410</td>\n",
       "      <td>-0.341819</td>\n",
       "      <td>2.094222</td>\n",
       "      <td>-2.094816</td>\n",
       "      <td>0.0</td>\n",
       "    </tr>\n",
       "    <tr>\n",
       "      <th>1</th>\n",
       "      <td>-0.629878</td>\n",
       "      <td>-0.414517</td>\n",
       "      <td>-0.926643</td>\n",
       "      <td>0.408582</td>\n",
       "      <td>0.451746</td>\n",
       "      <td>0.143189</td>\n",
       "      <td>0.234111</td>\n",
       "      <td>0.456765</td>\n",
       "      <td>0.701133</td>\n",
       "      <td>0.510596</td>\n",
       "      <td>1.0</td>\n",
       "    </tr>\n",
       "    <tr>\n",
       "      <th>2</th>\n",
       "      <td>-0.468850</td>\n",
       "      <td>-0.212791</td>\n",
       "      <td>0.372001</td>\n",
       "      <td>-0.579204</td>\n",
       "      <td>-0.493997</td>\n",
       "      <td>0.137535</td>\n",
       "      <td>-0.666534</td>\n",
       "      <td>0.432828</td>\n",
       "      <td>-0.848336</td>\n",
       "      <td>0.641894</td>\n",
       "      <td>1.0</td>\n",
       "    </tr>\n",
       "    <tr>\n",
       "      <th>3</th>\n",
       "      <td>-0.437437</td>\n",
       "      <td>-0.375889</td>\n",
       "      <td>-0.092540</td>\n",
       "      <td>0.318386</td>\n",
       "      <td>0.039174</td>\n",
       "      <td>0.282649</td>\n",
       "      <td>0.422695</td>\n",
       "      <td>-0.531331</td>\n",
       "      <td>0.273700</td>\n",
       "      <td>-0.725830</td>\n",
       "      <td>0.0</td>\n",
       "    </tr>\n",
       "    <tr>\n",
       "      <th>4</th>\n",
       "      <td>2.182414</td>\n",
       "      <td>2.521748</td>\n",
       "      <td>1.221546</td>\n",
       "      <td>-1.278361</td>\n",
       "      <td>-1.100614</td>\n",
       "      <td>-2.996554</td>\n",
       "      <td>1.960931</td>\n",
       "      <td>-2.131644</td>\n",
       "      <td>-0.970040</td>\n",
       "      <td>0.799356</td>\n",
       "      <td>0.0</td>\n",
       "    </tr>\n",
       "    <tr>\n",
       "      <th>...</th>\n",
       "      <td>...</td>\n",
       "      <td>...</td>\n",
       "      <td>...</td>\n",
       "      <td>...</td>\n",
       "      <td>...</td>\n",
       "      <td>...</td>\n",
       "      <td>...</td>\n",
       "      <td>...</td>\n",
       "      <td>...</td>\n",
       "      <td>...</td>\n",
       "      <td>...</td>\n",
       "    </tr>\n",
       "    <tr>\n",
       "      <th>14855</th>\n",
       "      <td>-0.863088</td>\n",
       "      <td>-0.776887</td>\n",
       "      <td>-1.238876</td>\n",
       "      <td>2.161122</td>\n",
       "      <td>2.121078</td>\n",
       "      <td>0.123952</td>\n",
       "      <td>-0.055393</td>\n",
       "      <td>0.331509</td>\n",
       "      <td>1.869355</td>\n",
       "      <td>0.042225</td>\n",
       "      <td>0.0</td>\n",
       "    </tr>\n",
       "    <tr>\n",
       "      <th>14856</th>\n",
       "      <td>0.761352</td>\n",
       "      <td>1.770844</td>\n",
       "      <td>1.421663</td>\n",
       "      <td>-1.420488</td>\n",
       "      <td>-1.131444</td>\n",
       "      <td>-1.076831</td>\n",
       "      <td>-1.240487</td>\n",
       "      <td>1.905757</td>\n",
       "      <td>2.388259</td>\n",
       "      <td>0.740134</td>\n",
       "      <td>0.0</td>\n",
       "    </tr>\n",
       "    <tr>\n",
       "      <th>14857</th>\n",
       "      <td>-0.187138</td>\n",
       "      <td>0.327572</td>\n",
       "      <td>0.163846</td>\n",
       "      <td>-0.806607</td>\n",
       "      <td>-1.087013</td>\n",
       "      <td>-0.313623</td>\n",
       "      <td>-0.432763</td>\n",
       "      <td>-1.133535</td>\n",
       "      <td>-0.779792</td>\n",
       "      <td>-1.483384</td>\n",
       "      <td>0.0</td>\n",
       "    </tr>\n",
       "    <tr>\n",
       "      <th>14858</th>\n",
       "      <td>-0.774251</td>\n",
       "      <td>-0.748841</td>\n",
       "      <td>-1.581359</td>\n",
       "      <td>1.970343</td>\n",
       "      <td>2.091156</td>\n",
       "      <td>-0.271319</td>\n",
       "      <td>0.195878</td>\n",
       "      <td>-0.402382</td>\n",
       "      <td>0.353241</td>\n",
       "      <td>0.367611</td>\n",
       "      <td>0.0</td>\n",
       "    </tr>\n",
       "    <tr>\n",
       "      <th>14859</th>\n",
       "      <td>2.478948</td>\n",
       "      <td>2.954190</td>\n",
       "      <td>3.058348</td>\n",
       "      <td>-1.651719</td>\n",
       "      <td>-1.589354</td>\n",
       "      <td>-2.186252</td>\n",
       "      <td>-2.570050</td>\n",
       "      <td>-2.026075</td>\n",
       "      <td>1.993444</td>\n",
       "      <td>2.398001</td>\n",
       "      <td>0.0</td>\n",
       "    </tr>\n",
       "  </tbody>\n",
       "</table>\n",
       "<p>14860 rows × 11 columns</p>\n",
       "</div>"
      ],
      "text/plain": [
       "             0         1         2         3         4         5         6   \\\n",
       "0     -0.800979 -0.367744 -0.643814  0.391636  0.308479  0.076576 -0.313410   \n",
       "1     -0.629878 -0.414517 -0.926643  0.408582  0.451746  0.143189  0.234111   \n",
       "2     -0.468850 -0.212791  0.372001 -0.579204 -0.493997  0.137535 -0.666534   \n",
       "3     -0.437437 -0.375889 -0.092540  0.318386  0.039174  0.282649  0.422695   \n",
       "4      2.182414  2.521748  1.221546 -1.278361 -1.100614 -2.996554  1.960931   \n",
       "...         ...       ...       ...       ...       ...       ...       ...   \n",
       "14855 -0.863088 -0.776887 -1.238876  2.161122  2.121078  0.123952 -0.055393   \n",
       "14856  0.761352  1.770844  1.421663 -1.420488 -1.131444 -1.076831 -1.240487   \n",
       "14857 -0.187138  0.327572  0.163846 -0.806607 -1.087013 -0.313623 -0.432763   \n",
       "14858 -0.774251 -0.748841 -1.581359  1.970343  2.091156 -0.271319  0.195878   \n",
       "14859  2.478948  2.954190  3.058348 -1.651719 -1.589354 -2.186252 -2.570050   \n",
       "\n",
       "             7         8         9    10  \n",
       "0     -0.341819  2.094222 -2.094816  0.0  \n",
       "1      0.456765  0.701133  0.510596  1.0  \n",
       "2      0.432828 -0.848336  0.641894  1.0  \n",
       "3     -0.531331  0.273700 -0.725830  0.0  \n",
       "4     -2.131644 -0.970040  0.799356  0.0  \n",
       "...         ...       ...       ...  ...  \n",
       "14855  0.331509  1.869355  0.042225  0.0  \n",
       "14856  1.905757  2.388259  0.740134  0.0  \n",
       "14857 -1.133535 -0.779792 -1.483384  0.0  \n",
       "14858 -0.402382  0.353241  0.367611  0.0  \n",
       "14859 -2.026075  1.993444  2.398001  0.0  \n",
       "\n",
       "[14860 rows x 11 columns]"
      ]
     },
     "execution_count": 27,
     "metadata": {},
     "output_type": "execute_result"
    }
   ],
   "source": [
    "data"
   ]
  },
  {
   "cell_type": "code",
   "execution_count": 28,
   "id": "4bd95f91-56ed-476e-bef4-2b839f19ab84",
   "metadata": {},
   "outputs": [
    {
     "data": {
      "text/plain": [
       "7430"
      ]
     },
     "execution_count": 28,
     "metadata": {},
     "output_type": "execute_result"
    }
   ],
   "source": [
    "len(data.groupby(10).get_group(1))"
   ]
  },
  {
   "cell_type": "code",
   "execution_count": 29,
   "id": "8af3dd0c-b8ac-492c-8d44-ddcc66f6a526",
   "metadata": {},
   "outputs": [
    {
     "data": {
      "text/plain": [
       "7430"
      ]
     },
     "execution_count": 29,
     "metadata": {},
     "output_type": "execute_result"
    }
   ],
   "source": [
    "len(data.groupby(10).get_group(0))"
   ]
  },
  {
   "cell_type": "markdown",
   "id": "5e04c0ce-2e40-4cfe-89d4-ba95131f218c",
   "metadata": {},
   "source": [
    "Jetzt müssen alle Datensets skaliert und möglicherweise Oversampled werden\n",
    "\n",
    "Dafür bietet sich eine Funktion an"
   ]
  },
  {
   "cell_type": "code",
   "execution_count": 30,
   "id": "2138c9b1-2748-44d7-bbcb-3aa9ddac8786",
   "metadata": {},
   "outputs": [],
   "source": [
    "def scale_dataset(data, oversample=False):\n",
    "    left = data[data.columns[:-1]].values\n",
    "    right = data[data.columns[-1]].values\n",
    "\n",
    "    scaler = StandardScaler()\n",
    "    left = scaler.fit_transform(left)\n",
    "\n",
    "    if oversample:\n",
    "        sampler = RandomOverSampler()\n",
    "        left, right = sampler.fit_resample(left, right)\n",
    "\n",
    "    data = np.hstack((left, np.array(right).reshape(-1, 1)))\n",
    "    return data, left, right"
   ]
  },
  {
   "cell_type": "code",
   "execution_count": 31,
   "id": "0604defb-43df-4044-9e3e-493e08b6db8a",
   "metadata": {},
   "outputs": [],
   "source": [
    "training, left_train, right_train = scale_dataset(training, True)\n",
    "validierung, left_valid, right_valid = scale_dataset(validierung, False)\n",
    "test, left_test, right_test = scale_dataset(test, False)"
   ]
  },
  {
   "cell_type": "code",
   "execution_count": 32,
   "id": "162d418d-ecb2-4276-a88a-16624847f1bf",
   "metadata": {},
   "outputs": [
    {
     "data": {
      "text/plain": [
       "7430"
      ]
     },
     "execution_count": 32,
     "metadata": {},
     "output_type": "execute_result"
    }
   ],
   "source": [
    "len(pd.DataFrame(training).groupby(10).get_group(1))"
   ]
  },
  {
   "cell_type": "code",
   "execution_count": 33,
   "id": "f3a2b133-b0c7-452a-aac8-3dd23f0a1c98",
   "metadata": {},
   "outputs": [
    {
     "data": {
      "text/plain": [
       "7430"
      ]
     },
     "execution_count": 33,
     "metadata": {},
     "output_type": "execute_result"
    }
   ],
   "source": [
    "len(pd.DataFrame(training).groupby(10).get_group(0))"
   ]
  },
  {
   "cell_type": "markdown",
   "id": "23565766-f59e-4d06-a312-2aac12afcdd1",
   "metadata": {},
   "source": [
    "## Verschiedene Algorithmen/Modelle"
   ]
  },
  {
   "cell_type": "markdown",
   "id": "26cc4387-82aa-4d40-820f-51ccccaca746",
   "metadata": {},
   "source": [
    "kNN (k-nearest Neighbors)\n",
    "- Beispiel: hat X/hat nicht X\n",
    "- Punkten werden auf einem Koordinatensystem eingetragen\n",
    "- Jeder Punkt hat eine Position\n",
    "- Unbekannte sollen jetzt klassifiziert werden anhand von bestehden Punkten (Nachbarn)\n",
    "- Es werden die nähesten Punkte gesucht und daraufhin wird gezählt wieviele A-Punkte und wieviele B-Punkte am nähesten sind\n",
    "- Die höhere Anzahl ist die neue Klasse des neuen Punkts"
   ]
  },
  {
   "cell_type": "code",
   "execution_count": 34,
   "id": "cd7084d2-8d3e-4533-913b-f37826a03879",
   "metadata": {},
   "outputs": [],
   "source": [
    "from sklearn.neighbors import KNeighborsClassifier"
   ]
  },
  {
   "cell_type": "code",
   "execution_count": 35,
   "id": "b1369b3a-54c7-49e5-8e5f-bc536ee8a381",
   "metadata": {},
   "outputs": [],
   "source": [
    "knn_model = KNeighborsClassifier(n_neighbors=5)"
   ]
  },
  {
   "cell_type": "code",
   "execution_count": 36,
   "id": "09f32447-74ba-402f-8513-5f776d2ad1fd",
   "metadata": {},
   "outputs": [
    {
     "data": {
      "text/html": [
       "<style>#sk-container-id-1 {color: black;}#sk-container-id-1 pre{padding: 0;}#sk-container-id-1 div.sk-toggleable {background-color: white;}#sk-container-id-1 label.sk-toggleable__label {cursor: pointer;display: block;width: 100%;margin-bottom: 0;padding: 0.3em;box-sizing: border-box;text-align: center;}#sk-container-id-1 label.sk-toggleable__label-arrow:before {content: \"▸\";float: left;margin-right: 0.25em;color: #696969;}#sk-container-id-1 label.sk-toggleable__label-arrow:hover:before {color: black;}#sk-container-id-1 div.sk-estimator:hover label.sk-toggleable__label-arrow:before {color: black;}#sk-container-id-1 div.sk-toggleable__content {max-height: 0;max-width: 0;overflow: hidden;text-align: left;background-color: #f0f8ff;}#sk-container-id-1 div.sk-toggleable__content pre {margin: 0.2em;color: black;border-radius: 0.25em;background-color: #f0f8ff;}#sk-container-id-1 input.sk-toggleable__control:checked~div.sk-toggleable__content {max-height: 200px;max-width: 100%;overflow: auto;}#sk-container-id-1 input.sk-toggleable__control:checked~label.sk-toggleable__label-arrow:before {content: \"▾\";}#sk-container-id-1 div.sk-estimator input.sk-toggleable__control:checked~label.sk-toggleable__label {background-color: #d4ebff;}#sk-container-id-1 div.sk-label input.sk-toggleable__control:checked~label.sk-toggleable__label {background-color: #d4ebff;}#sk-container-id-1 input.sk-hidden--visually {border: 0;clip: rect(1px 1px 1px 1px);clip: rect(1px, 1px, 1px, 1px);height: 1px;margin: -1px;overflow: hidden;padding: 0;position: absolute;width: 1px;}#sk-container-id-1 div.sk-estimator {font-family: monospace;background-color: #f0f8ff;border: 1px dotted black;border-radius: 0.25em;box-sizing: border-box;margin-bottom: 0.5em;}#sk-container-id-1 div.sk-estimator:hover {background-color: #d4ebff;}#sk-container-id-1 div.sk-parallel-item::after {content: \"\";width: 100%;border-bottom: 1px solid gray;flex-grow: 1;}#sk-container-id-1 div.sk-label:hover label.sk-toggleable__label {background-color: #d4ebff;}#sk-container-id-1 div.sk-serial::before {content: \"\";position: absolute;border-left: 1px solid gray;box-sizing: border-box;top: 0;bottom: 0;left: 50%;z-index: 0;}#sk-container-id-1 div.sk-serial {display: flex;flex-direction: column;align-items: center;background-color: white;padding-right: 0.2em;padding-left: 0.2em;position: relative;}#sk-container-id-1 div.sk-item {position: relative;z-index: 1;}#sk-container-id-1 div.sk-parallel {display: flex;align-items: stretch;justify-content: center;background-color: white;position: relative;}#sk-container-id-1 div.sk-item::before, #sk-container-id-1 div.sk-parallel-item::before {content: \"\";position: absolute;border-left: 1px solid gray;box-sizing: border-box;top: 0;bottom: 0;left: 50%;z-index: -1;}#sk-container-id-1 div.sk-parallel-item {display: flex;flex-direction: column;z-index: 1;position: relative;background-color: white;}#sk-container-id-1 div.sk-parallel-item:first-child::after {align-self: flex-end;width: 50%;}#sk-container-id-1 div.sk-parallel-item:last-child::after {align-self: flex-start;width: 50%;}#sk-container-id-1 div.sk-parallel-item:only-child::after {width: 0;}#sk-container-id-1 div.sk-dashed-wrapped {border: 1px dashed gray;margin: 0 0.4em 0.5em 0.4em;box-sizing: border-box;padding-bottom: 0.4em;background-color: white;}#sk-container-id-1 div.sk-label label {font-family: monospace;font-weight: bold;display: inline-block;line-height: 1.2em;}#sk-container-id-1 div.sk-label-container {text-align: center;}#sk-container-id-1 div.sk-container {/* jupyter's `normalize.less` sets `[hidden] { display: none; }` but bootstrap.min.css set `[hidden] { display: none !important; }` so we also need the `!important` here to be able to override the default hidden behavior on the sphinx rendered scikit-learn.org. See: https://github.com/scikit-learn/scikit-learn/issues/21755 */display: inline-block !important;position: relative;}#sk-container-id-1 div.sk-text-repr-fallback {display: none;}</style><div id=\"sk-container-id-1\" class=\"sk-top-container\"><div class=\"sk-text-repr-fallback\"><pre>KNeighborsClassifier()</pre><b>In a Jupyter environment, please rerun this cell to show the HTML representation or trust the notebook. <br />On GitHub, the HTML representation is unable to render, please try loading this page with nbviewer.org.</b></div><div class=\"sk-container\" hidden><div class=\"sk-item\"><div class=\"sk-estimator sk-toggleable\"><input class=\"sk-toggleable__control sk-hidden--visually\" id=\"sk-estimator-id-1\" type=\"checkbox\" checked><label for=\"sk-estimator-id-1\" class=\"sk-toggleable__label sk-toggleable__label-arrow\">KNeighborsClassifier</label><div class=\"sk-toggleable__content\"><pre>KNeighborsClassifier()</pre></div></div></div></div></div>"
      ],
      "text/plain": [
       "KNeighborsClassifier()"
      ]
     },
     "execution_count": 36,
     "metadata": {},
     "output_type": "execute_result"
    }
   ],
   "source": [
    "knn_model.fit(left_train, right_train)  # left_train und right_train auf das Modell anpassen, left: Daten ohne Class, right: nur die Class"
   ]
  },
  {
   "cell_type": "code",
   "execution_count": 37,
   "id": "005b14cd-cd24-4cae-bd38-b748f8d4a050",
   "metadata": {},
   "outputs": [],
   "source": [
    "right_pred = knn_model.predict(left_test)"
   ]
  },
  {
   "cell_type": "code",
   "execution_count": 38,
   "id": "bc3fb61c-689f-4eed-ad19-881724ae1d6d",
   "metadata": {},
   "outputs": [],
   "source": [
    "predictions = pd.DataFrame(np.hstack((left_test, right_pred.reshape(-1, 1), right_test.reshape(-1, 1))))"
   ]
  },
  {
   "cell_type": "code",
   "execution_count": 39,
   "id": "2a7051df-09ac-4a21-9f3f-bd59c734d845",
   "metadata": {},
   "outputs": [
    {
     "data": {
      "text/html": [
       "<div>\n",
       "<style scoped>\n",
       "    .dataframe tbody tr th:only-of-type {\n",
       "        vertical-align: middle;\n",
       "    }\n",
       "\n",
       "    .dataframe tbody tr th {\n",
       "        vertical-align: top;\n",
       "    }\n",
       "\n",
       "    .dataframe thead th {\n",
       "        text-align: right;\n",
       "    }\n",
       "</style>\n",
       "<table border=\"1\" class=\"dataframe\">\n",
       "  <thead>\n",
       "    <tr style=\"text-align: right;\">\n",
       "      <th></th>\n",
       "      <th>0</th>\n",
       "      <th>1</th>\n",
       "      <th>2</th>\n",
       "      <th>3</th>\n",
       "      <th>4</th>\n",
       "      <th>5</th>\n",
       "      <th>6</th>\n",
       "      <th>7</th>\n",
       "      <th>8</th>\n",
       "      <th>9</th>\n",
       "      <th>10</th>\n",
       "      <th>11</th>\n",
       "    </tr>\n",
       "  </thead>\n",
       "  <tbody>\n",
       "    <tr>\n",
       "      <th>0</th>\n",
       "      <td>-0.572785</td>\n",
       "      <td>-0.210295</td>\n",
       "      <td>-0.279486</td>\n",
       "      <td>-0.133721</td>\n",
       "      <td>0.072070</td>\n",
       "      <td>-0.117242</td>\n",
       "      <td>0.197719</td>\n",
       "      <td>-0.759115</td>\n",
       "      <td>-0.333016</td>\n",
       "      <td>-0.706782</td>\n",
       "      <td>0.0</td>\n",
       "      <td>1.0</td>\n",
       "    </tr>\n",
       "    <tr>\n",
       "      <th>1</th>\n",
       "      <td>-0.959919</td>\n",
       "      <td>-0.564540</td>\n",
       "      <td>-1.168856</td>\n",
       "      <td>1.788345</td>\n",
       "      <td>1.443140</td>\n",
       "      <td>-0.229956</td>\n",
       "      <td>-0.050589</td>\n",
       "      <td>0.496662</td>\n",
       "      <td>-0.463020</td>\n",
       "      <td>-0.358714</td>\n",
       "      <td>1.0</td>\n",
       "      <td>1.0</td>\n",
       "    </tr>\n",
       "    <tr>\n",
       "      <th>2</th>\n",
       "      <td>-0.189344</td>\n",
       "      <td>-0.265778</td>\n",
       "      <td>-0.181757</td>\n",
       "      <td>-0.670785</td>\n",
       "      <td>-0.676031</td>\n",
       "      <td>0.756421</td>\n",
       "      <td>0.458011</td>\n",
       "      <td>0.567576</td>\n",
       "      <td>-0.890454</td>\n",
       "      <td>-0.185688</td>\n",
       "      <td>1.0</td>\n",
       "      <td>1.0</td>\n",
       "    </tr>\n",
       "    <tr>\n",
       "      <th>3</th>\n",
       "      <td>0.635881</td>\n",
       "      <td>-0.167795</td>\n",
       "      <td>-0.032605</td>\n",
       "      <td>-0.393785</td>\n",
       "      <td>-0.540095</td>\n",
       "      <td>0.584923</td>\n",
       "      <td>1.163272</td>\n",
       "      <td>-0.397464</td>\n",
       "      <td>-0.708172</td>\n",
       "      <td>0.386860</td>\n",
       "      <td>1.0</td>\n",
       "      <td>1.0</td>\n",
       "    </tr>\n",
       "    <tr>\n",
       "      <th>4</th>\n",
       "      <td>1.079422</td>\n",
       "      <td>1.952221</td>\n",
       "      <td>2.096079</td>\n",
       "      <td>-1.071261</td>\n",
       "      <td>-0.985715</td>\n",
       "      <td>-0.582833</td>\n",
       "      <td>-1.507554</td>\n",
       "      <td>1.546605</td>\n",
       "      <td>0.120852</td>\n",
       "      <td>1.796905</td>\n",
       "      <td>0.0</td>\n",
       "      <td>0.0</td>\n",
       "    </tr>\n",
       "    <tr>\n",
       "      <th>...</th>\n",
       "      <td>...</td>\n",
       "      <td>...</td>\n",
       "      <td>...</td>\n",
       "      <td>...</td>\n",
       "      <td>...</td>\n",
       "      <td>...</td>\n",
       "      <td>...</td>\n",
       "      <td>...</td>\n",
       "      <td>...</td>\n",
       "      <td>...</td>\n",
       "      <td>...</td>\n",
       "      <td>...</td>\n",
       "    </tr>\n",
       "    <tr>\n",
       "      <th>3799</th>\n",
       "      <td>-0.563586</td>\n",
       "      <td>-0.661968</td>\n",
       "      <td>-0.882072</td>\n",
       "      <td>1.078087</td>\n",
       "      <td>0.823773</td>\n",
       "      <td>0.491733</td>\n",
       "      <td>0.234242</td>\n",
       "      <td>-0.278902</td>\n",
       "      <td>-0.551559</td>\n",
       "      <td>0.233753</td>\n",
       "      <td>0.0</td>\n",
       "      <td>1.0</td>\n",
       "    </tr>\n",
       "    <tr>\n",
       "      <th>3800</th>\n",
       "      <td>-0.505499</td>\n",
       "      <td>-0.433487</td>\n",
       "      <td>-0.642233</td>\n",
       "      <td>-0.304183</td>\n",
       "      <td>-0.323136</td>\n",
       "      <td>-0.388878</td>\n",
       "      <td>-0.500972</td>\n",
       "      <td>0.297356</td>\n",
       "      <td>-0.252232</td>\n",
       "      <td>-0.697744</td>\n",
       "      <td>1.0</td>\n",
       "      <td>1.0</td>\n",
       "    </tr>\n",
       "    <tr>\n",
       "      <th>3801</th>\n",
       "      <td>1.275486</td>\n",
       "      <td>1.428096</td>\n",
       "      <td>2.998252</td>\n",
       "      <td>-1.631818</td>\n",
       "      <td>-1.539364</td>\n",
       "      <td>-0.591273</td>\n",
       "      <td>1.405220</td>\n",
       "      <td>1.293300</td>\n",
       "      <td>-1.050565</td>\n",
       "      <td>1.760694</td>\n",
       "      <td>1.0</td>\n",
       "      <td>1.0</td>\n",
       "    </tr>\n",
       "    <tr>\n",
       "      <th>3802</th>\n",
       "      <td>-0.951904</td>\n",
       "      <td>-0.609849</td>\n",
       "      <td>-1.533523</td>\n",
       "      <td>2.016174</td>\n",
       "      <td>2.221850</td>\n",
       "      <td>0.285830</td>\n",
       "      <td>-0.336699</td>\n",
       "      <td>-0.445075</td>\n",
       "      <td>1.799931</td>\n",
       "      <td>-0.951662</td>\n",
       "      <td>1.0</td>\n",
       "      <td>1.0</td>\n",
       "    </tr>\n",
       "    <tr>\n",
       "      <th>3803</th>\n",
       "      <td>-0.252357</td>\n",
       "      <td>-0.574820</td>\n",
       "      <td>0.096491</td>\n",
       "      <td>0.055317</td>\n",
       "      <td>0.270124</td>\n",
       "      <td>0.332680</td>\n",
       "      <td>0.500323</td>\n",
       "      <td>-0.424780</td>\n",
       "      <td>-0.347393</td>\n",
       "      <td>0.628442</td>\n",
       "      <td>1.0</td>\n",
       "      <td>0.0</td>\n",
       "    </tr>\n",
       "  </tbody>\n",
       "</table>\n",
       "<p>3804 rows × 12 columns</p>\n",
       "</div>"
      ],
      "text/plain": [
       "            0         1         2         3         4         5         6   \\\n",
       "0    -0.572785 -0.210295 -0.279486 -0.133721  0.072070 -0.117242  0.197719   \n",
       "1    -0.959919 -0.564540 -1.168856  1.788345  1.443140 -0.229956 -0.050589   \n",
       "2    -0.189344 -0.265778 -0.181757 -0.670785 -0.676031  0.756421  0.458011   \n",
       "3     0.635881 -0.167795 -0.032605 -0.393785 -0.540095  0.584923  1.163272   \n",
       "4     1.079422  1.952221  2.096079 -1.071261 -0.985715 -0.582833 -1.507554   \n",
       "...        ...       ...       ...       ...       ...       ...       ...   \n",
       "3799 -0.563586 -0.661968 -0.882072  1.078087  0.823773  0.491733  0.234242   \n",
       "3800 -0.505499 -0.433487 -0.642233 -0.304183 -0.323136 -0.388878 -0.500972   \n",
       "3801  1.275486  1.428096  2.998252 -1.631818 -1.539364 -0.591273  1.405220   \n",
       "3802 -0.951904 -0.609849 -1.533523  2.016174  2.221850  0.285830 -0.336699   \n",
       "3803 -0.252357 -0.574820  0.096491  0.055317  0.270124  0.332680  0.500323   \n",
       "\n",
       "            7         8         9    10   11  \n",
       "0    -0.759115 -0.333016 -0.706782  0.0  1.0  \n",
       "1     0.496662 -0.463020 -0.358714  1.0  1.0  \n",
       "2     0.567576 -0.890454 -0.185688  1.0  1.0  \n",
       "3    -0.397464 -0.708172  0.386860  1.0  1.0  \n",
       "4     1.546605  0.120852  1.796905  0.0  0.0  \n",
       "...        ...       ...       ...  ...  ...  \n",
       "3799 -0.278902 -0.551559  0.233753  0.0  1.0  \n",
       "3800  0.297356 -0.252232 -0.697744  1.0  1.0  \n",
       "3801  1.293300 -1.050565  1.760694  1.0  1.0  \n",
       "3802 -0.445075  1.799931 -0.951662  1.0  1.0  \n",
       "3803 -0.424780 -0.347393  0.628442  1.0  0.0  \n",
       "\n",
       "[3804 rows x 12 columns]"
      ]
     },
     "execution_count": 39,
     "metadata": {},
     "output_type": "execute_result"
    }
   ],
   "source": [
    "predictions"
   ]
  },
  {
   "cell_type": "code",
   "execution_count": 40,
   "id": "1e3ef2df-f149-4ab4-87b1-5ea9ebf1a979",
   "metadata": {},
   "outputs": [
    {
     "data": {
      "text/plain": [
       "0       False\n",
       "1        True\n",
       "2        True\n",
       "3        True\n",
       "4        True\n",
       "        ...  \n",
       "3799    False\n",
       "3800     True\n",
       "3801     True\n",
       "3802     True\n",
       "3803    False\n",
       "Length: 3804, dtype: bool"
      ]
     },
     "execution_count": 40,
     "metadata": {},
     "output_type": "execute_result"
    }
   ],
   "source": [
    "predictions[10] == predictions[11]"
   ]
  },
  {
   "cell_type": "code",
   "execution_count": 41,
   "id": "a814fa61-4698-49ad-baf1-9e4e9357b191",
   "metadata": {},
   "outputs": [
    {
     "data": {
      "text/plain": [
       "3114"
      ]
     },
     "execution_count": 41,
     "metadata": {},
     "output_type": "execute_result"
    }
   ],
   "source": [
    "(predictions[10] == predictions[11]).sum()  # Anzahl True Werte"
   ]
  },
  {
   "cell_type": "code",
   "execution_count": 42,
   "id": "2aab3719-f891-4b61-affb-8e2fe7fae399",
   "metadata": {},
   "outputs": [
    {
     "data": {
      "text/plain": [
       "692"
      ]
     },
     "execution_count": 42,
     "metadata": {},
     "output_type": "execute_result"
    }
   ],
   "source": [
    "3804 - 3112  # Anzahl False Werte"
   ]
  },
  {
   "cell_type": "code",
   "execution_count": 43,
   "id": "2f4dc8df-fdac-4179-bdce-27a195addfb6",
   "metadata": {},
   "outputs": [
    {
     "data": {
      "text/plain": [
       "0.8180862250262881"
      ]
     },
     "execution_count": 43,
     "metadata": {},
     "output_type": "execute_result"
    }
   ],
   "source": [
    "3112 / 3804  # Prozentuale Genauigkeit"
   ]
  },
  {
   "cell_type": "code",
   "execution_count": 44,
   "id": "4d7d5929-093e-4b08-b8ed-210c0ae82f4b",
   "metadata": {},
   "outputs": [],
   "source": [
    "from sklearn.metrics import classification_report"
   ]
  },
  {
   "cell_type": "code",
   "execution_count": 45,
   "id": "18b10ad3-297c-4e2e-8cd3-968b2efc2b94",
   "metadata": {},
   "outputs": [
    {
     "name": "stdout",
     "output_type": "stream",
     "text": [
      "              precision    recall  f1-score   support\n",
      "\n",
      "           0       0.75      0.72      0.73      1324\n",
      "           1       0.85      0.87      0.86      2480\n",
      "\n",
      "    accuracy                           0.82      3804\n",
      "   macro avg       0.80      0.80      0.80      3804\n",
      "weighted avg       0.82      0.82      0.82      3804\n",
      "\n"
     ]
    }
   ],
   "source": [
    "print(classification_report(right_test, right_pred))"
   ]
  },
  {
   "cell_type": "code",
   "execution_count": 46,
   "id": "a5024337-4ddf-40c0-a945-2961e4b7eb99",
   "metadata": {},
   "outputs": [],
   "source": [
    "def showPrediction(left_test, right_test, right_pred):\n",
    "    data = pd.DataFrame(left_test)\n",
    "    data[\"Actual\"] = right_test\n",
    "    data[\"Prediction\"] = right_pred\n",
    "    return data"
   ]
  },
  {
   "cell_type": "code",
   "execution_count": 47,
   "id": "bbcb75e0-5358-4762-876e-34d62149258c",
   "metadata": {},
   "outputs": [
    {
     "data": {
      "text/html": [
       "<div>\n",
       "<style scoped>\n",
       "    .dataframe tbody tr th:only-of-type {\n",
       "        vertical-align: middle;\n",
       "    }\n",
       "\n",
       "    .dataframe tbody tr th {\n",
       "        vertical-align: top;\n",
       "    }\n",
       "\n",
       "    .dataframe thead th {\n",
       "        text-align: right;\n",
       "    }\n",
       "</style>\n",
       "<table border=\"1\" class=\"dataframe\">\n",
       "  <thead>\n",
       "    <tr style=\"text-align: right;\">\n",
       "      <th></th>\n",
       "      <th>0</th>\n",
       "      <th>1</th>\n",
       "      <th>2</th>\n",
       "      <th>3</th>\n",
       "      <th>4</th>\n",
       "      <th>5</th>\n",
       "      <th>6</th>\n",
       "      <th>7</th>\n",
       "      <th>8</th>\n",
       "      <th>9</th>\n",
       "      <th>Actual</th>\n",
       "      <th>Prediction</th>\n",
       "    </tr>\n",
       "  </thead>\n",
       "  <tbody>\n",
       "    <tr>\n",
       "      <th>0</th>\n",
       "      <td>-0.572785</td>\n",
       "      <td>-0.210295</td>\n",
       "      <td>-0.279486</td>\n",
       "      <td>-0.133721</td>\n",
       "      <td>0.072070</td>\n",
       "      <td>-0.117242</td>\n",
       "      <td>0.197719</td>\n",
       "      <td>-0.759115</td>\n",
       "      <td>-0.333016</td>\n",
       "      <td>-0.706782</td>\n",
       "      <td>1</td>\n",
       "      <td>0</td>\n",
       "    </tr>\n",
       "    <tr>\n",
       "      <th>1</th>\n",
       "      <td>-0.959919</td>\n",
       "      <td>-0.564540</td>\n",
       "      <td>-1.168856</td>\n",
       "      <td>1.788345</td>\n",
       "      <td>1.443140</td>\n",
       "      <td>-0.229956</td>\n",
       "      <td>-0.050589</td>\n",
       "      <td>0.496662</td>\n",
       "      <td>-0.463020</td>\n",
       "      <td>-0.358714</td>\n",
       "      <td>1</td>\n",
       "      <td>1</td>\n",
       "    </tr>\n",
       "    <tr>\n",
       "      <th>2</th>\n",
       "      <td>-0.189344</td>\n",
       "      <td>-0.265778</td>\n",
       "      <td>-0.181757</td>\n",
       "      <td>-0.670785</td>\n",
       "      <td>-0.676031</td>\n",
       "      <td>0.756421</td>\n",
       "      <td>0.458011</td>\n",
       "      <td>0.567576</td>\n",
       "      <td>-0.890454</td>\n",
       "      <td>-0.185688</td>\n",
       "      <td>1</td>\n",
       "      <td>1</td>\n",
       "    </tr>\n",
       "    <tr>\n",
       "      <th>3</th>\n",
       "      <td>0.635881</td>\n",
       "      <td>-0.167795</td>\n",
       "      <td>-0.032605</td>\n",
       "      <td>-0.393785</td>\n",
       "      <td>-0.540095</td>\n",
       "      <td>0.584923</td>\n",
       "      <td>1.163272</td>\n",
       "      <td>-0.397464</td>\n",
       "      <td>-0.708172</td>\n",
       "      <td>0.386860</td>\n",
       "      <td>1</td>\n",
       "      <td>1</td>\n",
       "    </tr>\n",
       "    <tr>\n",
       "      <th>4</th>\n",
       "      <td>1.079422</td>\n",
       "      <td>1.952221</td>\n",
       "      <td>2.096079</td>\n",
       "      <td>-1.071261</td>\n",
       "      <td>-0.985715</td>\n",
       "      <td>-0.582833</td>\n",
       "      <td>-1.507554</td>\n",
       "      <td>1.546605</td>\n",
       "      <td>0.120852</td>\n",
       "      <td>1.796905</td>\n",
       "      <td>0</td>\n",
       "      <td>0</td>\n",
       "    </tr>\n",
       "    <tr>\n",
       "      <th>...</th>\n",
       "      <td>...</td>\n",
       "      <td>...</td>\n",
       "      <td>...</td>\n",
       "      <td>...</td>\n",
       "      <td>...</td>\n",
       "      <td>...</td>\n",
       "      <td>...</td>\n",
       "      <td>...</td>\n",
       "      <td>...</td>\n",
       "      <td>...</td>\n",
       "      <td>...</td>\n",
       "      <td>...</td>\n",
       "    </tr>\n",
       "    <tr>\n",
       "      <th>3799</th>\n",
       "      <td>-0.563586</td>\n",
       "      <td>-0.661968</td>\n",
       "      <td>-0.882072</td>\n",
       "      <td>1.078087</td>\n",
       "      <td>0.823773</td>\n",
       "      <td>0.491733</td>\n",
       "      <td>0.234242</td>\n",
       "      <td>-0.278902</td>\n",
       "      <td>-0.551559</td>\n",
       "      <td>0.233753</td>\n",
       "      <td>1</td>\n",
       "      <td>0</td>\n",
       "    </tr>\n",
       "    <tr>\n",
       "      <th>3800</th>\n",
       "      <td>-0.505499</td>\n",
       "      <td>-0.433487</td>\n",
       "      <td>-0.642233</td>\n",
       "      <td>-0.304183</td>\n",
       "      <td>-0.323136</td>\n",
       "      <td>-0.388878</td>\n",
       "      <td>-0.500972</td>\n",
       "      <td>0.297356</td>\n",
       "      <td>-0.252232</td>\n",
       "      <td>-0.697744</td>\n",
       "      <td>1</td>\n",
       "      <td>1</td>\n",
       "    </tr>\n",
       "    <tr>\n",
       "      <th>3801</th>\n",
       "      <td>1.275486</td>\n",
       "      <td>1.428096</td>\n",
       "      <td>2.998252</td>\n",
       "      <td>-1.631818</td>\n",
       "      <td>-1.539364</td>\n",
       "      <td>-0.591273</td>\n",
       "      <td>1.405220</td>\n",
       "      <td>1.293300</td>\n",
       "      <td>-1.050565</td>\n",
       "      <td>1.760694</td>\n",
       "      <td>1</td>\n",
       "      <td>1</td>\n",
       "    </tr>\n",
       "    <tr>\n",
       "      <th>3802</th>\n",
       "      <td>-0.951904</td>\n",
       "      <td>-0.609849</td>\n",
       "      <td>-1.533523</td>\n",
       "      <td>2.016174</td>\n",
       "      <td>2.221850</td>\n",
       "      <td>0.285830</td>\n",
       "      <td>-0.336699</td>\n",
       "      <td>-0.445075</td>\n",
       "      <td>1.799931</td>\n",
       "      <td>-0.951662</td>\n",
       "      <td>1</td>\n",
       "      <td>1</td>\n",
       "    </tr>\n",
       "    <tr>\n",
       "      <th>3803</th>\n",
       "      <td>-0.252357</td>\n",
       "      <td>-0.574820</td>\n",
       "      <td>0.096491</td>\n",
       "      <td>0.055317</td>\n",
       "      <td>0.270124</td>\n",
       "      <td>0.332680</td>\n",
       "      <td>0.500323</td>\n",
       "      <td>-0.424780</td>\n",
       "      <td>-0.347393</td>\n",
       "      <td>0.628442</td>\n",
       "      <td>0</td>\n",
       "      <td>1</td>\n",
       "    </tr>\n",
       "  </tbody>\n",
       "</table>\n",
       "<p>3804 rows × 12 columns</p>\n",
       "</div>"
      ],
      "text/plain": [
       "             0         1         2         3         4         5         6  \\\n",
       "0    -0.572785 -0.210295 -0.279486 -0.133721  0.072070 -0.117242  0.197719   \n",
       "1    -0.959919 -0.564540 -1.168856  1.788345  1.443140 -0.229956 -0.050589   \n",
       "2    -0.189344 -0.265778 -0.181757 -0.670785 -0.676031  0.756421  0.458011   \n",
       "3     0.635881 -0.167795 -0.032605 -0.393785 -0.540095  0.584923  1.163272   \n",
       "4     1.079422  1.952221  2.096079 -1.071261 -0.985715 -0.582833 -1.507554   \n",
       "...        ...       ...       ...       ...       ...       ...       ...   \n",
       "3799 -0.563586 -0.661968 -0.882072  1.078087  0.823773  0.491733  0.234242   \n",
       "3800 -0.505499 -0.433487 -0.642233 -0.304183 -0.323136 -0.388878 -0.500972   \n",
       "3801  1.275486  1.428096  2.998252 -1.631818 -1.539364 -0.591273  1.405220   \n",
       "3802 -0.951904 -0.609849 -1.533523  2.016174  2.221850  0.285830 -0.336699   \n",
       "3803 -0.252357 -0.574820  0.096491  0.055317  0.270124  0.332680  0.500323   \n",
       "\n",
       "             7         8         9  Actual  Prediction  \n",
       "0    -0.759115 -0.333016 -0.706782       1           0  \n",
       "1     0.496662 -0.463020 -0.358714       1           1  \n",
       "2     0.567576 -0.890454 -0.185688       1           1  \n",
       "3    -0.397464 -0.708172  0.386860       1           1  \n",
       "4     1.546605  0.120852  1.796905       0           0  \n",
       "...        ...       ...       ...     ...         ...  \n",
       "3799 -0.278902 -0.551559  0.233753       1           0  \n",
       "3800  0.297356 -0.252232 -0.697744       1           1  \n",
       "3801  1.293300 -1.050565  1.760694       1           1  \n",
       "3802 -0.445075  1.799931 -0.951662       1           1  \n",
       "3803 -0.424780 -0.347393  0.628442       0           1  \n",
       "\n",
       "[3804 rows x 12 columns]"
      ]
     },
     "execution_count": 47,
     "metadata": {},
     "output_type": "execute_result"
    }
   ],
   "source": [
    "showPrediction(left_test, right_test, right_pred)"
   ]
  },
  {
   "cell_type": "code",
   "execution_count": 48,
   "id": "c83d4de6-ae27-41ce-8eab-43edb98e9b48",
   "metadata": {},
   "outputs": [],
   "source": [
    "def eval(data):\n",
    "    counts = (data[\"Actual\"] == data[\"Prediction\"]).value_counts()\n",
    "    print(f\"Accuracy: {counts[True] / len(data)}\")\n",
    "    print(f\"Wrong Points: {counts[False] / len(data)}\")"
   ]
  },
  {
   "cell_type": "code",
   "execution_count": 49,
   "id": "86863e1b-1fe4-461a-a9fb-a600d020e981",
   "metadata": {},
   "outputs": [
    {
     "name": "stdout",
     "output_type": "stream",
     "text": [
      "Accuracy: 0.8186119873817035\n",
      "Wrong Points: 0.18138801261829654\n"
     ]
    }
   ],
   "source": [
    "eval(showPrediction(left_test, right_test, right_pred))"
   ]
  },
  {
   "cell_type": "markdown",
   "id": "e896b7bd-18c9-413b-8f9e-ee8a2e690bf9",
   "metadata": {},
   "source": [
    "## Naive Bayes\n",
    "\n",
    "- Klassifizierung findet über Wahrscheinlichkeiten statt\n",
    "- Bei jedem Datensatz wird Ja/Nein festgelegt\n",
    "- Wenn die Wahrschlichkeit 50% überschreitet, wird der Datensatz auf die eine Klasse klassifiziert, sonst die andere"
   ]
  },
  {
   "cell_type": "code",
   "execution_count": 50,
   "id": "12a2442e-4653-4a40-95ee-28baced9f921",
   "metadata": {},
   "outputs": [],
   "source": [
    "from sklearn.naive_bayes import GaussianNB"
   ]
  },
  {
   "cell_type": "code",
   "execution_count": 51,
   "id": "8b4d1121-743f-4c67-9dcf-2cebc51648f8",
   "metadata": {},
   "outputs": [],
   "source": [
    "nb_model = GaussianNB()"
   ]
  },
  {
   "cell_type": "code",
   "execution_count": 52,
   "id": "efea1c53-efb9-4e39-b779-fc5cbbd9f1b3",
   "metadata": {},
   "outputs": [
    {
     "data": {
      "text/html": [
       "<style>#sk-container-id-2 {color: black;}#sk-container-id-2 pre{padding: 0;}#sk-container-id-2 div.sk-toggleable {background-color: white;}#sk-container-id-2 label.sk-toggleable__label {cursor: pointer;display: block;width: 100%;margin-bottom: 0;padding: 0.3em;box-sizing: border-box;text-align: center;}#sk-container-id-2 label.sk-toggleable__label-arrow:before {content: \"▸\";float: left;margin-right: 0.25em;color: #696969;}#sk-container-id-2 label.sk-toggleable__label-arrow:hover:before {color: black;}#sk-container-id-2 div.sk-estimator:hover label.sk-toggleable__label-arrow:before {color: black;}#sk-container-id-2 div.sk-toggleable__content {max-height: 0;max-width: 0;overflow: hidden;text-align: left;background-color: #f0f8ff;}#sk-container-id-2 div.sk-toggleable__content pre {margin: 0.2em;color: black;border-radius: 0.25em;background-color: #f0f8ff;}#sk-container-id-2 input.sk-toggleable__control:checked~div.sk-toggleable__content {max-height: 200px;max-width: 100%;overflow: auto;}#sk-container-id-2 input.sk-toggleable__control:checked~label.sk-toggleable__label-arrow:before {content: \"▾\";}#sk-container-id-2 div.sk-estimator input.sk-toggleable__control:checked~label.sk-toggleable__label {background-color: #d4ebff;}#sk-container-id-2 div.sk-label input.sk-toggleable__control:checked~label.sk-toggleable__label {background-color: #d4ebff;}#sk-container-id-2 input.sk-hidden--visually {border: 0;clip: rect(1px 1px 1px 1px);clip: rect(1px, 1px, 1px, 1px);height: 1px;margin: -1px;overflow: hidden;padding: 0;position: absolute;width: 1px;}#sk-container-id-2 div.sk-estimator {font-family: monospace;background-color: #f0f8ff;border: 1px dotted black;border-radius: 0.25em;box-sizing: border-box;margin-bottom: 0.5em;}#sk-container-id-2 div.sk-estimator:hover {background-color: #d4ebff;}#sk-container-id-2 div.sk-parallel-item::after {content: \"\";width: 100%;border-bottom: 1px solid gray;flex-grow: 1;}#sk-container-id-2 div.sk-label:hover label.sk-toggleable__label {background-color: #d4ebff;}#sk-container-id-2 div.sk-serial::before {content: \"\";position: absolute;border-left: 1px solid gray;box-sizing: border-box;top: 0;bottom: 0;left: 50%;z-index: 0;}#sk-container-id-2 div.sk-serial {display: flex;flex-direction: column;align-items: center;background-color: white;padding-right: 0.2em;padding-left: 0.2em;position: relative;}#sk-container-id-2 div.sk-item {position: relative;z-index: 1;}#sk-container-id-2 div.sk-parallel {display: flex;align-items: stretch;justify-content: center;background-color: white;position: relative;}#sk-container-id-2 div.sk-item::before, #sk-container-id-2 div.sk-parallel-item::before {content: \"\";position: absolute;border-left: 1px solid gray;box-sizing: border-box;top: 0;bottom: 0;left: 50%;z-index: -1;}#sk-container-id-2 div.sk-parallel-item {display: flex;flex-direction: column;z-index: 1;position: relative;background-color: white;}#sk-container-id-2 div.sk-parallel-item:first-child::after {align-self: flex-end;width: 50%;}#sk-container-id-2 div.sk-parallel-item:last-child::after {align-self: flex-start;width: 50%;}#sk-container-id-2 div.sk-parallel-item:only-child::after {width: 0;}#sk-container-id-2 div.sk-dashed-wrapped {border: 1px dashed gray;margin: 0 0.4em 0.5em 0.4em;box-sizing: border-box;padding-bottom: 0.4em;background-color: white;}#sk-container-id-2 div.sk-label label {font-family: monospace;font-weight: bold;display: inline-block;line-height: 1.2em;}#sk-container-id-2 div.sk-label-container {text-align: center;}#sk-container-id-2 div.sk-container {/* jupyter's `normalize.less` sets `[hidden] { display: none; }` but bootstrap.min.css set `[hidden] { display: none !important; }` so we also need the `!important` here to be able to override the default hidden behavior on the sphinx rendered scikit-learn.org. See: https://github.com/scikit-learn/scikit-learn/issues/21755 */display: inline-block !important;position: relative;}#sk-container-id-2 div.sk-text-repr-fallback {display: none;}</style><div id=\"sk-container-id-2\" class=\"sk-top-container\"><div class=\"sk-text-repr-fallback\"><pre>GaussianNB()</pre><b>In a Jupyter environment, please rerun this cell to show the HTML representation or trust the notebook. <br />On GitHub, the HTML representation is unable to render, please try loading this page with nbviewer.org.</b></div><div class=\"sk-container\" hidden><div class=\"sk-item\"><div class=\"sk-estimator sk-toggleable\"><input class=\"sk-toggleable__control sk-hidden--visually\" id=\"sk-estimator-id-2\" type=\"checkbox\" checked><label for=\"sk-estimator-id-2\" class=\"sk-toggleable__label sk-toggleable__label-arrow\">GaussianNB</label><div class=\"sk-toggleable__content\"><pre>GaussianNB()</pre></div></div></div></div></div>"
      ],
      "text/plain": [
       "GaussianNB()"
      ]
     },
     "execution_count": 52,
     "metadata": {},
     "output_type": "execute_result"
    }
   ],
   "source": [
    "nb_model.fit(left_train, right_train)"
   ]
  },
  {
   "cell_type": "code",
   "execution_count": 53,
   "id": "de0cdaeb-3ec1-4122-a611-f8a024a294fc",
   "metadata": {},
   "outputs": [],
   "source": [
    "right_pred = nb_model.predict(left_test)"
   ]
  },
  {
   "cell_type": "code",
   "execution_count": 54,
   "id": "72cfeb67-99c4-4984-a2b2-79f94e939141",
   "metadata": {},
   "outputs": [],
   "source": [
    "predictions = showPrediction(left_test, right_test, right_pred)"
   ]
  },
  {
   "cell_type": "code",
   "execution_count": 55,
   "id": "3c19f653-4e68-445f-8a58-8aed51e303cf",
   "metadata": {},
   "outputs": [
    {
     "data": {
      "text/html": [
       "<div>\n",
       "<style scoped>\n",
       "    .dataframe tbody tr th:only-of-type {\n",
       "        vertical-align: middle;\n",
       "    }\n",
       "\n",
       "    .dataframe tbody tr th {\n",
       "        vertical-align: top;\n",
       "    }\n",
       "\n",
       "    .dataframe thead th {\n",
       "        text-align: right;\n",
       "    }\n",
       "</style>\n",
       "<table border=\"1\" class=\"dataframe\">\n",
       "  <thead>\n",
       "    <tr style=\"text-align: right;\">\n",
       "      <th></th>\n",
       "      <th>0</th>\n",
       "      <th>1</th>\n",
       "      <th>2</th>\n",
       "      <th>3</th>\n",
       "      <th>4</th>\n",
       "      <th>5</th>\n",
       "      <th>6</th>\n",
       "      <th>7</th>\n",
       "      <th>8</th>\n",
       "      <th>9</th>\n",
       "      <th>Actual</th>\n",
       "      <th>Prediction</th>\n",
       "    </tr>\n",
       "  </thead>\n",
       "  <tbody>\n",
       "    <tr>\n",
       "      <th>0</th>\n",
       "      <td>-0.572785</td>\n",
       "      <td>-0.210295</td>\n",
       "      <td>-0.279486</td>\n",
       "      <td>-0.133721</td>\n",
       "      <td>0.072070</td>\n",
       "      <td>-0.117242</td>\n",
       "      <td>0.197719</td>\n",
       "      <td>-0.759115</td>\n",
       "      <td>-0.333016</td>\n",
       "      <td>-0.706782</td>\n",
       "      <td>1</td>\n",
       "      <td>1</td>\n",
       "    </tr>\n",
       "    <tr>\n",
       "      <th>1</th>\n",
       "      <td>-0.959919</td>\n",
       "      <td>-0.564540</td>\n",
       "      <td>-1.168856</td>\n",
       "      <td>1.788345</td>\n",
       "      <td>1.443140</td>\n",
       "      <td>-0.229956</td>\n",
       "      <td>-0.050589</td>\n",
       "      <td>0.496662</td>\n",
       "      <td>-0.463020</td>\n",
       "      <td>-0.358714</td>\n",
       "      <td>1</td>\n",
       "      <td>1</td>\n",
       "    </tr>\n",
       "    <tr>\n",
       "      <th>2</th>\n",
       "      <td>-0.189344</td>\n",
       "      <td>-0.265778</td>\n",
       "      <td>-0.181757</td>\n",
       "      <td>-0.670785</td>\n",
       "      <td>-0.676031</td>\n",
       "      <td>0.756421</td>\n",
       "      <td>0.458011</td>\n",
       "      <td>0.567576</td>\n",
       "      <td>-0.890454</td>\n",
       "      <td>-0.185688</td>\n",
       "      <td>1</td>\n",
       "      <td>1</td>\n",
       "    </tr>\n",
       "    <tr>\n",
       "      <th>3</th>\n",
       "      <td>0.635881</td>\n",
       "      <td>-0.167795</td>\n",
       "      <td>-0.032605</td>\n",
       "      <td>-0.393785</td>\n",
       "      <td>-0.540095</td>\n",
       "      <td>0.584923</td>\n",
       "      <td>1.163272</td>\n",
       "      <td>-0.397464</td>\n",
       "      <td>-0.708172</td>\n",
       "      <td>0.386860</td>\n",
       "      <td>1</td>\n",
       "      <td>1</td>\n",
       "    </tr>\n",
       "    <tr>\n",
       "      <th>4</th>\n",
       "      <td>1.079422</td>\n",
       "      <td>1.952221</td>\n",
       "      <td>2.096079</td>\n",
       "      <td>-1.071261</td>\n",
       "      <td>-0.985715</td>\n",
       "      <td>-0.582833</td>\n",
       "      <td>-1.507554</td>\n",
       "      <td>1.546605</td>\n",
       "      <td>0.120852</td>\n",
       "      <td>1.796905</td>\n",
       "      <td>0</td>\n",
       "      <td>0</td>\n",
       "    </tr>\n",
       "    <tr>\n",
       "      <th>...</th>\n",
       "      <td>...</td>\n",
       "      <td>...</td>\n",
       "      <td>...</td>\n",
       "      <td>...</td>\n",
       "      <td>...</td>\n",
       "      <td>...</td>\n",
       "      <td>...</td>\n",
       "      <td>...</td>\n",
       "      <td>...</td>\n",
       "      <td>...</td>\n",
       "      <td>...</td>\n",
       "      <td>...</td>\n",
       "    </tr>\n",
       "    <tr>\n",
       "      <th>3799</th>\n",
       "      <td>-0.563586</td>\n",
       "      <td>-0.661968</td>\n",
       "      <td>-0.882072</td>\n",
       "      <td>1.078087</td>\n",
       "      <td>0.823773</td>\n",
       "      <td>0.491733</td>\n",
       "      <td>0.234242</td>\n",
       "      <td>-0.278902</td>\n",
       "      <td>-0.551559</td>\n",
       "      <td>0.233753</td>\n",
       "      <td>1</td>\n",
       "      <td>1</td>\n",
       "    </tr>\n",
       "    <tr>\n",
       "      <th>3800</th>\n",
       "      <td>-0.505499</td>\n",
       "      <td>-0.433487</td>\n",
       "      <td>-0.642233</td>\n",
       "      <td>-0.304183</td>\n",
       "      <td>-0.323136</td>\n",
       "      <td>-0.388878</td>\n",
       "      <td>-0.500972</td>\n",
       "      <td>0.297356</td>\n",
       "      <td>-0.252232</td>\n",
       "      <td>-0.697744</td>\n",
       "      <td>1</td>\n",
       "      <td>1</td>\n",
       "    </tr>\n",
       "    <tr>\n",
       "      <th>3801</th>\n",
       "      <td>1.275486</td>\n",
       "      <td>1.428096</td>\n",
       "      <td>2.998252</td>\n",
       "      <td>-1.631818</td>\n",
       "      <td>-1.539364</td>\n",
       "      <td>-0.591273</td>\n",
       "      <td>1.405220</td>\n",
       "      <td>1.293300</td>\n",
       "      <td>-1.050565</td>\n",
       "      <td>1.760694</td>\n",
       "      <td>1</td>\n",
       "      <td>0</td>\n",
       "    </tr>\n",
       "    <tr>\n",
       "      <th>3802</th>\n",
       "      <td>-0.951904</td>\n",
       "      <td>-0.609849</td>\n",
       "      <td>-1.533523</td>\n",
       "      <td>2.016174</td>\n",
       "      <td>2.221850</td>\n",
       "      <td>0.285830</td>\n",
       "      <td>-0.336699</td>\n",
       "      <td>-0.445075</td>\n",
       "      <td>1.799931</td>\n",
       "      <td>-0.951662</td>\n",
       "      <td>1</td>\n",
       "      <td>1</td>\n",
       "    </tr>\n",
       "    <tr>\n",
       "      <th>3803</th>\n",
       "      <td>-0.252357</td>\n",
       "      <td>-0.574820</td>\n",
       "      <td>0.096491</td>\n",
       "      <td>0.055317</td>\n",
       "      <td>0.270124</td>\n",
       "      <td>0.332680</td>\n",
       "      <td>0.500323</td>\n",
       "      <td>-0.424780</td>\n",
       "      <td>-0.347393</td>\n",
       "      <td>0.628442</td>\n",
       "      <td>0</td>\n",
       "      <td>1</td>\n",
       "    </tr>\n",
       "  </tbody>\n",
       "</table>\n",
       "<p>3804 rows × 12 columns</p>\n",
       "</div>"
      ],
      "text/plain": [
       "             0         1         2         3         4         5         6  \\\n",
       "0    -0.572785 -0.210295 -0.279486 -0.133721  0.072070 -0.117242  0.197719   \n",
       "1    -0.959919 -0.564540 -1.168856  1.788345  1.443140 -0.229956 -0.050589   \n",
       "2    -0.189344 -0.265778 -0.181757 -0.670785 -0.676031  0.756421  0.458011   \n",
       "3     0.635881 -0.167795 -0.032605 -0.393785 -0.540095  0.584923  1.163272   \n",
       "4     1.079422  1.952221  2.096079 -1.071261 -0.985715 -0.582833 -1.507554   \n",
       "...        ...       ...       ...       ...       ...       ...       ...   \n",
       "3799 -0.563586 -0.661968 -0.882072  1.078087  0.823773  0.491733  0.234242   \n",
       "3800 -0.505499 -0.433487 -0.642233 -0.304183 -0.323136 -0.388878 -0.500972   \n",
       "3801  1.275486  1.428096  2.998252 -1.631818 -1.539364 -0.591273  1.405220   \n",
       "3802 -0.951904 -0.609849 -1.533523  2.016174  2.221850  0.285830 -0.336699   \n",
       "3803 -0.252357 -0.574820  0.096491  0.055317  0.270124  0.332680  0.500323   \n",
       "\n",
       "             7         8         9  Actual  Prediction  \n",
       "0    -0.759115 -0.333016 -0.706782       1           1  \n",
       "1     0.496662 -0.463020 -0.358714       1           1  \n",
       "2     0.567576 -0.890454 -0.185688       1           1  \n",
       "3    -0.397464 -0.708172  0.386860       1           1  \n",
       "4     1.546605  0.120852  1.796905       0           0  \n",
       "...        ...       ...       ...     ...         ...  \n",
       "3799 -0.278902 -0.551559  0.233753       1           1  \n",
       "3800  0.297356 -0.252232 -0.697744       1           1  \n",
       "3801  1.293300 -1.050565  1.760694       1           0  \n",
       "3802 -0.445075  1.799931 -0.951662       1           1  \n",
       "3803 -0.424780 -0.347393  0.628442       0           1  \n",
       "\n",
       "[3804 rows x 12 columns]"
      ]
     },
     "execution_count": 55,
     "metadata": {},
     "output_type": "execute_result"
    }
   ],
   "source": [
    "predictions"
   ]
  },
  {
   "cell_type": "code",
   "execution_count": 56,
   "id": "736a1a36-7779-4e91-8fff-8190358b526b",
   "metadata": {},
   "outputs": [
    {
     "name": "stdout",
     "output_type": "stream",
     "text": [
      "Accuracy: 0.7250262881177708\n",
      "Wrong Points: 0.27497371188222924\n"
     ]
    }
   ],
   "source": [
    "eval(predictions)"
   ]
  },
  {
   "cell_type": "markdown",
   "id": "94c0871c-90bd-4c8e-8ab8-8637de613400",
   "metadata": {},
   "source": [
    "## Logistische Regression\n",
    "\n",
    "Die Datenpunkte werden anhand von Wahrscheinlichkeiten auf einer bestimmten Höhe positioniert.\n",
    "\n",
    "Wenn ein Datenpunkt über dem festgelegten Schwellwert ist, wird dieser als X klassifiziert, sonst Y"
   ]
  },
  {
   "cell_type": "code",
   "execution_count": 57,
   "id": "d0563f0f-c726-4e27-8470-5ad0699d5f00",
   "metadata": {},
   "outputs": [],
   "source": [
    "from sklearn.linear_model import LogisticRegression"
   ]
  },
  {
   "cell_type": "code",
   "execution_count": 58,
   "id": "4c15c16d-c55e-4e57-aa88-ba9506426b52",
   "metadata": {},
   "outputs": [],
   "source": [
    "lr_model = LogisticRegression()"
   ]
  },
  {
   "cell_type": "code",
   "execution_count": 59,
   "id": "7fb6ff67-5523-4c1f-bac6-cfd28cdd7198",
   "metadata": {},
   "outputs": [
    {
     "data": {
      "text/html": [
       "<style>#sk-container-id-3 {color: black;}#sk-container-id-3 pre{padding: 0;}#sk-container-id-3 div.sk-toggleable {background-color: white;}#sk-container-id-3 label.sk-toggleable__label {cursor: pointer;display: block;width: 100%;margin-bottom: 0;padding: 0.3em;box-sizing: border-box;text-align: center;}#sk-container-id-3 label.sk-toggleable__label-arrow:before {content: \"▸\";float: left;margin-right: 0.25em;color: #696969;}#sk-container-id-3 label.sk-toggleable__label-arrow:hover:before {color: black;}#sk-container-id-3 div.sk-estimator:hover label.sk-toggleable__label-arrow:before {color: black;}#sk-container-id-3 div.sk-toggleable__content {max-height: 0;max-width: 0;overflow: hidden;text-align: left;background-color: #f0f8ff;}#sk-container-id-3 div.sk-toggleable__content pre {margin: 0.2em;color: black;border-radius: 0.25em;background-color: #f0f8ff;}#sk-container-id-3 input.sk-toggleable__control:checked~div.sk-toggleable__content {max-height: 200px;max-width: 100%;overflow: auto;}#sk-container-id-3 input.sk-toggleable__control:checked~label.sk-toggleable__label-arrow:before {content: \"▾\";}#sk-container-id-3 div.sk-estimator input.sk-toggleable__control:checked~label.sk-toggleable__label {background-color: #d4ebff;}#sk-container-id-3 div.sk-label input.sk-toggleable__control:checked~label.sk-toggleable__label {background-color: #d4ebff;}#sk-container-id-3 input.sk-hidden--visually {border: 0;clip: rect(1px 1px 1px 1px);clip: rect(1px, 1px, 1px, 1px);height: 1px;margin: -1px;overflow: hidden;padding: 0;position: absolute;width: 1px;}#sk-container-id-3 div.sk-estimator {font-family: monospace;background-color: #f0f8ff;border: 1px dotted black;border-radius: 0.25em;box-sizing: border-box;margin-bottom: 0.5em;}#sk-container-id-3 div.sk-estimator:hover {background-color: #d4ebff;}#sk-container-id-3 div.sk-parallel-item::after {content: \"\";width: 100%;border-bottom: 1px solid gray;flex-grow: 1;}#sk-container-id-3 div.sk-label:hover label.sk-toggleable__label {background-color: #d4ebff;}#sk-container-id-3 div.sk-serial::before {content: \"\";position: absolute;border-left: 1px solid gray;box-sizing: border-box;top: 0;bottom: 0;left: 50%;z-index: 0;}#sk-container-id-3 div.sk-serial {display: flex;flex-direction: column;align-items: center;background-color: white;padding-right: 0.2em;padding-left: 0.2em;position: relative;}#sk-container-id-3 div.sk-item {position: relative;z-index: 1;}#sk-container-id-3 div.sk-parallel {display: flex;align-items: stretch;justify-content: center;background-color: white;position: relative;}#sk-container-id-3 div.sk-item::before, #sk-container-id-3 div.sk-parallel-item::before {content: \"\";position: absolute;border-left: 1px solid gray;box-sizing: border-box;top: 0;bottom: 0;left: 50%;z-index: -1;}#sk-container-id-3 div.sk-parallel-item {display: flex;flex-direction: column;z-index: 1;position: relative;background-color: white;}#sk-container-id-3 div.sk-parallel-item:first-child::after {align-self: flex-end;width: 50%;}#sk-container-id-3 div.sk-parallel-item:last-child::after {align-self: flex-start;width: 50%;}#sk-container-id-3 div.sk-parallel-item:only-child::after {width: 0;}#sk-container-id-3 div.sk-dashed-wrapped {border: 1px dashed gray;margin: 0 0.4em 0.5em 0.4em;box-sizing: border-box;padding-bottom: 0.4em;background-color: white;}#sk-container-id-3 div.sk-label label {font-family: monospace;font-weight: bold;display: inline-block;line-height: 1.2em;}#sk-container-id-3 div.sk-label-container {text-align: center;}#sk-container-id-3 div.sk-container {/* jupyter's `normalize.less` sets `[hidden] { display: none; }` but bootstrap.min.css set `[hidden] { display: none !important; }` so we also need the `!important` here to be able to override the default hidden behavior on the sphinx rendered scikit-learn.org. See: https://github.com/scikit-learn/scikit-learn/issues/21755 */display: inline-block !important;position: relative;}#sk-container-id-3 div.sk-text-repr-fallback {display: none;}</style><div id=\"sk-container-id-3\" class=\"sk-top-container\"><div class=\"sk-text-repr-fallback\"><pre>LogisticRegression()</pre><b>In a Jupyter environment, please rerun this cell to show the HTML representation or trust the notebook. <br />On GitHub, the HTML representation is unable to render, please try loading this page with nbviewer.org.</b></div><div class=\"sk-container\" hidden><div class=\"sk-item\"><div class=\"sk-estimator sk-toggleable\"><input class=\"sk-toggleable__control sk-hidden--visually\" id=\"sk-estimator-id-3\" type=\"checkbox\" checked><label for=\"sk-estimator-id-3\" class=\"sk-toggleable__label sk-toggleable__label-arrow\">LogisticRegression</label><div class=\"sk-toggleable__content\"><pre>LogisticRegression()</pre></div></div></div></div></div>"
      ],
      "text/plain": [
       "LogisticRegression()"
      ]
     },
     "execution_count": 59,
     "metadata": {},
     "output_type": "execute_result"
    }
   ],
   "source": [
    "lr_model.fit(left_train, right_train)"
   ]
  },
  {
   "cell_type": "code",
   "execution_count": 60,
   "id": "34a9dc2f-f803-40e8-986d-9b24f9185e63",
   "metadata": {},
   "outputs": [],
   "source": [
    "right_pred = lr_model.predict(left_test)"
   ]
  },
  {
   "cell_type": "code",
   "execution_count": 61,
   "id": "9ea8bf0a-bea0-46ef-bd94-c4508b490dae",
   "metadata": {},
   "outputs": [],
   "source": [
    "predictions = showPrediction(left_test, right_test, right_pred)"
   ]
  },
  {
   "cell_type": "code",
   "execution_count": 62,
   "id": "27c92598-fdd3-40c7-9c1b-f5baae689cac",
   "metadata": {},
   "outputs": [
    {
     "data": {
      "text/html": [
       "<div>\n",
       "<style scoped>\n",
       "    .dataframe tbody tr th:only-of-type {\n",
       "        vertical-align: middle;\n",
       "    }\n",
       "\n",
       "    .dataframe tbody tr th {\n",
       "        vertical-align: top;\n",
       "    }\n",
       "\n",
       "    .dataframe thead th {\n",
       "        text-align: right;\n",
       "    }\n",
       "</style>\n",
       "<table border=\"1\" class=\"dataframe\">\n",
       "  <thead>\n",
       "    <tr style=\"text-align: right;\">\n",
       "      <th></th>\n",
       "      <th>0</th>\n",
       "      <th>1</th>\n",
       "      <th>2</th>\n",
       "      <th>3</th>\n",
       "      <th>4</th>\n",
       "      <th>5</th>\n",
       "      <th>6</th>\n",
       "      <th>7</th>\n",
       "      <th>8</th>\n",
       "      <th>9</th>\n",
       "      <th>Actual</th>\n",
       "      <th>Prediction</th>\n",
       "    </tr>\n",
       "  </thead>\n",
       "  <tbody>\n",
       "    <tr>\n",
       "      <th>0</th>\n",
       "      <td>-0.572785</td>\n",
       "      <td>-0.210295</td>\n",
       "      <td>-0.279486</td>\n",
       "      <td>-0.133721</td>\n",
       "      <td>0.072070</td>\n",
       "      <td>-0.117242</td>\n",
       "      <td>0.197719</td>\n",
       "      <td>-0.759115</td>\n",
       "      <td>-0.333016</td>\n",
       "      <td>-0.706782</td>\n",
       "      <td>1</td>\n",
       "      <td>1</td>\n",
       "    </tr>\n",
       "    <tr>\n",
       "      <th>1</th>\n",
       "      <td>-0.959919</td>\n",
       "      <td>-0.564540</td>\n",
       "      <td>-1.168856</td>\n",
       "      <td>1.788345</td>\n",
       "      <td>1.443140</td>\n",
       "      <td>-0.229956</td>\n",
       "      <td>-0.050589</td>\n",
       "      <td>0.496662</td>\n",
       "      <td>-0.463020</td>\n",
       "      <td>-0.358714</td>\n",
       "      <td>1</td>\n",
       "      <td>1</td>\n",
       "    </tr>\n",
       "    <tr>\n",
       "      <th>2</th>\n",
       "      <td>-0.189344</td>\n",
       "      <td>-0.265778</td>\n",
       "      <td>-0.181757</td>\n",
       "      <td>-0.670785</td>\n",
       "      <td>-0.676031</td>\n",
       "      <td>0.756421</td>\n",
       "      <td>0.458011</td>\n",
       "      <td>0.567576</td>\n",
       "      <td>-0.890454</td>\n",
       "      <td>-0.185688</td>\n",
       "      <td>1</td>\n",
       "      <td>1</td>\n",
       "    </tr>\n",
       "    <tr>\n",
       "      <th>3</th>\n",
       "      <td>0.635881</td>\n",
       "      <td>-0.167795</td>\n",
       "      <td>-0.032605</td>\n",
       "      <td>-0.393785</td>\n",
       "      <td>-0.540095</td>\n",
       "      <td>0.584923</td>\n",
       "      <td>1.163272</td>\n",
       "      <td>-0.397464</td>\n",
       "      <td>-0.708172</td>\n",
       "      <td>0.386860</td>\n",
       "      <td>1</td>\n",
       "      <td>1</td>\n",
       "    </tr>\n",
       "    <tr>\n",
       "      <th>4</th>\n",
       "      <td>1.079422</td>\n",
       "      <td>1.952221</td>\n",
       "      <td>2.096079</td>\n",
       "      <td>-1.071261</td>\n",
       "      <td>-0.985715</td>\n",
       "      <td>-0.582833</td>\n",
       "      <td>-1.507554</td>\n",
       "      <td>1.546605</td>\n",
       "      <td>0.120852</td>\n",
       "      <td>1.796905</td>\n",
       "      <td>0</td>\n",
       "      <td>0</td>\n",
       "    </tr>\n",
       "    <tr>\n",
       "      <th>...</th>\n",
       "      <td>...</td>\n",
       "      <td>...</td>\n",
       "      <td>...</td>\n",
       "      <td>...</td>\n",
       "      <td>...</td>\n",
       "      <td>...</td>\n",
       "      <td>...</td>\n",
       "      <td>...</td>\n",
       "      <td>...</td>\n",
       "      <td>...</td>\n",
       "      <td>...</td>\n",
       "      <td>...</td>\n",
       "    </tr>\n",
       "    <tr>\n",
       "      <th>3799</th>\n",
       "      <td>-0.563586</td>\n",
       "      <td>-0.661968</td>\n",
       "      <td>-0.882072</td>\n",
       "      <td>1.078087</td>\n",
       "      <td>0.823773</td>\n",
       "      <td>0.491733</td>\n",
       "      <td>0.234242</td>\n",
       "      <td>-0.278902</td>\n",
       "      <td>-0.551559</td>\n",
       "      <td>0.233753</td>\n",
       "      <td>1</td>\n",
       "      <td>1</td>\n",
       "    </tr>\n",
       "    <tr>\n",
       "      <th>3800</th>\n",
       "      <td>-0.505499</td>\n",
       "      <td>-0.433487</td>\n",
       "      <td>-0.642233</td>\n",
       "      <td>-0.304183</td>\n",
       "      <td>-0.323136</td>\n",
       "      <td>-0.388878</td>\n",
       "      <td>-0.500972</td>\n",
       "      <td>0.297356</td>\n",
       "      <td>-0.252232</td>\n",
       "      <td>-0.697744</td>\n",
       "      <td>1</td>\n",
       "      <td>1</td>\n",
       "    </tr>\n",
       "    <tr>\n",
       "      <th>3801</th>\n",
       "      <td>1.275486</td>\n",
       "      <td>1.428096</td>\n",
       "      <td>2.998252</td>\n",
       "      <td>-1.631818</td>\n",
       "      <td>-1.539364</td>\n",
       "      <td>-0.591273</td>\n",
       "      <td>1.405220</td>\n",
       "      <td>1.293300</td>\n",
       "      <td>-1.050565</td>\n",
       "      <td>1.760694</td>\n",
       "      <td>1</td>\n",
       "      <td>1</td>\n",
       "    </tr>\n",
       "    <tr>\n",
       "      <th>3802</th>\n",
       "      <td>-0.951904</td>\n",
       "      <td>-0.609849</td>\n",
       "      <td>-1.533523</td>\n",
       "      <td>2.016174</td>\n",
       "      <td>2.221850</td>\n",
       "      <td>0.285830</td>\n",
       "      <td>-0.336699</td>\n",
       "      <td>-0.445075</td>\n",
       "      <td>1.799931</td>\n",
       "      <td>-0.951662</td>\n",
       "      <td>1</td>\n",
       "      <td>0</td>\n",
       "    </tr>\n",
       "    <tr>\n",
       "      <th>3803</th>\n",
       "      <td>-0.252357</td>\n",
       "      <td>-0.574820</td>\n",
       "      <td>0.096491</td>\n",
       "      <td>0.055317</td>\n",
       "      <td>0.270124</td>\n",
       "      <td>0.332680</td>\n",
       "      <td>0.500323</td>\n",
       "      <td>-0.424780</td>\n",
       "      <td>-0.347393</td>\n",
       "      <td>0.628442</td>\n",
       "      <td>0</td>\n",
       "      <td>1</td>\n",
       "    </tr>\n",
       "  </tbody>\n",
       "</table>\n",
       "<p>3804 rows × 12 columns</p>\n",
       "</div>"
      ],
      "text/plain": [
       "             0         1         2         3         4         5         6  \\\n",
       "0    -0.572785 -0.210295 -0.279486 -0.133721  0.072070 -0.117242  0.197719   \n",
       "1    -0.959919 -0.564540 -1.168856  1.788345  1.443140 -0.229956 -0.050589   \n",
       "2    -0.189344 -0.265778 -0.181757 -0.670785 -0.676031  0.756421  0.458011   \n",
       "3     0.635881 -0.167795 -0.032605 -0.393785 -0.540095  0.584923  1.163272   \n",
       "4     1.079422  1.952221  2.096079 -1.071261 -0.985715 -0.582833 -1.507554   \n",
       "...        ...       ...       ...       ...       ...       ...       ...   \n",
       "3799 -0.563586 -0.661968 -0.882072  1.078087  0.823773  0.491733  0.234242   \n",
       "3800 -0.505499 -0.433487 -0.642233 -0.304183 -0.323136 -0.388878 -0.500972   \n",
       "3801  1.275486  1.428096  2.998252 -1.631818 -1.539364 -0.591273  1.405220   \n",
       "3802 -0.951904 -0.609849 -1.533523  2.016174  2.221850  0.285830 -0.336699   \n",
       "3803 -0.252357 -0.574820  0.096491  0.055317  0.270124  0.332680  0.500323   \n",
       "\n",
       "             7         8         9  Actual  Prediction  \n",
       "0    -0.759115 -0.333016 -0.706782       1           1  \n",
       "1     0.496662 -0.463020 -0.358714       1           1  \n",
       "2     0.567576 -0.890454 -0.185688       1           1  \n",
       "3    -0.397464 -0.708172  0.386860       1           1  \n",
       "4     1.546605  0.120852  1.796905       0           0  \n",
       "...        ...       ...       ...     ...         ...  \n",
       "3799 -0.278902 -0.551559  0.233753       1           1  \n",
       "3800  0.297356 -0.252232 -0.697744       1           1  \n",
       "3801  1.293300 -1.050565  1.760694       1           1  \n",
       "3802 -0.445075  1.799931 -0.951662       1           0  \n",
       "3803 -0.424780 -0.347393  0.628442       0           1  \n",
       "\n",
       "[3804 rows x 12 columns]"
      ]
     },
     "execution_count": 62,
     "metadata": {},
     "output_type": "execute_result"
    }
   ],
   "source": [
    "predictions"
   ]
  },
  {
   "cell_type": "code",
   "execution_count": 63,
   "id": "0bf36dc5-17f4-4c4e-8a2c-411bbf2b6483",
   "metadata": {},
   "outputs": [
    {
     "name": "stdout",
     "output_type": "stream",
     "text": [
      "Accuracy: 0.7852260778128286\n",
      "Wrong Points: 0.2147739221871714\n"
     ]
    }
   ],
   "source": [
    "eval(predictions)"
   ]
  },
  {
   "cell_type": "markdown",
   "id": "1fbab5d6-379e-4726-961f-423cb7451324",
   "metadata": {},
   "source": [
    "## Support Vector Machines\n",
    "\n",
    "Platziert den Vektor möglichst weit weg zwischen den Datenpunkten und breitet sich dann aus -> Erzeugt dadurch die Hyperplane\n",
    "\n",
    "Punkte auf der einen Seite werden mit X klassifiziert, die andere Seite mit Y"
   ]
  },
  {
   "cell_type": "code",
   "execution_count": 64,
   "id": "bb4d4344-7a74-49b5-97bb-5af8cf3a97a2",
   "metadata": {},
   "outputs": [],
   "source": [
    "from sklearn.svm import SVC"
   ]
  },
  {
   "cell_type": "code",
   "execution_count": 65,
   "id": "def0e7bb-985e-4acf-8845-524d3c8997c4",
   "metadata": {},
   "outputs": [],
   "source": [
    "svm_model = SVC()"
   ]
  },
  {
   "cell_type": "code",
   "execution_count": 66,
   "id": "e6d675cf-41f7-4e51-9b9d-daeb070a4503",
   "metadata": {},
   "outputs": [
    {
     "data": {
      "text/html": [
       "<style>#sk-container-id-4 {color: black;}#sk-container-id-4 pre{padding: 0;}#sk-container-id-4 div.sk-toggleable {background-color: white;}#sk-container-id-4 label.sk-toggleable__label {cursor: pointer;display: block;width: 100%;margin-bottom: 0;padding: 0.3em;box-sizing: border-box;text-align: center;}#sk-container-id-4 label.sk-toggleable__label-arrow:before {content: \"▸\";float: left;margin-right: 0.25em;color: #696969;}#sk-container-id-4 label.sk-toggleable__label-arrow:hover:before {color: black;}#sk-container-id-4 div.sk-estimator:hover label.sk-toggleable__label-arrow:before {color: black;}#sk-container-id-4 div.sk-toggleable__content {max-height: 0;max-width: 0;overflow: hidden;text-align: left;background-color: #f0f8ff;}#sk-container-id-4 div.sk-toggleable__content pre {margin: 0.2em;color: black;border-radius: 0.25em;background-color: #f0f8ff;}#sk-container-id-4 input.sk-toggleable__control:checked~div.sk-toggleable__content {max-height: 200px;max-width: 100%;overflow: auto;}#sk-container-id-4 input.sk-toggleable__control:checked~label.sk-toggleable__label-arrow:before {content: \"▾\";}#sk-container-id-4 div.sk-estimator input.sk-toggleable__control:checked~label.sk-toggleable__label {background-color: #d4ebff;}#sk-container-id-4 div.sk-label input.sk-toggleable__control:checked~label.sk-toggleable__label {background-color: #d4ebff;}#sk-container-id-4 input.sk-hidden--visually {border: 0;clip: rect(1px 1px 1px 1px);clip: rect(1px, 1px, 1px, 1px);height: 1px;margin: -1px;overflow: hidden;padding: 0;position: absolute;width: 1px;}#sk-container-id-4 div.sk-estimator {font-family: monospace;background-color: #f0f8ff;border: 1px dotted black;border-radius: 0.25em;box-sizing: border-box;margin-bottom: 0.5em;}#sk-container-id-4 div.sk-estimator:hover {background-color: #d4ebff;}#sk-container-id-4 div.sk-parallel-item::after {content: \"\";width: 100%;border-bottom: 1px solid gray;flex-grow: 1;}#sk-container-id-4 div.sk-label:hover label.sk-toggleable__label {background-color: #d4ebff;}#sk-container-id-4 div.sk-serial::before {content: \"\";position: absolute;border-left: 1px solid gray;box-sizing: border-box;top: 0;bottom: 0;left: 50%;z-index: 0;}#sk-container-id-4 div.sk-serial {display: flex;flex-direction: column;align-items: center;background-color: white;padding-right: 0.2em;padding-left: 0.2em;position: relative;}#sk-container-id-4 div.sk-item {position: relative;z-index: 1;}#sk-container-id-4 div.sk-parallel {display: flex;align-items: stretch;justify-content: center;background-color: white;position: relative;}#sk-container-id-4 div.sk-item::before, #sk-container-id-4 div.sk-parallel-item::before {content: \"\";position: absolute;border-left: 1px solid gray;box-sizing: border-box;top: 0;bottom: 0;left: 50%;z-index: -1;}#sk-container-id-4 div.sk-parallel-item {display: flex;flex-direction: column;z-index: 1;position: relative;background-color: white;}#sk-container-id-4 div.sk-parallel-item:first-child::after {align-self: flex-end;width: 50%;}#sk-container-id-4 div.sk-parallel-item:last-child::after {align-self: flex-start;width: 50%;}#sk-container-id-4 div.sk-parallel-item:only-child::after {width: 0;}#sk-container-id-4 div.sk-dashed-wrapped {border: 1px dashed gray;margin: 0 0.4em 0.5em 0.4em;box-sizing: border-box;padding-bottom: 0.4em;background-color: white;}#sk-container-id-4 div.sk-label label {font-family: monospace;font-weight: bold;display: inline-block;line-height: 1.2em;}#sk-container-id-4 div.sk-label-container {text-align: center;}#sk-container-id-4 div.sk-container {/* jupyter's `normalize.less` sets `[hidden] { display: none; }` but bootstrap.min.css set `[hidden] { display: none !important; }` so we also need the `!important` here to be able to override the default hidden behavior on the sphinx rendered scikit-learn.org. See: https://github.com/scikit-learn/scikit-learn/issues/21755 */display: inline-block !important;position: relative;}#sk-container-id-4 div.sk-text-repr-fallback {display: none;}</style><div id=\"sk-container-id-4\" class=\"sk-top-container\"><div class=\"sk-text-repr-fallback\"><pre>SVC()</pre><b>In a Jupyter environment, please rerun this cell to show the HTML representation or trust the notebook. <br />On GitHub, the HTML representation is unable to render, please try loading this page with nbviewer.org.</b></div><div class=\"sk-container\" hidden><div class=\"sk-item\"><div class=\"sk-estimator sk-toggleable\"><input class=\"sk-toggleable__control sk-hidden--visually\" id=\"sk-estimator-id-4\" type=\"checkbox\" checked><label for=\"sk-estimator-id-4\" class=\"sk-toggleable__label sk-toggleable__label-arrow\">SVC</label><div class=\"sk-toggleable__content\"><pre>SVC()</pre></div></div></div></div></div>"
      ],
      "text/plain": [
       "SVC()"
      ]
     },
     "execution_count": 66,
     "metadata": {},
     "output_type": "execute_result"
    }
   ],
   "source": [
    "svm_model.fit(left_train, right_train)"
   ]
  },
  {
   "cell_type": "code",
   "execution_count": 67,
   "id": "b47b7f36-abfb-49a9-bb10-2aaf99c3e711",
   "metadata": {},
   "outputs": [],
   "source": [
    "right_pred = svm_model.predict(left_test)"
   ]
  },
  {
   "cell_type": "code",
   "execution_count": 68,
   "id": "696cdd9d-a995-4ad8-9a72-8997af047d00",
   "metadata": {},
   "outputs": [],
   "source": [
    "predictions = showPrediction(left_test, right_test, right_pred)"
   ]
  },
  {
   "cell_type": "code",
   "execution_count": 69,
   "id": "108be63c-9511-4dbf-a04b-46203f69b71f",
   "metadata": {},
   "outputs": [
    {
     "data": {
      "text/html": [
       "<div>\n",
       "<style scoped>\n",
       "    .dataframe tbody tr th:only-of-type {\n",
       "        vertical-align: middle;\n",
       "    }\n",
       "\n",
       "    .dataframe tbody tr th {\n",
       "        vertical-align: top;\n",
       "    }\n",
       "\n",
       "    .dataframe thead th {\n",
       "        text-align: right;\n",
       "    }\n",
       "</style>\n",
       "<table border=\"1\" class=\"dataframe\">\n",
       "  <thead>\n",
       "    <tr style=\"text-align: right;\">\n",
       "      <th></th>\n",
       "      <th>0</th>\n",
       "      <th>1</th>\n",
       "      <th>2</th>\n",
       "      <th>3</th>\n",
       "      <th>4</th>\n",
       "      <th>5</th>\n",
       "      <th>6</th>\n",
       "      <th>7</th>\n",
       "      <th>8</th>\n",
       "      <th>9</th>\n",
       "      <th>Actual</th>\n",
       "      <th>Prediction</th>\n",
       "    </tr>\n",
       "  </thead>\n",
       "  <tbody>\n",
       "    <tr>\n",
       "      <th>0</th>\n",
       "      <td>-0.572785</td>\n",
       "      <td>-0.210295</td>\n",
       "      <td>-0.279486</td>\n",
       "      <td>-0.133721</td>\n",
       "      <td>0.072070</td>\n",
       "      <td>-0.117242</td>\n",
       "      <td>0.197719</td>\n",
       "      <td>-0.759115</td>\n",
       "      <td>-0.333016</td>\n",
       "      <td>-0.706782</td>\n",
       "      <td>1</td>\n",
       "      <td>1</td>\n",
       "    </tr>\n",
       "    <tr>\n",
       "      <th>1</th>\n",
       "      <td>-0.959919</td>\n",
       "      <td>-0.564540</td>\n",
       "      <td>-1.168856</td>\n",
       "      <td>1.788345</td>\n",
       "      <td>1.443140</td>\n",
       "      <td>-0.229956</td>\n",
       "      <td>-0.050589</td>\n",
       "      <td>0.496662</td>\n",
       "      <td>-0.463020</td>\n",
       "      <td>-0.358714</td>\n",
       "      <td>1</td>\n",
       "      <td>1</td>\n",
       "    </tr>\n",
       "    <tr>\n",
       "      <th>2</th>\n",
       "      <td>-0.189344</td>\n",
       "      <td>-0.265778</td>\n",
       "      <td>-0.181757</td>\n",
       "      <td>-0.670785</td>\n",
       "      <td>-0.676031</td>\n",
       "      <td>0.756421</td>\n",
       "      <td>0.458011</td>\n",
       "      <td>0.567576</td>\n",
       "      <td>-0.890454</td>\n",
       "      <td>-0.185688</td>\n",
       "      <td>1</td>\n",
       "      <td>1</td>\n",
       "    </tr>\n",
       "    <tr>\n",
       "      <th>3</th>\n",
       "      <td>0.635881</td>\n",
       "      <td>-0.167795</td>\n",
       "      <td>-0.032605</td>\n",
       "      <td>-0.393785</td>\n",
       "      <td>-0.540095</td>\n",
       "      <td>0.584923</td>\n",
       "      <td>1.163272</td>\n",
       "      <td>-0.397464</td>\n",
       "      <td>-0.708172</td>\n",
       "      <td>0.386860</td>\n",
       "      <td>1</td>\n",
       "      <td>1</td>\n",
       "    </tr>\n",
       "    <tr>\n",
       "      <th>4</th>\n",
       "      <td>1.079422</td>\n",
       "      <td>1.952221</td>\n",
       "      <td>2.096079</td>\n",
       "      <td>-1.071261</td>\n",
       "      <td>-0.985715</td>\n",
       "      <td>-0.582833</td>\n",
       "      <td>-1.507554</td>\n",
       "      <td>1.546605</td>\n",
       "      <td>0.120852</td>\n",
       "      <td>1.796905</td>\n",
       "      <td>0</td>\n",
       "      <td>0</td>\n",
       "    </tr>\n",
       "    <tr>\n",
       "      <th>...</th>\n",
       "      <td>...</td>\n",
       "      <td>...</td>\n",
       "      <td>...</td>\n",
       "      <td>...</td>\n",
       "      <td>...</td>\n",
       "      <td>...</td>\n",
       "      <td>...</td>\n",
       "      <td>...</td>\n",
       "      <td>...</td>\n",
       "      <td>...</td>\n",
       "      <td>...</td>\n",
       "      <td>...</td>\n",
       "    </tr>\n",
       "    <tr>\n",
       "      <th>3799</th>\n",
       "      <td>-0.563586</td>\n",
       "      <td>-0.661968</td>\n",
       "      <td>-0.882072</td>\n",
       "      <td>1.078087</td>\n",
       "      <td>0.823773</td>\n",
       "      <td>0.491733</td>\n",
       "      <td>0.234242</td>\n",
       "      <td>-0.278902</td>\n",
       "      <td>-0.551559</td>\n",
       "      <td>0.233753</td>\n",
       "      <td>1</td>\n",
       "      <td>1</td>\n",
       "    </tr>\n",
       "    <tr>\n",
       "      <th>3800</th>\n",
       "      <td>-0.505499</td>\n",
       "      <td>-0.433487</td>\n",
       "      <td>-0.642233</td>\n",
       "      <td>-0.304183</td>\n",
       "      <td>-0.323136</td>\n",
       "      <td>-0.388878</td>\n",
       "      <td>-0.500972</td>\n",
       "      <td>0.297356</td>\n",
       "      <td>-0.252232</td>\n",
       "      <td>-0.697744</td>\n",
       "      <td>1</td>\n",
       "      <td>1</td>\n",
       "    </tr>\n",
       "    <tr>\n",
       "      <th>3801</th>\n",
       "      <td>1.275486</td>\n",
       "      <td>1.428096</td>\n",
       "      <td>2.998252</td>\n",
       "      <td>-1.631818</td>\n",
       "      <td>-1.539364</td>\n",
       "      <td>-0.591273</td>\n",
       "      <td>1.405220</td>\n",
       "      <td>1.293300</td>\n",
       "      <td>-1.050565</td>\n",
       "      <td>1.760694</td>\n",
       "      <td>1</td>\n",
       "      <td>1</td>\n",
       "    </tr>\n",
       "    <tr>\n",
       "      <th>3802</th>\n",
       "      <td>-0.951904</td>\n",
       "      <td>-0.609849</td>\n",
       "      <td>-1.533523</td>\n",
       "      <td>2.016174</td>\n",
       "      <td>2.221850</td>\n",
       "      <td>0.285830</td>\n",
       "      <td>-0.336699</td>\n",
       "      <td>-0.445075</td>\n",
       "      <td>1.799931</td>\n",
       "      <td>-0.951662</td>\n",
       "      <td>1</td>\n",
       "      <td>1</td>\n",
       "    </tr>\n",
       "    <tr>\n",
       "      <th>3803</th>\n",
       "      <td>-0.252357</td>\n",
       "      <td>-0.574820</td>\n",
       "      <td>0.096491</td>\n",
       "      <td>0.055317</td>\n",
       "      <td>0.270124</td>\n",
       "      <td>0.332680</td>\n",
       "      <td>0.500323</td>\n",
       "      <td>-0.424780</td>\n",
       "      <td>-0.347393</td>\n",
       "      <td>0.628442</td>\n",
       "      <td>0</td>\n",
       "      <td>0</td>\n",
       "    </tr>\n",
       "  </tbody>\n",
       "</table>\n",
       "<p>3804 rows × 12 columns</p>\n",
       "</div>"
      ],
      "text/plain": [
       "             0         1         2         3         4         5         6  \\\n",
       "0    -0.572785 -0.210295 -0.279486 -0.133721  0.072070 -0.117242  0.197719   \n",
       "1    -0.959919 -0.564540 -1.168856  1.788345  1.443140 -0.229956 -0.050589   \n",
       "2    -0.189344 -0.265778 -0.181757 -0.670785 -0.676031  0.756421  0.458011   \n",
       "3     0.635881 -0.167795 -0.032605 -0.393785 -0.540095  0.584923  1.163272   \n",
       "4     1.079422  1.952221  2.096079 -1.071261 -0.985715 -0.582833 -1.507554   \n",
       "...        ...       ...       ...       ...       ...       ...       ...   \n",
       "3799 -0.563586 -0.661968 -0.882072  1.078087  0.823773  0.491733  0.234242   \n",
       "3800 -0.505499 -0.433487 -0.642233 -0.304183 -0.323136 -0.388878 -0.500972   \n",
       "3801  1.275486  1.428096  2.998252 -1.631818 -1.539364 -0.591273  1.405220   \n",
       "3802 -0.951904 -0.609849 -1.533523  2.016174  2.221850  0.285830 -0.336699   \n",
       "3803 -0.252357 -0.574820  0.096491  0.055317  0.270124  0.332680  0.500323   \n",
       "\n",
       "             7         8         9  Actual  Prediction  \n",
       "0    -0.759115 -0.333016 -0.706782       1           1  \n",
       "1     0.496662 -0.463020 -0.358714       1           1  \n",
       "2     0.567576 -0.890454 -0.185688       1           1  \n",
       "3    -0.397464 -0.708172  0.386860       1           1  \n",
       "4     1.546605  0.120852  1.796905       0           0  \n",
       "...        ...       ...       ...     ...         ...  \n",
       "3799 -0.278902 -0.551559  0.233753       1           1  \n",
       "3800  0.297356 -0.252232 -0.697744       1           1  \n",
       "3801  1.293300 -1.050565  1.760694       1           1  \n",
       "3802 -0.445075  1.799931 -0.951662       1           1  \n",
       "3803 -0.424780 -0.347393  0.628442       0           0  \n",
       "\n",
       "[3804 rows x 12 columns]"
      ]
     },
     "execution_count": 69,
     "metadata": {},
     "output_type": "execute_result"
    }
   ],
   "source": [
    "predictions"
   ]
  },
  {
   "cell_type": "code",
   "execution_count": 70,
   "id": "17187fac-a918-4ab9-a1e2-123336d90db0",
   "metadata": {},
   "outputs": [
    {
     "name": "stdout",
     "output_type": "stream",
     "text": [
      "Accuracy: 0.8682965299684543\n",
      "Wrong Points: 0.13170347003154576\n"
     ]
    }
   ],
   "source": [
    "eval(predictions)"
   ]
  },
  {
   "cell_type": "markdown",
   "id": "9b4e52ab-674d-490e-9ebf-ded582202ef8",
   "metadata": {},
   "source": [
    "## Neurales Netzwerk\n",
    "\n",
    "- Beliebig viele Inputs werden genommen und in die Neuronen gefüttert\n",
    "- Jedes Neuron hat eine Activation Function, die einen Output erzeugt wenn sie angesprochen wird\n",
    "- Die Outputs von einem Layer werden weitergegeben an den nächsten Layer\n",
    "- Drei Arten von Layer:\n",
    "    - Input Layer: Daten in roher Form\n",
    "    - Hidden Layer: Berechnungen/Training findet hier statt\n",
    "    - Output Layer: Hier kommt die Prediction heraus -> genau ein Wert\n",
    "- Der Output wird wieder in das Modell gefüttert\n",
    "- Dadurch wird das Modell immer akkurater über Zeit\n",
    "    - Erhöhung der Accuracy\n",
    "    - Verringerung des Loss\n",
    " \n",
    "Wir können jetzt ein eigenes Modell erstellen\n",
    "- Neuron: nimmt mehrere Daten auf, und gibt über die Activation Function einen Output aus. Bei einem neuralen Netzwerk werden die Neuronen miteinander verbunden, um ein Netzwerk zu erzeugen\n",
    "- Activation Function:\n",
    "- Beliebt sind ReLU und Sigmoid\n",
    "    - Rectified Linear Unit: Günstige Funktion (Rechenaufwand), wurde entwickelt für Machine Learning\n",
    "    - Sigmoid: Gibt immer einen Wert zwischen 0 und 1 zurück, daher nützlich für die Output Node\n",
    "- (Optional) Optimizer: Gibt die Lernrate an. Ermöglicht Verstärken von schwachen Teilen des Models und umgekehrt. Über die Lernrate wird die Stärke des Optimizers angegeben\n",
    "    - Adam, Adaptive Moment Estimation: Beliebt für Machine Learning\n",
    "- (Optional) Dropout: Layer, der bei jedem Durchgang eine bestimmte Anzahl (%) von Daten wegwirft. Damit kann man das Model bremsen"
   ]
  },
  {
   "cell_type": "code",
   "execution_count": 71,
   "id": "f5ac43fe-5af1-4213-8d1d-1921cdfde9c3",
   "metadata": {},
   "outputs": [],
   "source": [
    "import tensorflow as tf"
   ]
  },
  {
   "cell_type": "code",
   "execution_count": 72,
   "id": "8e8ba312-dba8-490d-8462-c60e92e6432f",
   "metadata": {},
   "outputs": [],
   "source": [
    "model = tf.keras.Sequential([\n",
    "    tf.keras.layers.Dense(32, input_shape=(10,), activation=\"relu\"),  # Input Layer: 10 Spalten\n",
    "    tf.keras.layers.Dropout(0.2),\n",
    "    tf.keras.layers.Dense(32, activation=\"relu\"),\n",
    "    tf.keras.layers.Dropout(0.2),\n",
    "    tf.keras.layers.Dense(1, activation=\"sigmoid\")\n",
    "])\n",
    "\n",
    "model.compile(optimizer=tf.keras.optimizers.Adam(0.001),\n",
    "              loss=\"binary_crossentropy\",  # Hier angeben was das Model berechnen soll -> Binäre Klassifizierung\n",
    "              metrics=[\"accuracy\"])"
   ]
  },
  {
   "cell_type": "code",
   "execution_count": 73,
   "id": "80d8b05c-b9e3-4026-808d-9e6dfc345416",
   "metadata": {},
   "outputs": [
    {
     "name": "stdout",
     "output_type": "stream",
     "text": [
      "Model: \"sequential\"\n",
      "_________________________________________________________________\n",
      " Layer (type)                Output Shape              Param #   \n",
      "=================================================================\n",
      " dense (Dense)               (None, 32)                352       \n",
      "                                                                 \n",
      " dense_1 (Dense)             (None, 32)                1056      \n",
      "                                                                 \n",
      " dense_2 (Dense)             (None, 1)                 33        \n",
      "                                                                 \n",
      "=================================================================\n",
      "Total params: 1441 (5.63 KB)\n",
      "Trainable params: 1441 (5.63 KB)\n",
      "Non-trainable params: 0 (0.00 Byte)\n",
      "_________________________________________________________________\n"
     ]
    }
   ],
   "source": [
    "model.summary()"
   ]
  },
  {
   "cell_type": "code",
   "execution_count": 74,
   "id": "69bfc7ad-51bc-4658-8604-3024053efeee",
   "metadata": {},
   "outputs": [
    {
     "name": "stdout",
     "output_type": "stream",
     "text": [
      "Epoch 1/50\n",
      "929/929 [==============================] - 5s 4ms/step - loss: 0.4451 - accuracy: 0.7916\n",
      "Epoch 2/50\n",
      "929/929 [==============================] - 3s 4ms/step - loss: 0.3769 - accuracy: 0.8348\n",
      "Epoch 3/50\n",
      "929/929 [==============================] - 3s 4ms/step - loss: 0.3629 - accuracy: 0.8379\n",
      "Epoch 4/50\n",
      "929/929 [==============================] - 3s 4ms/step - loss: 0.3544 - accuracy: 0.8409\n",
      "Epoch 5/50\n",
      "929/929 [==============================] - 3s 3ms/step - loss: 0.3474 - accuracy: 0.8456\n",
      "Epoch 6/50\n",
      "929/929 [==============================] - 3s 3ms/step - loss: 0.3438 - accuracy: 0.8480\n",
      "Epoch 7/50\n",
      "929/929 [==============================] - 3s 3ms/step - loss: 0.3397 - accuracy: 0.8470\n",
      "Epoch 8/50\n",
      "929/929 [==============================] - 3s 3ms/step - loss: 0.3358 - accuracy: 0.8507\n",
      "Epoch 9/50\n",
      "929/929 [==============================] - 3s 3ms/step - loss: 0.3312 - accuracy: 0.8537\n",
      "Epoch 10/50\n",
      "929/929 [==============================] - 3s 3ms/step - loss: 0.3291 - accuracy: 0.8541\n",
      "Epoch 11/50\n",
      "929/929 [==============================] - 3s 3ms/step - loss: 0.3269 - accuracy: 0.8534\n",
      "Epoch 12/50\n",
      "929/929 [==============================] - 3s 3ms/step - loss: 0.3249 - accuracy: 0.8547\n",
      "Epoch 13/50\n",
      "929/929 [==============================] - 3s 3ms/step - loss: 0.3231 - accuracy: 0.8565\n",
      "Epoch 14/50\n",
      "929/929 [==============================] - 3s 3ms/step - loss: 0.3197 - accuracy: 0.8571\n",
      "Epoch 15/50\n",
      "929/929 [==============================] - 3s 3ms/step - loss: 0.3192 - accuracy: 0.8579\n",
      "Epoch 16/50\n",
      "929/929 [==============================] - 3s 3ms/step - loss: 0.3173 - accuracy: 0.8592\n",
      "Epoch 17/50\n",
      "929/929 [==============================] - 3s 3ms/step - loss: 0.3152 - accuracy: 0.8587\n",
      "Epoch 18/50\n",
      "929/929 [==============================] - 3s 3ms/step - loss: 0.3146 - accuracy: 0.8607\n",
      "Epoch 19/50\n",
      "929/929 [==============================] - 3s 3ms/step - loss: 0.3126 - accuracy: 0.8608\n",
      "Epoch 20/50\n",
      "929/929 [==============================] - 3s 3ms/step - loss: 0.3115 - accuracy: 0.8624\n",
      "Epoch 21/50\n",
      "929/929 [==============================] - 3s 4ms/step - loss: 0.3113 - accuracy: 0.8608\n",
      "Epoch 22/50\n",
      "929/929 [==============================] - 3s 3ms/step - loss: 0.3083 - accuracy: 0.8621\n",
      "Epoch 23/50\n",
      "929/929 [==============================] - 3s 3ms/step - loss: 0.3068 - accuracy: 0.8643\n",
      "Epoch 24/50\n",
      "929/929 [==============================] - 3s 3ms/step - loss: 0.3054 - accuracy: 0.8631\n",
      "Epoch 25/50\n",
      "929/929 [==============================] - 3s 3ms/step - loss: 0.3035 - accuracy: 0.8651\n",
      "Epoch 26/50\n",
      "929/929 [==============================] - 3s 3ms/step - loss: 0.3036 - accuracy: 0.8645\n",
      "Epoch 27/50\n",
      "929/929 [==============================] - 3s 3ms/step - loss: 0.3023 - accuracy: 0.8647\n",
      "Epoch 28/50\n",
      "929/929 [==============================] - 3s 4ms/step - loss: 0.3015 - accuracy: 0.8667\n",
      "Epoch 29/50\n",
      "929/929 [==============================] - 3s 3ms/step - loss: 0.2990 - accuracy: 0.8668\n",
      "Epoch 30/50\n",
      "929/929 [==============================] - 3s 4ms/step - loss: 0.2986 - accuracy: 0.8678\n",
      "Epoch 31/50\n",
      "929/929 [==============================] - 4s 4ms/step - loss: 0.2968 - accuracy: 0.8674\n",
      "Epoch 32/50\n",
      "929/929 [==============================] - 3s 4ms/step - loss: 0.2955 - accuracy: 0.8688\n",
      "Epoch 33/50\n",
      "929/929 [==============================] - 3s 3ms/step - loss: 0.2949 - accuracy: 0.8691\n",
      "Epoch 34/50\n",
      "929/929 [==============================] - 3s 3ms/step - loss: 0.2940 - accuracy: 0.8688\n",
      "Epoch 35/50\n",
      "929/929 [==============================] - 3s 3ms/step - loss: 0.2923 - accuracy: 0.8707\n",
      "Epoch 36/50\n",
      "929/929 [==============================] - 3s 4ms/step - loss: 0.2914 - accuracy: 0.8717\n",
      "Epoch 37/50\n",
      "929/929 [==============================] - 3s 3ms/step - loss: 0.2913 - accuracy: 0.8690\n",
      "Epoch 38/50\n",
      "929/929 [==============================] - 3s 3ms/step - loss: 0.2904 - accuracy: 0.8719\n",
      "Epoch 39/50\n",
      "929/929 [==============================] - 3s 3ms/step - loss: 0.2890 - accuracy: 0.8717\n",
      "Epoch 40/50\n",
      "929/929 [==============================] - 3s 3ms/step - loss: 0.2886 - accuracy: 0.8713\n",
      "Epoch 41/50\n",
      "929/929 [==============================] - 3s 3ms/step - loss: 0.2866 - accuracy: 0.8725\n",
      "Epoch 42/50\n",
      "929/929 [==============================] - 3s 3ms/step - loss: 0.2874 - accuracy: 0.8743\n",
      "Epoch 43/50\n",
      "929/929 [==============================] - 3s 3ms/step - loss: 0.2844 - accuracy: 0.8738\n",
      "Epoch 44/50\n",
      "929/929 [==============================] - 3s 3ms/step - loss: 0.2842 - accuracy: 0.8734\n",
      "Epoch 45/50\n",
      "929/929 [==============================] - 3s 3ms/step - loss: 0.2848 - accuracy: 0.8725\n",
      "Epoch 46/50\n",
      "929/929 [==============================] - 3s 3ms/step - loss: 0.2837 - accuracy: 0.8739\n",
      "Epoch 47/50\n",
      "929/929 [==============================] - 3s 4ms/step - loss: 0.2816 - accuracy: 0.8752\n",
      "Epoch 48/50\n",
      "929/929 [==============================] - 3s 3ms/step - loss: 0.2815 - accuracy: 0.8746\n",
      "Epoch 49/50\n",
      "929/929 [==============================] - 3s 3ms/step - loss: 0.2803 - accuracy: 0.8756\n",
      "Epoch 50/50\n",
      "929/929 [==============================] - 3s 3ms/step - loss: 0.2806 - accuracy: 0.8749\n"
     ]
    }
   ],
   "source": [
    "result = model.fit(left_train, right_train,\n",
    "                   epochs=50,  # Anzahl Trainingsvorgänge\n",
    "                   batch_size=16,  # Parallelisierung von Trainingsvorgänge\n",
    "                   verbose=1)  # Output aktivieren"
   ]
  },
  {
   "cell_type": "code",
   "execution_count": 82,
   "id": "77b67090-4c09-4eb0-a78a-4a52e54f5b76",
   "metadata": {},
   "outputs": [
    {
     "data": {
      "image/png": "[encoded data removed]",
      "text/plain": [
       "<Figure size 640x480 with 1 Axes>"
      ]
     },
     "metadata": {},
     "output_type": "display_data"
    },
    {
     "data": {
      "text/plain": [
       "Text(0.5, 1.0, 'Accuracy')"
      ]
     },
     "execution_count": 82,
     "metadata": {},
     "output_type": "execute_result"
    },
    {
     "data": {
      "image/png": "[encoded data removed]",
      "text/plain": [
       "<Figure size 640x480 with 1 Axes>"
      ]
     },
     "metadata": {},
     "output_type": "display_data"
    }
   ],
   "source": [
    "plt.plot(result.history[\"loss\"])\n",
    "plt.title(\"Loss\")\n",
    "plt.show()\n",
    "plt.plot(result.history[\"accuracy\"])\n",
    "plt.title(\"Accuracy\")"
   ]
  },
  {
   "cell_type": "code",
   "execution_count": 83,
   "id": "ad1d7ccb-6f02-471e-a222-c9537b79b71f",
   "metadata": {},
   "outputs": [
    {
     "name": "stdout",
     "output_type": "stream",
     "text": [
      "119/119 [==============================] - 0s 2ms/step\n"
     ]
    }
   ],
   "source": [
    "right_pred = model.predict(left_test)"
   ]
  },
  {
   "cell_type": "code",
   "execution_count": 84,
   "id": "07003798-b4e1-458f-bf8e-bc1252f32e35",
   "metadata": {},
   "outputs": [
    {
     "data": {
      "text/plain": [
       "array([[0.9353489 ],\n",
       "       [0.619946  ],\n",
       "       [0.9804873 ],\n",
       "       ...,\n",
       "       [0.9975759 ],\n",
       "       [0.8135393 ],\n",
       "       [0.01543059]], dtype=float32)"
      ]
     },
     "execution_count": 84,
     "metadata": {},
     "output_type": "execute_result"
    }
   ],
   "source": [
    "right_pred"
   ]
  },
  {
   "cell_type": "code",
   "execution_count": 86,
   "id": "edf7e062-4b08-4df4-99cf-509ab4b56cf8",
   "metadata": {},
   "outputs": [
    {
     "data": {
      "text/html": [
       "<div>\n",
       "<style scoped>\n",
       "    .dataframe tbody tr th:only-of-type {\n",
       "        vertical-align: middle;\n",
       "    }\n",
       "\n",
       "    .dataframe tbody tr th {\n",
       "        vertical-align: top;\n",
       "    }\n",
       "\n",
       "    .dataframe thead th {\n",
       "        text-align: right;\n",
       "    }\n",
       "</style>\n",
       "<table border=\"1\" class=\"dataframe\">\n",
       "  <thead>\n",
       "    <tr style=\"text-align: right;\">\n",
       "      <th></th>\n",
       "      <th>0</th>\n",
       "      <th>1</th>\n",
       "      <th>2</th>\n",
       "      <th>3</th>\n",
       "      <th>4</th>\n",
       "      <th>5</th>\n",
       "      <th>6</th>\n",
       "      <th>7</th>\n",
       "      <th>8</th>\n",
       "      <th>9</th>\n",
       "      <th>Actual</th>\n",
       "      <th>Prediction</th>\n",
       "    </tr>\n",
       "  </thead>\n",
       "  <tbody>\n",
       "    <tr>\n",
       "      <th>0</th>\n",
       "      <td>-0.572785</td>\n",
       "      <td>-0.210295</td>\n",
       "      <td>-0.279486</td>\n",
       "      <td>-0.133721</td>\n",
       "      <td>0.072070</td>\n",
       "      <td>-0.117242</td>\n",
       "      <td>0.197719</td>\n",
       "      <td>-0.759115</td>\n",
       "      <td>-0.333016</td>\n",
       "      <td>-0.706782</td>\n",
       "      <td>1</td>\n",
       "      <td>0.935349</td>\n",
       "    </tr>\n",
       "    <tr>\n",
       "      <th>1</th>\n",
       "      <td>-0.959919</td>\n",
       "      <td>-0.564540</td>\n",
       "      <td>-1.168856</td>\n",
       "      <td>1.788345</td>\n",
       "      <td>1.443140</td>\n",
       "      <td>-0.229956</td>\n",
       "      <td>-0.050589</td>\n",
       "      <td>0.496662</td>\n",
       "      <td>-0.463020</td>\n",
       "      <td>-0.358714</td>\n",
       "      <td>1</td>\n",
       "      <td>0.619946</td>\n",
       "    </tr>\n",
       "    <tr>\n",
       "      <th>2</th>\n",
       "      <td>-0.189344</td>\n",
       "      <td>-0.265778</td>\n",
       "      <td>-0.181757</td>\n",
       "      <td>-0.670785</td>\n",
       "      <td>-0.676031</td>\n",
       "      <td>0.756421</td>\n",
       "      <td>0.458011</td>\n",
       "      <td>0.567576</td>\n",
       "      <td>-0.890454</td>\n",
       "      <td>-0.185688</td>\n",
       "      <td>1</td>\n",
       "      <td>0.980487</td>\n",
       "    </tr>\n",
       "    <tr>\n",
       "      <th>3</th>\n",
       "      <td>0.635881</td>\n",
       "      <td>-0.167795</td>\n",
       "      <td>-0.032605</td>\n",
       "      <td>-0.393785</td>\n",
       "      <td>-0.540095</td>\n",
       "      <td>0.584923</td>\n",
       "      <td>1.163272</td>\n",
       "      <td>-0.397464</td>\n",
       "      <td>-0.708172</td>\n",
       "      <td>0.386860</td>\n",
       "      <td>1</td>\n",
       "      <td>0.950793</td>\n",
       "    </tr>\n",
       "    <tr>\n",
       "      <th>4</th>\n",
       "      <td>1.079422</td>\n",
       "      <td>1.952221</td>\n",
       "      <td>2.096079</td>\n",
       "      <td>-1.071261</td>\n",
       "      <td>-0.985715</td>\n",
       "      <td>-0.582833</td>\n",
       "      <td>-1.507554</td>\n",
       "      <td>1.546605</td>\n",
       "      <td>0.120852</td>\n",
       "      <td>1.796905</td>\n",
       "      <td>0</td>\n",
       "      <td>0.000018</td>\n",
       "    </tr>\n",
       "    <tr>\n",
       "      <th>...</th>\n",
       "      <td>...</td>\n",
       "      <td>...</td>\n",
       "      <td>...</td>\n",
       "      <td>...</td>\n",
       "      <td>...</td>\n",
       "      <td>...</td>\n",
       "      <td>...</td>\n",
       "      <td>...</td>\n",
       "      <td>...</td>\n",
       "      <td>...</td>\n",
       "      <td>...</td>\n",
       "      <td>...</td>\n",
       "    </tr>\n",
       "    <tr>\n",
       "      <th>3799</th>\n",
       "      <td>-0.563586</td>\n",
       "      <td>-0.661968</td>\n",
       "      <td>-0.882072</td>\n",
       "      <td>1.078087</td>\n",
       "      <td>0.823773</td>\n",
       "      <td>0.491733</td>\n",
       "      <td>0.234242</td>\n",
       "      <td>-0.278902</td>\n",
       "      <td>-0.551559</td>\n",
       "      <td>0.233753</td>\n",
       "      <td>1</td>\n",
       "      <td>0.737163</td>\n",
       "    </tr>\n",
       "    <tr>\n",
       "      <th>3800</th>\n",
       "      <td>-0.505499</td>\n",
       "      <td>-0.433487</td>\n",
       "      <td>-0.642233</td>\n",
       "      <td>-0.304183</td>\n",
       "      <td>-0.323136</td>\n",
       "      <td>-0.388878</td>\n",
       "      <td>-0.500972</td>\n",
       "      <td>0.297356</td>\n",
       "      <td>-0.252232</td>\n",
       "      <td>-0.697744</td>\n",
       "      <td>1</td>\n",
       "      <td>0.930186</td>\n",
       "    </tr>\n",
       "    <tr>\n",
       "      <th>3801</th>\n",
       "      <td>1.275486</td>\n",
       "      <td>1.428096</td>\n",
       "      <td>2.998252</td>\n",
       "      <td>-1.631818</td>\n",
       "      <td>-1.539364</td>\n",
       "      <td>-0.591273</td>\n",
       "      <td>1.405220</td>\n",
       "      <td>1.293300</td>\n",
       "      <td>-1.050565</td>\n",
       "      <td>1.760694</td>\n",
       "      <td>1</td>\n",
       "      <td>0.997576</td>\n",
       "    </tr>\n",
       "    <tr>\n",
       "      <th>3802</th>\n",
       "      <td>-0.951904</td>\n",
       "      <td>-0.609849</td>\n",
       "      <td>-1.533523</td>\n",
       "      <td>2.016174</td>\n",
       "      <td>2.221850</td>\n",
       "      <td>0.285830</td>\n",
       "      <td>-0.336699</td>\n",
       "      <td>-0.445075</td>\n",
       "      <td>1.799931</td>\n",
       "      <td>-0.951662</td>\n",
       "      <td>1</td>\n",
       "      <td>0.813539</td>\n",
       "    </tr>\n",
       "    <tr>\n",
       "      <th>3803</th>\n",
       "      <td>-0.252357</td>\n",
       "      <td>-0.574820</td>\n",
       "      <td>0.096491</td>\n",
       "      <td>0.055317</td>\n",
       "      <td>0.270124</td>\n",
       "      <td>0.332680</td>\n",
       "      <td>0.500323</td>\n",
       "      <td>-0.424780</td>\n",
       "      <td>-0.347393</td>\n",
       "      <td>0.628442</td>\n",
       "      <td>0</td>\n",
       "      <td>0.015431</td>\n",
       "    </tr>\n",
       "  </tbody>\n",
       "</table>\n",
       "<p>3804 rows × 12 columns</p>\n",
       "</div>"
      ],
      "text/plain": [
       "             0         1         2         3         4         5         6  \\\n",
       "0    -0.572785 -0.210295 -0.279486 -0.133721  0.072070 -0.117242  0.197719   \n",
       "1    -0.959919 -0.564540 -1.168856  1.788345  1.443140 -0.229956 -0.050589   \n",
       "2    -0.189344 -0.265778 -0.181757 -0.670785 -0.676031  0.756421  0.458011   \n",
       "3     0.635881 -0.167795 -0.032605 -0.393785 -0.540095  0.584923  1.163272   \n",
       "4     1.079422  1.952221  2.096079 -1.071261 -0.985715 -0.582833 -1.507554   \n",
       "...        ...       ...       ...       ...       ...       ...       ...   \n",
       "3799 -0.563586 -0.661968 -0.882072  1.078087  0.823773  0.491733  0.234242   \n",
       "3800 -0.505499 -0.433487 -0.642233 -0.304183 -0.323136 -0.388878 -0.500972   \n",
       "3801  1.275486  1.428096  2.998252 -1.631818 -1.539364 -0.591273  1.405220   \n",
       "3802 -0.951904 -0.609849 -1.533523  2.016174  2.221850  0.285830 -0.336699   \n",
       "3803 -0.252357 -0.574820  0.096491  0.055317  0.270124  0.332680  0.500323   \n",
       "\n",
       "             7         8         9  Actual  Prediction  \n",
       "0    -0.759115 -0.333016 -0.706782       1    0.935349  \n",
       "1     0.496662 -0.463020 -0.358714       1    0.619946  \n",
       "2     0.567576 -0.890454 -0.185688       1    0.980487  \n",
       "3    -0.397464 -0.708172  0.386860       1    0.950793  \n",
       "4     1.546605  0.120852  1.796905       0    0.000018  \n",
       "...        ...       ...       ...     ...         ...  \n",
       "3799 -0.278902 -0.551559  0.233753       1    0.737163  \n",
       "3800  0.297356 -0.252232 -0.697744       1    0.930186  \n",
       "3801  1.293300 -1.050565  1.760694       1    0.997576  \n",
       "3802 -0.445075  1.799931 -0.951662       1    0.813539  \n",
       "3803 -0.424780 -0.347393  0.628442       0    0.015431  \n",
       "\n",
       "[3804 rows x 12 columns]"
      ]
     },
     "execution_count": 86,
     "metadata": {},
     "output_type": "execute_result"
    }
   ],
   "source": [
    "showPrediction(left_test, right_test, right_pred)  # Kommazahlen müssen umgewandelt werden"
   ]
  },
  {
   "cell_type": "code",
   "execution_count": 88,
   "id": "61ba36ed-b0f7-4280-b8fa-e83bc726c62a",
   "metadata": {},
   "outputs": [
    {
     "data": {
      "text/plain": [
       "array([[1],\n",
       "       [1],\n",
       "       [1],\n",
       "       ...,\n",
       "       [1],\n",
       "       [1],\n",
       "       [0]])"
      ]
     },
     "execution_count": 88,
     "metadata": {},
     "output_type": "execute_result"
    }
   ],
   "source": [
    "(right_pred >= 0.5).astype(int)"
   ]
  },
  {
   "cell_type": "code",
   "execution_count": 90,
   "id": "dd49804b-36b3-4e5d-bb35-b39c8eb1ad66",
   "metadata": {},
   "outputs": [],
   "source": [
    "predictions = showPrediction(left_test, right_test, (right_pred >= 0.5).astype(int))"
   ]
  },
  {
   "cell_type": "code",
   "execution_count": 92,
   "id": "2487f424-9f03-41fb-a256-7f07f388c70b",
   "metadata": {},
   "outputs": [
    {
     "data": {
      "text/html": [
       "<div>\n",
       "<style scoped>\n",
       "    .dataframe tbody tr th:only-of-type {\n",
       "        vertical-align: middle;\n",
       "    }\n",
       "\n",
       "    .dataframe tbody tr th {\n",
       "        vertical-align: top;\n",
       "    }\n",
       "\n",
       "    .dataframe thead th {\n",
       "        text-align: right;\n",
       "    }\n",
       "</style>\n",
       "<table border=\"1\" class=\"dataframe\">\n",
       "  <thead>\n",
       "    <tr style=\"text-align: right;\">\n",
       "      <th></th>\n",
       "      <th>0</th>\n",
       "      <th>1</th>\n",
       "      <th>2</th>\n",
       "      <th>3</th>\n",
       "      <th>4</th>\n",
       "      <th>5</th>\n",
       "      <th>6</th>\n",
       "      <th>7</th>\n",
       "      <th>8</th>\n",
       "      <th>9</th>\n",
       "      <th>Actual</th>\n",
       "      <th>Prediction</th>\n",
       "    </tr>\n",
       "  </thead>\n",
       "  <tbody>\n",
       "    <tr>\n",
       "      <th>0</th>\n",
       "      <td>-0.572785</td>\n",
       "      <td>-0.210295</td>\n",
       "      <td>-0.279486</td>\n",
       "      <td>-0.133721</td>\n",
       "      <td>0.072070</td>\n",
       "      <td>-0.117242</td>\n",
       "      <td>0.197719</td>\n",
       "      <td>-0.759115</td>\n",
       "      <td>-0.333016</td>\n",
       "      <td>-0.706782</td>\n",
       "      <td>1</td>\n",
       "      <td>1</td>\n",
       "    </tr>\n",
       "    <tr>\n",
       "      <th>1</th>\n",
       "      <td>-0.959919</td>\n",
       "      <td>-0.564540</td>\n",
       "      <td>-1.168856</td>\n",
       "      <td>1.788345</td>\n",
       "      <td>1.443140</td>\n",
       "      <td>-0.229956</td>\n",
       "      <td>-0.050589</td>\n",
       "      <td>0.496662</td>\n",
       "      <td>-0.463020</td>\n",
       "      <td>-0.358714</td>\n",
       "      <td>1</td>\n",
       "      <td>1</td>\n",
       "    </tr>\n",
       "    <tr>\n",
       "      <th>2</th>\n",
       "      <td>-0.189344</td>\n",
       "      <td>-0.265778</td>\n",
       "      <td>-0.181757</td>\n",
       "      <td>-0.670785</td>\n",
       "      <td>-0.676031</td>\n",
       "      <td>0.756421</td>\n",
       "      <td>0.458011</td>\n",
       "      <td>0.567576</td>\n",
       "      <td>-0.890454</td>\n",
       "      <td>-0.185688</td>\n",
       "      <td>1</td>\n",
       "      <td>1</td>\n",
       "    </tr>\n",
       "    <tr>\n",
       "      <th>3</th>\n",
       "      <td>0.635881</td>\n",
       "      <td>-0.167795</td>\n",
       "      <td>-0.032605</td>\n",
       "      <td>-0.393785</td>\n",
       "      <td>-0.540095</td>\n",
       "      <td>0.584923</td>\n",
       "      <td>1.163272</td>\n",
       "      <td>-0.397464</td>\n",
       "      <td>-0.708172</td>\n",
       "      <td>0.386860</td>\n",
       "      <td>1</td>\n",
       "      <td>1</td>\n",
       "    </tr>\n",
       "    <tr>\n",
       "      <th>4</th>\n",
       "      <td>1.079422</td>\n",
       "      <td>1.952221</td>\n",
       "      <td>2.096079</td>\n",
       "      <td>-1.071261</td>\n",
       "      <td>-0.985715</td>\n",
       "      <td>-0.582833</td>\n",
       "      <td>-1.507554</td>\n",
       "      <td>1.546605</td>\n",
       "      <td>0.120852</td>\n",
       "      <td>1.796905</td>\n",
       "      <td>0</td>\n",
       "      <td>0</td>\n",
       "    </tr>\n",
       "    <tr>\n",
       "      <th>...</th>\n",
       "      <td>...</td>\n",
       "      <td>...</td>\n",
       "      <td>...</td>\n",
       "      <td>...</td>\n",
       "      <td>...</td>\n",
       "      <td>...</td>\n",
       "      <td>...</td>\n",
       "      <td>...</td>\n",
       "      <td>...</td>\n",
       "      <td>...</td>\n",
       "      <td>...</td>\n",
       "      <td>...</td>\n",
       "    </tr>\n",
       "    <tr>\n",
       "      <th>3799</th>\n",
       "      <td>-0.563586</td>\n",
       "      <td>-0.661968</td>\n",
       "      <td>-0.882072</td>\n",
       "      <td>1.078087</td>\n",
       "      <td>0.823773</td>\n",
       "      <td>0.491733</td>\n",
       "      <td>0.234242</td>\n",
       "      <td>-0.278902</td>\n",
       "      <td>-0.551559</td>\n",
       "      <td>0.233753</td>\n",
       "      <td>1</td>\n",
       "      <td>1</td>\n",
       "    </tr>\n",
       "    <tr>\n",
       "      <th>3800</th>\n",
       "      <td>-0.505499</td>\n",
       "      <td>-0.433487</td>\n",
       "      <td>-0.642233</td>\n",
       "      <td>-0.304183</td>\n",
       "      <td>-0.323136</td>\n",
       "      <td>-0.388878</td>\n",
       "      <td>-0.500972</td>\n",
       "      <td>0.297356</td>\n",
       "      <td>-0.252232</td>\n",
       "      <td>-0.697744</td>\n",
       "      <td>1</td>\n",
       "      <td>1</td>\n",
       "    </tr>\n",
       "    <tr>\n",
       "      <th>3801</th>\n",
       "      <td>1.275486</td>\n",
       "      <td>1.428096</td>\n",
       "      <td>2.998252</td>\n",
       "      <td>-1.631818</td>\n",
       "      <td>-1.539364</td>\n",
       "      <td>-0.591273</td>\n",
       "      <td>1.405220</td>\n",
       "      <td>1.293300</td>\n",
       "      <td>-1.050565</td>\n",
       "      <td>1.760694</td>\n",
       "      <td>1</td>\n",
       "      <td>1</td>\n",
       "    </tr>\n",
       "    <tr>\n",
       "      <th>3802</th>\n",
       "      <td>-0.951904</td>\n",
       "      <td>-0.609849</td>\n",
       "      <td>-1.533523</td>\n",
       "      <td>2.016174</td>\n",
       "      <td>2.221850</td>\n",
       "      <td>0.285830</td>\n",
       "      <td>-0.336699</td>\n",
       "      <td>-0.445075</td>\n",
       "      <td>1.799931</td>\n",
       "      <td>-0.951662</td>\n",
       "      <td>1</td>\n",
       "      <td>1</td>\n",
       "    </tr>\n",
       "    <tr>\n",
       "      <th>3803</th>\n",
       "      <td>-0.252357</td>\n",
       "      <td>-0.574820</td>\n",
       "      <td>0.096491</td>\n",
       "      <td>0.055317</td>\n",
       "      <td>0.270124</td>\n",
       "      <td>0.332680</td>\n",
       "      <td>0.500323</td>\n",
       "      <td>-0.424780</td>\n",
       "      <td>-0.347393</td>\n",
       "      <td>0.628442</td>\n",
       "      <td>0</td>\n",
       "      <td>0</td>\n",
       "    </tr>\n",
       "  </tbody>\n",
       "</table>\n",
       "<p>3804 rows × 12 columns</p>\n",
       "</div>"
      ],
      "text/plain": [
       "             0         1         2         3         4         5         6  \\\n",
       "0    -0.572785 -0.210295 -0.279486 -0.133721  0.072070 -0.117242  0.197719   \n",
       "1    -0.959919 -0.564540 -1.168856  1.788345  1.443140 -0.229956 -0.050589   \n",
       "2    -0.189344 -0.265778 -0.181757 -0.670785 -0.676031  0.756421  0.458011   \n",
       "3     0.635881 -0.167795 -0.032605 -0.393785 -0.540095  0.584923  1.163272   \n",
       "4     1.079422  1.952221  2.096079 -1.071261 -0.985715 -0.582833 -1.507554   \n",
       "...        ...       ...       ...       ...       ...       ...       ...   \n",
       "3799 -0.563586 -0.661968 -0.882072  1.078087  0.823773  0.491733  0.234242   \n",
       "3800 -0.505499 -0.433487 -0.642233 -0.304183 -0.323136 -0.388878 -0.500972   \n",
       "3801  1.275486  1.428096  2.998252 -1.631818 -1.539364 -0.591273  1.405220   \n",
       "3802 -0.951904 -0.609849 -1.533523  2.016174  2.221850  0.285830 -0.336699   \n",
       "3803 -0.252357 -0.574820  0.096491  0.055317  0.270124  0.332680  0.500323   \n",
       "\n",
       "             7         8         9  Actual  Prediction  \n",
       "0    -0.759115 -0.333016 -0.706782       1           1  \n",
       "1     0.496662 -0.463020 -0.358714       1           1  \n",
       "2     0.567576 -0.890454 -0.185688       1           1  \n",
       "3    -0.397464 -0.708172  0.386860       1           1  \n",
       "4     1.546605  0.120852  1.796905       0           0  \n",
       "...        ...       ...       ...     ...         ...  \n",
       "3799 -0.278902 -0.551559  0.233753       1           1  \n",
       "3800  0.297356 -0.252232 -0.697744       1           1  \n",
       "3801  1.293300 -1.050565  1.760694       1           1  \n",
       "3802 -0.445075  1.799931 -0.951662       1           1  \n",
       "3803 -0.424780 -0.347393  0.628442       0           0  \n",
       "\n",
       "[3804 rows x 12 columns]"
      ]
     },
     "execution_count": 92,
     "metadata": {},
     "output_type": "execute_result"
    }
   ],
   "source": [
    "predictions"
   ]
  },
  {
   "cell_type": "code",
   "execution_count": 91,
   "id": "2dffcb3b-de47-4312-b849-36a6470d9621",
   "metadata": {},
   "outputs": [
    {
     "name": "stdout",
     "output_type": "stream",
     "text": [
      "Accuracy: 0.8625131440588854\n",
      "Wrong Points: 0.13748685594111462\n"
     ]
    }
   ],
   "source": [
    "eval(predictions)"
   ]
  },
  {
   "cell_type": "markdown",
   "id": "eddef77c-93f3-4bbe-ab07-c1dec292edee",
   "metadata": {},
   "source": [
    "## Modelle speichern"
   ]
  },
  {
   "cell_type": "code",
   "execution_count": 93,
   "id": "64f4ca4f-0c90-405a-a9a5-b31d68ee86e1",
   "metadata": {},
   "outputs": [],
   "source": [
    "model.save(\"Test.keras\")"
   ]
  },
  {
   "cell_type": "code",
   "execution_count": 95,
   "id": "d6851528-c11f-4ac8-96b8-f8e3afc59f41",
   "metadata": {},
   "outputs": [],
   "source": [
    "model = tf.keras.saving.load_model(\"Test.keras\")"
   ]
  }
 ],
 "metadata": {
  "kernelspec": {
   "display_name": "Python 3 (ipykernel)",
   "language": "python",
   "name": "python3"
  },
  "language_info": {
   "codemirror_mode": {
    "name": "ipython",
    "version": 3
   },
   "file_extension": ".py",
   "mimetype": "text/x-python",
   "name": "python",
   "nbconvert_exporter": "python",
   "pygments_lexer": "ipython3",
   "version": "3.10.6"
  }
 },
 "nbformat": 4,
 "nbformat_minor": 5
}

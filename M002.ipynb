{
 "cells": [
  {
   "cell_type": "markdown",
   "id": "5dca5fdc-b85c-4780-bc1c-a0e723f89d1e",
   "metadata": {},
   "source": [
    "## Numpy\n",
    "\n",
    "Ermöglicht und Arrays zu erstellen die mit C-basierten Zahlen befüllt sind (statt mit Python Objekte)\n",
    "\n",
    "Muss installiert werden (über pip oder Python Packages) und importiert werden"
   ]
  },
  {
   "cell_type": "code",
   "execution_count": 1,
   "id": "7793b850-69a3-4e6d-9cab-67a246bb42f8",
   "metadata": {},
   "outputs": [],
   "source": [
    "import numpy as np"
   ]
  },
  {
   "cell_type": "markdown",
   "id": "27be5aae-ef00-414a-8927-e8671022084d",
   "metadata": {},
   "source": [
    "## Arrays\n",
    "\n",
    "Numpy Array aus einer Python Liste erzeugen"
   ]
  },
  {
   "cell_type": "code",
   "execution_count": 2,
   "id": "d30868b8-d43d-4eb8-9635-51b0905dd34b",
   "metadata": {},
   "outputs": [
    {
     "data": {
      "text/plain": [
       "array([1, 2, 3, 4])"
      ]
     },
     "execution_count": 2,
     "metadata": {},
     "output_type": "execute_result"
    }
   ],
   "source": [
    "np.array([1, 2, 3, 4])"
   ]
  },
  {
   "cell_type": "code",
   "execution_count": 3,
   "id": "d8bd369d-4faa-4896-a6b3-934f154db3b4",
   "metadata": {},
   "outputs": [],
   "source": [
    "a = np.array([1, 2, 3, 4])"
   ]
  },
  {
   "cell_type": "code",
   "execution_count": 4,
   "id": "3ba25290-7544-4e43-9b82-bbe2338ebf67",
   "metadata": {},
   "outputs": [
    {
     "data": {
      "text/plain": [
       "array([1, 2, 3, 4])"
      ]
     },
     "execution_count": 4,
     "metadata": {},
     "output_type": "execute_result"
    }
   ],
   "source": [
    "a"
   ]
  },
  {
   "cell_type": "code",
   "execution_count": 5,
   "id": "8e5c5c53-4bee-45d9-8cdc-c555d62d343d",
   "metadata": {},
   "outputs": [
    {
     "data": {
      "text/plain": [
       "1"
      ]
     },
     "execution_count": 5,
     "metadata": {},
     "output_type": "execute_result"
    }
   ],
   "source": [
    "a[0]"
   ]
  },
  {
   "cell_type": "code",
   "execution_count": 6,
   "id": "6aca2143-7b8e-452b-a3b6-94e70f7eaf8e",
   "metadata": {},
   "outputs": [
    {
     "data": {
      "text/plain": [
       "array([1, 2])"
      ]
     },
     "execution_count": 6,
     "metadata": {},
     "output_type": "execute_result"
    }
   ],
   "source": [
    "a[0:2]"
   ]
  },
  {
   "cell_type": "markdown",
   "id": "bc77148d-ccde-4b74-adab-0d1fee006564",
   "metadata": {},
   "source": [
    "## Typen\n",
    "\n",
    "Jedes Numpy Array hat einen Typen (im Gegensatz zu Python Listen)"
   ]
  },
  {
   "cell_type": "code",
   "execution_count": 7,
   "id": "2c45eb06-57ea-41a7-805d-076900f16e49",
   "metadata": {},
   "outputs": [
    {
     "data": {
      "text/plain": [
       "dtype('int32')"
      ]
     },
     "execution_count": 7,
     "metadata": {},
     "output_type": "execute_result"
    }
   ],
   "source": [
    "a.dtype"
   ]
  },
  {
   "cell_type": "code",
   "execution_count": 8,
   "id": "43705c59-a9b4-4b63-a6af-2898cd1e640c",
   "metadata": {},
   "outputs": [],
   "source": [
    "b = np.array([0.22, 2.44, 2.84, 7.19])"
   ]
  },
  {
   "cell_type": "code",
   "execution_count": 9,
   "id": "d8ac4591-91a1-496c-b9c8-f66795de98a4",
   "metadata": {},
   "outputs": [
    {
     "data": {
      "text/plain": [
       "dtype('float64')"
      ]
     },
     "execution_count": 9,
     "metadata": {},
     "output_type": "execute_result"
    }
   ],
   "source": [
    "b.dtype"
   ]
  },
  {
   "cell_type": "markdown",
   "id": "bb6e851a-4db8-4d13-aeb6-9901c3ba6237",
   "metadata": {},
   "source": [
    "a: int32, b: float64 -> Möglicherweise ineffizient\n",
    "\n",
    "Nachdem Numpy in C geschrieben ist, können hier effizientere Typen angegeben werden"
   ]
  },
  {
   "cell_type": "code",
   "execution_count": 10,
   "id": "a1a5d4be-7e6f-470f-b277-61cf19537a1d",
   "metadata": {},
   "outputs": [],
   "source": [
    "c = np.array([1, 2, 3, 4], dtype=np.int8)"
   ]
  },
  {
   "cell_type": "code",
   "execution_count": 11,
   "id": "4e5710a3-f79c-4020-8b23-a29b01d2cbf2",
   "metadata": {},
   "outputs": [
    {
     "data": {
      "text/plain": [
       "array([1, 2, 3, 4], dtype=int8)"
      ]
     },
     "execution_count": 11,
     "metadata": {},
     "output_type": "execute_result"
    }
   ],
   "source": [
    "c"
   ]
  },
  {
   "cell_type": "markdown",
   "id": "475296cc-138b-4108-bb97-15b965ffb1c9",
   "metadata": {},
   "source": [
    "## Matrizen\n",
    "\n",
    "Matrizen werden oft benötigt in wissenschaftlichen Berechnungen, sowie bei Datensets\n",
    "\n",
    "Ein Datenset in tabellarischer Form ist eine Matrix"
   ]
  },
  {
   "cell_type": "code",
   "execution_count": 20,
   "id": "213db3eb-d7bd-4963-8ca3-73ffcf635c22",
   "metadata": {},
   "outputs": [],
   "source": [
    "n = np.array(\n",
    "[\n",
    "    [1, 2, 3],\n",
    "    [4, 5, 6],\n",
    "    [7, 8, 9]\n",
    "])"
   ]
  },
  {
   "cell_type": "code",
   "execution_count": 21,
   "id": "934c9773-c6ad-4b4a-9140-37687dc56501",
   "metadata": {},
   "outputs": [
    {
     "data": {
      "text/plain": [
       "array([[1, 2, 3],\n",
       "       [4, 5, 6],\n",
       "       [7, 8, 9]])"
      ]
     },
     "execution_count": 21,
     "metadata": {},
     "output_type": "execute_result"
    }
   ],
   "source": [
    "n"
   ]
  },
  {
   "cell_type": "code",
   "execution_count": 22,
   "id": "068c5bff-71be-42d7-a685-8efae5754215",
   "metadata": {},
   "outputs": [
    {
     "data": {
      "text/plain": [
       "(3, 3)"
      ]
     },
     "execution_count": 22,
     "metadata": {},
     "output_type": "execute_result"
    }
   ],
   "source": [
    "n.shape"
   ]
  },
  {
   "cell_type": "code",
   "execution_count": 23,
   "id": "cf0e44ae-2a0d-473d-89e0-d92583dc32d1",
   "metadata": {},
   "outputs": [
    {
     "data": {
      "text/plain": [
       "9"
      ]
     },
     "execution_count": 23,
     "metadata": {},
     "output_type": "execute_result"
    }
   ],
   "source": [
    "n.size"
   ]
  },
  {
   "cell_type": "code",
   "execution_count": 24,
   "id": "39d5efdd-df40-4ada-9602-6dfa962a5365",
   "metadata": {},
   "outputs": [
    {
     "data": {
      "text/plain": [
       "2"
      ]
     },
     "execution_count": 24,
     "metadata": {},
     "output_type": "execute_result"
    }
   ],
   "source": [
    "n.ndim"
   ]
  },
  {
   "cell_type": "markdown",
   "id": "ef33f634-1a37-458d-af60-e28b7ae4424a",
   "metadata": {},
   "source": [
    "## Matrix angreifen"
   ]
  },
  {
   "cell_type": "code",
   "execution_count": 25,
   "id": "c74cf04b-a5b2-4481-aea6-1bfa47a0e650",
   "metadata": {},
   "outputs": [
    {
     "data": {
      "text/plain": [
       "array([4, 5, 6])"
      ]
     },
     "execution_count": 25,
     "metadata": {},
     "output_type": "execute_result"
    }
   ],
   "source": [
    "n[1]"
   ]
  },
  {
   "cell_type": "code",
   "execution_count": 28,
   "id": "c2447c10-9d3b-480c-bcda-6d3e366131f7",
   "metadata": {},
   "outputs": [
    {
     "data": {
      "text/plain": [
       "4"
      ]
     },
     "execution_count": 28,
     "metadata": {},
     "output_type": "execute_result"
    }
   ],
   "source": [
    "n[1][0]  # Array Nummer 1, Element Nummer 0"
   ]
  },
  {
   "cell_type": "code",
   "execution_count": 29,
   "id": "2654f041-d9d3-4e0d-ad99-0488a9702986",
   "metadata": {},
   "outputs": [
    {
     "data": {
      "text/plain": [
       "4"
      ]
     },
     "execution_count": 29,
     "metadata": {},
     "output_type": "execute_result"
    }
   ],
   "source": [
    "n[1, 0]  # 2-Dimensionaler Index"
   ]
  },
  {
   "cell_type": "markdown",
   "id": "70734b42-25de-4d7f-8463-558e37cb06c6",
   "metadata": {},
   "source": [
    "## Slicing von Matrizen\n",
    "\n",
    "Bei einer Matrix können Bereiche angegeben werden\n",
    "\n",
    "z.B.: 0:2 -> Die Zeilen von 0 bis exklusive 2\n",
    "\n",
    ":2 -> Alle Zeilen bis zur 2\n",
    "\n",
    "2: -> Alle Zeilen ab 2"
   ]
  },
  {
   "cell_type": "code",
   "execution_count": 30,
   "id": "b524a550-5840-4515-af98-476566a2d126",
   "metadata": {},
   "outputs": [
    {
     "data": {
      "text/plain": [
       "array([[1, 2, 3],\n",
       "       [4, 5, 6]])"
      ]
     },
     "execution_count": 30,
     "metadata": {},
     "output_type": "execute_result"
    }
   ],
   "source": [
    "n[0:2]"
   ]
  },
  {
   "cell_type": "code",
   "execution_count": 32,
   "id": "9953ecca-2f82-4337-9a01-5dd5cde0f3d6",
   "metadata": {},
   "outputs": [
    {
     "data": {
      "text/plain": [
       "array([[2, 3],\n",
       "       [5, 6]])"
      ]
     },
     "execution_count": 32,
     "metadata": {},
     "output_type": "execute_result"
    }
   ],
   "source": [
    "n[0:2, 1:]  # Zeilen 0-2, Spalten von 1 bis zum Ende"
   ]
  },
  {
   "cell_type": "code",
   "execution_count": 35,
   "id": "9e869be4-8d82-46ef-8182-45869f0b04b5",
   "metadata": {},
   "outputs": [
    {
     "data": {
      "text/plain": [
       "array([3, 6, 9])"
      ]
     },
     "execution_count": 35,
     "metadata": {},
     "output_type": "execute_result"
    }
   ],
   "source": [
    "n[:, 2]  # : -> Alles, Nur Spalte 2"
   ]
  },
  {
   "cell_type": "code",
   "execution_count": 34,
   "id": "3db3f2b8-b659-417a-8852-a5edef635a23",
   "metadata": {},
   "outputs": [
    {
     "data": {
      "text/plain": [
       "array([[3],\n",
       "       [6],\n",
       "       [9]])"
      ]
     },
     "execution_count": 34,
     "metadata": {},
     "output_type": "execute_result"
    }
   ],
   "source": [
    "np.array([[3], [6], [9]])"
   ]
  },
  {
   "cell_type": "code",
   "execution_count": 36,
   "id": "d18d23a5-8e9d-4ef8-831d-6366c17e71c6",
   "metadata": {},
   "outputs": [
    {
     "data": {
      "text/plain": [
       "array([4, 7])"
      ]
     },
     "execution_count": 36,
     "metadata": {},
     "output_type": "execute_result"
    }
   ],
   "source": [
    "n[1:, 0]"
   ]
  },
  {
   "cell_type": "markdown",
   "id": "a58bd928-fb36-49d3-bf73-d93e918c7079",
   "metadata": {},
   "source": [
    "## Neue Werte eintragen"
   ]
  },
  {
   "cell_type": "code",
   "execution_count": 37,
   "id": "c011b9fb-8d18-43ae-9d1e-f66b2fd3c687",
   "metadata": {},
   "outputs": [],
   "source": [
    "n[1, 1] = 10"
   ]
  },
  {
   "cell_type": "code",
   "execution_count": 38,
   "id": "d6a62f97-82c4-485d-9701-5c6a09776ef0",
   "metadata": {},
   "outputs": [
    {
     "data": {
      "text/plain": [
       "array([[ 1,  2,  3],\n",
       "       [ 4, 10,  6],\n",
       "       [ 7,  8,  9]])"
      ]
     },
     "execution_count": 38,
     "metadata": {},
     "output_type": "execute_result"
    }
   ],
   "source": [
    "n"
   ]
  },
  {
   "cell_type": "code",
   "execution_count": 43,
   "id": "d6b87a38-6996-46af-99a1-561181f3f90c",
   "metadata": {},
   "outputs": [],
   "source": [
    "n[1] = 10  # Gesamte Zeile anpassen"
   ]
  },
  {
   "cell_type": "code",
   "execution_count": 40,
   "id": "3f0c2513-6b92-40fc-8efd-bf5711d5f13a",
   "metadata": {},
   "outputs": [
    {
     "data": {
      "text/plain": [
       "array([[ 1,  2,  3],\n",
       "       [10, 10, 10],\n",
       "       [ 7,  8,  9]])"
      ]
     },
     "execution_count": 40,
     "metadata": {},
     "output_type": "execute_result"
    }
   ],
   "source": [
    "n"
   ]
  },
  {
   "cell_type": "code",
   "execution_count": 44,
   "id": "bec35ef9-4ca8-4160-b60a-4b6dd38b288e",
   "metadata": {},
   "outputs": [],
   "source": [
    "n[:, 1] = 20  # Spalte anpassen"
   ]
  },
  {
   "cell_type": "code",
   "execution_count": 45,
   "id": "1b81419d-cd3f-414a-b15e-a459145e1212",
   "metadata": {},
   "outputs": [
    {
     "data": {
      "text/plain": [
       "array([[ 1, 20,  3],\n",
       "       [10, 20, 10],\n",
       "       [ 7, 20,  9]])"
      ]
     },
     "execution_count": 45,
     "metadata": {},
     "output_type": "execute_result"
    }
   ],
   "source": [
    "n"
   ]
  },
  {
   "cell_type": "markdown",
   "id": "05a2a757-2c31-4d3a-be52-189d3c27e020",
   "metadata": {},
   "source": [
    "## Einfache Analyse von Arrays"
   ]
  },
  {
   "cell_type": "code",
   "execution_count": 46,
   "id": "a580f8aa-86d7-4c36-94c8-36df7cf90552",
   "metadata": {},
   "outputs": [
    {
     "data": {
      "text/plain": [
       "10"
      ]
     },
     "execution_count": 46,
     "metadata": {},
     "output_type": "execute_result"
    }
   ],
   "source": [
    "a.sum()"
   ]
  },
  {
   "cell_type": "code",
   "execution_count": 47,
   "id": "09483ebb-e338-4292-9bd3-5fbcf166e4b5",
   "metadata": {},
   "outputs": [
    {
     "data": {
      "text/plain": [
       "2.5"
      ]
     },
     "execution_count": 47,
     "metadata": {},
     "output_type": "execute_result"
    }
   ],
   "source": [
    "a.mean()"
   ]
  },
  {
   "cell_type": "code",
   "execution_count": 48,
   "id": "54d86d53-4d22-4f1a-b63c-1e71c54670ca",
   "metadata": {},
   "outputs": [
    {
     "data": {
      "text/plain": [
       "1.118033988749895"
      ]
     },
     "execution_count": 48,
     "metadata": {},
     "output_type": "execute_result"
    }
   ],
   "source": [
    "a.std()"
   ]
  },
  {
   "cell_type": "code",
   "execution_count": 49,
   "id": "d9791175-83de-4ddc-9fcc-186d1e3b0ca7",
   "metadata": {},
   "outputs": [
    {
     "data": {
      "text/plain": [
       "1.25"
      ]
     },
     "execution_count": 49,
     "metadata": {},
     "output_type": "execute_result"
    }
   ],
   "source": [
    "a.var()"
   ]
  },
  {
   "cell_type": "markdown",
   "id": "2789f4bb-5d76-40c2-bb33-e8ce387cfcd9",
   "metadata": {},
   "source": [
    "Matrizen:"
   ]
  },
  {
   "cell_type": "code",
   "execution_count": 50,
   "id": "e3b2311d-9906-4a86-860c-3a27065cd687",
   "metadata": {},
   "outputs": [
    {
     "data": {
      "text/plain": [
       "100"
      ]
     },
     "execution_count": 50,
     "metadata": {},
     "output_type": "execute_result"
    }
   ],
   "source": [
    "n.sum()"
   ]
  },
  {
   "cell_type": "code",
   "execution_count": 51,
   "id": "a700b115-fdc5-435e-bee7-9992fd694301",
   "metadata": {},
   "outputs": [
    {
     "data": {
      "text/plain": [
       "11.11111111111111"
      ]
     },
     "execution_count": 51,
     "metadata": {},
     "output_type": "execute_result"
    }
   ],
   "source": [
    "n.mean()"
   ]
  },
  {
   "cell_type": "code",
   "execution_count": 52,
   "id": "60998aa4-4443-499e-b27e-1e79f75942aa",
   "metadata": {},
   "outputs": [
    {
     "data": {
      "text/plain": [
       "6.9032109186706965"
      ]
     },
     "execution_count": 52,
     "metadata": {},
     "output_type": "execute_result"
    }
   ],
   "source": [
    "n.std()"
   ]
  },
  {
   "cell_type": "code",
   "execution_count": 53,
   "id": "d6742c30-160e-4d3b-b6cc-0fb967b57d9a",
   "metadata": {},
   "outputs": [
    {
     "data": {
      "text/plain": [
       "47.65432098765432"
      ]
     },
     "execution_count": 53,
     "metadata": {},
     "output_type": "execute_result"
    }
   ],
   "source": [
    "n.var()"
   ]
  },
  {
   "cell_type": "markdown",
   "id": "8a428bd3-ee34-4e86-a5a0-339f83787adf",
   "metadata": {},
   "source": [
    "Auch verschiedene Achsen sind möglich"
   ]
  },
  {
   "cell_type": "code",
   "execution_count": 57,
   "id": "8d5616ce-e420-4c7f-b642-bc02db2db2f9",
   "metadata": {},
   "outputs": [
    {
     "data": {
      "text/plain": [
       "array([18, 60, 22])"
      ]
     },
     "execution_count": 57,
     "metadata": {},
     "output_type": "execute_result"
    }
   ],
   "source": [
    "n.sum(axis=0)  # Y-Achse (0)"
   ]
  },
  {
   "cell_type": "code",
   "execution_count": 58,
   "id": "9a32cc6f-10e2-434a-b4bc-3dfb7e1a7227",
   "metadata": {},
   "outputs": [
    {
     "data": {
      "text/plain": [
       "array([24, 40, 36])"
      ]
     },
     "execution_count": 58,
     "metadata": {},
     "output_type": "execute_result"
    }
   ],
   "source": [
    "n.sum(axis=1)  # X-Achse (1)"
   ]
  },
  {
   "cell_type": "code",
   "execution_count": 59,
   "id": "d0815e74-fa85-4d25-99a8-9ef740771516",
   "metadata": {},
   "outputs": [
    {
     "data": {
      "text/plain": [
       "array([[ 1, 20,  3],\n",
       "       [10, 20, 10],\n",
       "       [ 7, 20,  9]])"
      ]
     },
     "execution_count": 59,
     "metadata": {},
     "output_type": "execute_result"
    }
   ],
   "source": [
    "n"
   ]
  },
  {
   "cell_type": "markdown",
   "id": "7347899e-96cc-475c-8d5e-4d768403a348",
   "metadata": {},
   "source": [
    "## Vektorisierung von Array/Matrizen\n",
    "\n",
    "Eine Operation auf ein gesamtes Array anwenden\n",
    "\n",
    "WICHTIG: Bei Vektorisierung kommt ein Array als Ergebnis heraus"
   ]
  },
  {
   "cell_type": "code",
   "execution_count": 64,
   "id": "3687d532-d995-417b-92dd-3a394ce6b9df",
   "metadata": {},
   "outputs": [],
   "source": [
    "v = np.arange(10)  # arange(X): Generiert ein Array befüllt mit Zahlen von 0 bis X, es kann auch eine Untergrenze angegeben werden"
   ]
  },
  {
   "cell_type": "code",
   "execution_count": 65,
   "id": "d7cad84b-37ad-4aa6-948a-15179ba6f5bc",
   "metadata": {},
   "outputs": [
    {
     "data": {
      "text/plain": [
       "array([0, 1, 2, 3, 4, 5, 6, 7, 8, 9])"
      ]
     },
     "execution_count": 65,
     "metadata": {},
     "output_type": "execute_result"
    }
   ],
   "source": [
    "v"
   ]
  },
  {
   "cell_type": "code",
   "execution_count": 68,
   "id": "e3d9317c-8660-48d0-add0-e75348890642",
   "metadata": {},
   "outputs": [
    {
     "data": {
      "text/plain": [
       "array([10, 11, 12, 13, 14, 15, 16, 17, 18, 19])"
      ]
     },
     "execution_count": 68,
     "metadata": {},
     "output_type": "execute_result"
    }
   ],
   "source": [
    "v + 10  # Gesamtes Array wurde um 10 erhöht"
   ]
  },
  {
   "cell_type": "code",
   "execution_count": 69,
   "id": "0f248bb2-e714-44aa-91ad-1dec4073eb71",
   "metadata": {},
   "outputs": [
    {
     "data": {
      "text/plain": [
       "array([0, 1, 2, 3, 4, 5, 6, 7, 8, 9])"
      ]
     },
     "execution_count": 69,
     "metadata": {},
     "output_type": "execute_result"
    }
   ],
   "source": [
    "v"
   ]
  },
  {
   "cell_type": "code",
   "execution_count": 71,
   "id": "669bc252-00d0-43f5-ad26-cd67827bed32",
   "metadata": {},
   "outputs": [
    {
     "data": {
      "text/plain": [
       "array([ 0,  1,  4,  9, 16, 25, 36, 49, 64, 81])"
      ]
     },
     "execution_count": 71,
     "metadata": {},
     "output_type": "execute_result"
    }
   ],
   "source": [
    "v * v  # Es kann auch mit Arrays vektorisiert werden, wenn die Form passt"
   ]
  },
  {
   "cell_type": "markdown",
   "id": "15e8b45e-9d4a-4752-b301-1ff726c8be00",
   "metadata": {},
   "source": [
    "## Boolean Masken\n",
    "\n",
    "Daten filtern mithilfe von Vektorisierung"
   ]
  },
  {
   "cell_type": "code",
   "execution_count": 72,
   "id": "4304bf68-bb36-4cfe-9632-7c7b589adfdb",
   "metadata": {},
   "outputs": [],
   "source": [
    "ba = np.arange(0, 4)"
   ]
  },
  {
   "cell_type": "code",
   "execution_count": 73,
   "id": "33a1735f-5daa-4a06-8176-6648518c7fe5",
   "metadata": {},
   "outputs": [
    {
     "data": {
      "text/plain": [
       "array([0, 1, 2, 3])"
      ]
     },
     "execution_count": 73,
     "metadata": {},
     "output_type": "execute_result"
    }
   ],
   "source": [
    "ba"
   ]
  },
  {
   "cell_type": "code",
   "execution_count": 74,
   "id": "754cc81e-75fb-45c4-b799-d9d6d4c4a033",
   "metadata": {},
   "outputs": [
    {
     "data": {
      "text/plain": [
       "array([False, False,  True,  True])"
      ]
     },
     "execution_count": 74,
     "metadata": {},
     "output_type": "execute_result"
    }
   ],
   "source": [
    "ba >= 2"
   ]
  },
  {
   "cell_type": "code",
   "execution_count": 76,
   "id": "bcf05392-f483-4511-a41b-a00611b913aa",
   "metadata": {},
   "outputs": [
    {
     "data": {
      "text/plain": [
       "array([2, 3])"
      ]
     },
     "execution_count": 76,
     "metadata": {},
     "output_type": "execute_result"
    }
   ],
   "source": [
    "ba[ba >= 2]  # Hier kommen nur alle Daten heraus, bei denen in dem entsprechenden Boolean Array True steht"
   ]
  },
  {
   "cell_type": "code",
   "execution_count": 77,
   "id": "38ec526a-b951-4de1-8c38-1282ba560d44",
   "metadata": {},
   "outputs": [
    {
     "data": {
      "text/plain": [
       "1.5"
      ]
     },
     "execution_count": 77,
     "metadata": {},
     "output_type": "execute_result"
    }
   ],
   "source": [
    "ba.mean()"
   ]
  },
  {
   "cell_type": "code",
   "execution_count": 78,
   "id": "de333ee0-d10f-409f-9338-2f018f4d0a82",
   "metadata": {},
   "outputs": [
    {
     "data": {
      "text/plain": [
       "array([ True,  True, False, False])"
      ]
     },
     "execution_count": 78,
     "metadata": {},
     "output_type": "execute_result"
    }
   ],
   "source": [
    "ba < ba.mean()"
   ]
  },
  {
   "cell_type": "code",
   "execution_count": 79,
   "id": "4b700474-8c4e-4f6e-b917-b990e005d018",
   "metadata": {},
   "outputs": [
    {
     "data": {
      "text/plain": [
       "array([0, 1])"
      ]
     },
     "execution_count": 79,
     "metadata": {},
     "output_type": "execute_result"
    }
   ],
   "source": [
    "ba[ba < ba.mean()]"
   ]
  },
  {
   "cell_type": "code",
   "execution_count": 83,
   "id": "1a185e6e-be6d-4709-812e-2530f218ed46",
   "metadata": {},
   "outputs": [],
   "source": [
    "r = np.random.randint(100, size=(10, 10))  # randint: Generiert eine Zufallszahll bis zur Obergrenze, kann auch eine size erhalten"
   ]
  },
  {
   "cell_type": "code",
   "execution_count": 84,
   "id": "02277531-eedb-4900-af1a-871feef6a2cc",
   "metadata": {},
   "outputs": [
    {
     "data": {
      "text/plain": [
       "array([[42, 97, 35, 48, 82, 15, 72, 48, 58, 40],\n",
       "       [ 0, 67, 72,  6, 81, 84, 29, 60, 75, 50],\n",
       "       [44, 57, 67, 73, 88, 94, 14, 38, 73, 18],\n",
       "       [36, 46, 83, 28,  2,  0, 75, 22, 53, 90],\n",
       "       [86,  5, 69, 50, 77, 30, 81,  4, 24, 26],\n",
       "       [84, 41, 23, 94, 34, 49, 98, 50, 84, 50],\n",
       "       [31, 89, 62, 53, 70, 62, 49, 90,  3, 32],\n",
       "       [24, 96, 35, 64, 98, 37, 62, 43, 96, 34],\n",
       "       [ 6, 40, 51, 70, 82,  5, 49, 20, 22, 24],\n",
       "       [75, 64, 39, 27, 40, 52, 99, 71, 28, 91]])"
      ]
     },
     "execution_count": 84,
     "metadata": {},
     "output_type": "execute_result"
    }
   ],
   "source": [
    "r"
   ]
  },
  {
   "cell_type": "code",
   "execution_count": 85,
   "id": "b3dc5478-d4e5-4448-b813-0cd0f5e84c40",
   "metadata": {},
   "outputs": [
    {
     "data": {
      "text/plain": [
       "array([[False,  True, False, False,  True, False,  True, False,  True,\n",
       "        False],\n",
       "       [False,  True,  True, False,  True,  True, False,  True,  True,\n",
       "        False],\n",
       "       [False,  True,  True,  True,  True,  True, False, False,  True,\n",
       "        False],\n",
       "       [False, False,  True, False, False, False,  True, False,  True,\n",
       "         True],\n",
       "       [ True, False,  True, False,  True, False,  True, False, False,\n",
       "        False],\n",
       "       [ True, False, False,  True, False, False,  True, False,  True,\n",
       "        False],\n",
       "       [False,  True,  True,  True,  True,  True, False,  True, False,\n",
       "        False],\n",
       "       [False,  True, False,  True,  True, False,  True, False,  True,\n",
       "        False],\n",
       "       [False, False,  True,  True,  True, False, False, False, False,\n",
       "        False],\n",
       "       [ True,  True, False, False, False,  True,  True,  True, False,\n",
       "         True]])"
      ]
     },
     "execution_count": 85,
     "metadata": {},
     "output_type": "execute_result"
    }
   ],
   "source": [
    "r > 50"
   ]
  },
  {
   "cell_type": "code",
   "execution_count": 88,
   "id": "82b8f1bd-7eea-424a-b928-52f6a9864851",
   "metadata": {},
   "outputs": [
    {
     "data": {
      "text/plain": [
       "array([97, 82, 72, 58, 67, 72, 81, 84, 60, 75, 57, 67, 73, 88, 94, 73, 83,\n",
       "       75, 53, 90, 86, 69, 77, 81, 84, 94, 98, 84, 89, 62, 53, 70, 62, 90,\n",
       "       96, 64, 98, 62, 96, 51, 70, 82, 75, 64, 52, 99, 71, 91])"
      ]
     },
     "execution_count": 88,
     "metadata": {},
     "output_type": "execute_result"
    }
   ],
   "source": [
    "r[r > 50]"
   ]
  },
  {
   "cell_type": "code",
   "execution_count": 89,
   "id": "a21c820a-a0b1-44ad-98b5-55a644187f2c",
   "metadata": {},
   "outputs": [
    {
     "data": {
      "text/plain": [
       "48"
      ]
     },
     "execution_count": 89,
     "metadata": {},
     "output_type": "execute_result"
    }
   ],
   "source": [
    "r[r > 50].size"
   ]
  },
  {
   "cell_type": "markdown",
   "id": "df701beb-5798-4773-b37a-1a12269841b6",
   "metadata": {},
   "source": [
    "## Performance"
   ]
  },
  {
   "cell_type": "code",
   "execution_count": 92,
   "id": "a2ce2e3c-7a84-4873-865b-f36c70d75584",
   "metadata": {},
   "outputs": [],
   "source": [
    "import sys"
   ]
  },
  {
   "cell_type": "code",
   "execution_count": 90,
   "id": "66c7bc32-f5ba-45f0-8d33-352202cbc25b",
   "metadata": {},
   "outputs": [],
   "source": [
    "p = [1]"
   ]
  },
  {
   "cell_type": "code",
   "execution_count": 91,
   "id": "b3f1e1f8-5652-481a-a577-62af8da61147",
   "metadata": {},
   "outputs": [
    {
     "data": {
      "text/plain": [
       "[1]"
      ]
     },
     "execution_count": 91,
     "metadata": {},
     "output_type": "execute_result"
    }
   ],
   "source": [
    "p"
   ]
  },
  {
   "cell_type": "code",
   "execution_count": 94,
   "id": "385970ea-9366-4cc0-85df-a3d90ae2d776",
   "metadata": {},
   "outputs": [
    {
     "data": {
      "text/plain": [
       "64"
      ]
     },
     "execution_count": 94,
     "metadata": {},
     "output_type": "execute_result"
    }
   ],
   "source": [
    "sys.getsizeof(p)  # Größe in Byte einer Variable"
   ]
  },
  {
   "cell_type": "markdown",
   "id": "87de06df-2926-4572-8f7a-632a0a51c1a2",
   "metadata": {},
   "source": [
    "Eine Python Liste mit einem Wert hat 64 Byte!"
   ]
  },
  {
   "cell_type": "code",
   "execution_count": 95,
   "id": "5739e3fe-86dd-43fc-a7db-d18dfdc956b9",
   "metadata": {},
   "outputs": [],
   "source": [
    "na = np.array([1])"
   ]
  },
  {
   "cell_type": "code",
   "execution_count": 98,
   "id": "3a777d7d-9d18-4793-9bfe-23f218af1b21",
   "metadata": {},
   "outputs": [
    {
     "data": {
      "text/plain": [
       "4"
      ]
     },
     "execution_count": 98,
     "metadata": {},
     "output_type": "execute_result"
    }
   ],
   "source": [
    "na.nbytes  # Hier hat das Numpy Array nur 4 Byte"
   ]
  },
  {
   "cell_type": "code",
   "execution_count": 99,
   "id": "0d89f41a-cc61-4bbb-947f-fb3c4c97a3a2",
   "metadata": {},
   "outputs": [],
   "source": [
    "pList = list(range(10_000_000))"
   ]
  },
  {
   "cell_type": "code",
   "execution_count": 104,
   "id": "5d61f3eb-b0b9-4966-a6fc-9e1f1a95270b",
   "metadata": {},
   "outputs": [],
   "source": [
    "pArray = np.arange(10_000_000, dtype=np.int64)"
   ]
  },
  {
   "cell_type": "code",
   "execution_count": 102,
   "id": "e65692c6-16f1-4be5-860a-4049047456f6",
   "metadata": {},
   "outputs": [
    {
     "name": "stdout",
     "output_type": "stream",
     "text": [
      "CPU times: total: 4.23 s\n",
      "Wall time: 4.26 s\n"
     ]
    },
    {
     "data": {
      "text/plain": [
       "333333283333335000000"
      ]
     },
     "execution_count": 102,
     "metadata": {},
     "output_type": "execute_result"
    }
   ],
   "source": [
    "%time sum([x ** 2 for x in pList])"
   ]
  },
  {
   "cell_type": "code",
   "execution_count": 105,
   "id": "51bde7d6-3b0b-4ebb-8136-473fdc620e2f",
   "metadata": {},
   "outputs": [
    {
     "name": "stdout",
     "output_type": "stream",
     "text": [
      "CPU times: total: 62.5 ms\n",
      "Wall time: 44.1 ms\n"
     ]
    },
    {
     "data": {
      "text/plain": [
       "1291890006563070912"
      ]
     },
     "execution_count": 105,
     "metadata": {},
     "output_type": "execute_result"
    }
   ],
   "source": [
    "%time np.sum(pArray ** 2)"
   ]
  },
  {
   "cell_type": "markdown",
   "id": "8fb73663-76ca-4963-9cf7-6c1b014cbb83",
   "metadata": {},
   "source": [
    "## Andere Funktionen"
   ]
  },
  {
   "cell_type": "code",
   "execution_count": 111,
   "id": "c77484bd-2949-47c2-8ce0-ebd95d6f512b",
   "metadata": {},
   "outputs": [
    {
     "data": {
      "text/plain": [
       "0.6324326508877796"
      ]
     },
     "execution_count": 111,
     "metadata": {},
     "output_type": "execute_result"
    }
   ],
   "source": [
    "np.random.random()  # Zufällige Kommazahl generieren zwischen 0 und 1"
   ]
  },
  {
   "cell_type": "code",
   "execution_count": 112,
   "id": "89c1e9f9-8732-4ec0-9f58-c60d9b9035c1",
   "metadata": {},
   "outputs": [
    {
     "data": {
      "text/plain": [
       "array([[0.31908971, 0.29684283, 0.47919224, 0.67035494, 0.09892561],\n",
       "       [0.4062224 , 0.7179011 , 0.64299778, 0.85447843, 0.31739945],\n",
       "       [0.19736368, 0.48984254, 0.0106284 , 0.52583327, 0.31064242],\n",
       "       [0.63650213, 0.69066535, 0.86238251, 0.61337918, 0.81205793],\n",
       "       [0.59579652, 0.04521556, 0.23121923, 0.28635579, 0.29501266]])"
      ]
     },
     "execution_count": 112,
     "metadata": {},
     "output_type": "execute_result"
    }
   ],
   "source": [
    "np.random.random(size=(5, 5))"
   ]
  },
  {
   "cell_type": "code",
   "execution_count": 114,
   "id": "677b5cb4-d919-463d-9752-f72c42454be9",
   "metadata": {},
   "outputs": [
    {
     "data": {
      "text/plain": [
       "array([0. , 0.1, 0.2, 0.3, 0.4, 0.5, 0.6, 0.7, 0.8, 0.9, 1. , 1.1, 1.2,\n",
       "       1.3, 1.4, 1.5, 1.6, 1.7, 1.8, 1.9, 2. , 2.1, 2.2, 2.3, 2.4, 2.5,\n",
       "       2.6, 2.7, 2.8, 2.9, 3. , 3.1, 3.2, 3.3, 3.4, 3.5, 3.6, 3.7, 3.8,\n",
       "       3.9, 4. , 4.1, 4.2, 4.3, 4.4, 4.5, 4.6, 4.7, 4.8, 4.9, 5. , 5.1,\n",
       "       5.2, 5.3, 5.4, 5.5, 5.6, 5.7, 5.8, 5.9, 6. , 6.1, 6.2, 6.3, 6.4,\n",
       "       6.5, 6.6, 6.7, 6.8, 6.9, 7. , 7.1, 7.2, 7.3, 7.4, 7.5, 7.6, 7.7,\n",
       "       7.8, 7.9, 8. , 8.1, 8.2, 8.3, 8.4, 8.5, 8.6, 8.7, 8.8, 8.9, 9. ,\n",
       "       9.1, 9.2, 9.3, 9.4, 9.5, 9.6, 9.7, 9.8, 9.9])"
      ]
     },
     "execution_count": 114,
     "metadata": {},
     "output_type": "execute_result"
    }
   ],
   "source": [
    "np.arange(0, 10, 0.1)  # Bei aRange können auch Schritte angegeben werden"
   ]
  },
  {
   "cell_type": "code",
   "execution_count": 117,
   "id": "dcf656eb-e9d2-46f1-aa5e-33a0f9cedb1a",
   "metadata": {},
   "outputs": [
    {
     "data": {
      "text/plain": [
       "array([[0, 1, 2],\n",
       "       [3, 4, 5],\n",
       "       [6, 7, 8]])"
      ]
     },
     "execution_count": 117,
     "metadata": {},
     "output_type": "execute_result"
    }
   ],
   "source": [
    "np.arange(9).reshape(3, 3)  # Mit reshape kann ein Array in eine bestimmte Form gebracht werden"
   ]
  },
  {
   "cell_type": "code",
   "execution_count": 118,
   "id": "efaf6af3-f66e-40ad-84bc-1a5e61f6a9bc",
   "metadata": {},
   "outputs": [
    {
     "data": {
      "text/plain": [
       "array([[1],\n",
       "       [2],\n",
       "       [3],\n",
       "       [4]])"
      ]
     },
     "execution_count": 118,
     "metadata": {},
     "output_type": "execute_result"
    }
   ],
   "source": [
    "np.array([[1], [2], [3], [4]])  # Unpraktische Form"
   ]
  },
  {
   "cell_type": "code",
   "execution_count": 120,
   "id": "89b2307f-4362-451a-8c08-10546b587743",
   "metadata": {},
   "outputs": [
    {
     "data": {
      "text/plain": [
       "array([1, 2, 3, 4])"
      ]
     },
     "execution_count": 120,
     "metadata": {},
     "output_type": "execute_result"
    }
   ],
   "source": [
    "np.array([[1], [2], [3], [4]]).reshape(-1)  # Nimm eine Dimension weg"
   ]
  },
  {
   "cell_type": "code",
   "execution_count": 124,
   "id": "23b53435-5969-496e-a25a-6d2daa4a5cae",
   "metadata": {},
   "outputs": [
    {
     "data": {
      "text/plain": [
       "array([[1],\n",
       "       [2],\n",
       "       [3],\n",
       "       [4]])"
      ]
     },
     "execution_count": 124,
     "metadata": {},
     "output_type": "execute_result"
    }
   ],
   "source": [
    "np.array([[1], [2], [3], [4]]).reshape(4, 1)"
   ]
  },
  {
   "cell_type": "code",
   "execution_count": 125,
   "id": "44684d6d-8014-429e-b82a-fed1a01ae558",
   "metadata": {},
   "outputs": [
    {
     "data": {
      "text/plain": [
       "array([0., 0., 0., 0., 0., 0., 0., 0., 0., 0.])"
      ]
     },
     "execution_count": 125,
     "metadata": {},
     "output_type": "execute_result"
    }
   ],
   "source": [
    "np.zeros(10)"
   ]
  },
  {
   "cell_type": "code",
   "execution_count": 126,
   "id": "d15ea407-dd04-4e8d-bb50-02db63e1181b",
   "metadata": {},
   "outputs": [
    {
     "data": {
      "text/plain": [
       "array([1., 1., 1., 1., 1., 1., 1., 1., 1., 1.])"
      ]
     },
     "execution_count": 126,
     "metadata": {},
     "output_type": "execute_result"
    }
   ],
   "source": [
    "np.ones(10)"
   ]
  },
  {
   "cell_type": "code",
   "execution_count": 128,
   "id": "651f5459-fe49-4f0a-a422-63595d4fcb28",
   "metadata": {},
   "outputs": [
    {
     "data": {
      "text/plain": [
       "array([ 0. ,  2.5,  5. ,  7.5, 10. ])"
      ]
     },
     "execution_count": 128,
     "metadata": {},
     "output_type": "execute_result"
    }
   ],
   "source": [
    "np.linspace(0, 10, 5)  # Erstellt ein Array von X bis Y, mit Z Elementen. Der Abstand wird automatisch berechnet"
   ]
  },
  {
   "cell_type": "code",
   "execution_count": 130,
   "id": "f9131727-39f9-4851-a05a-3150a8b41fd4",
   "metadata": {},
   "outputs": [
    {
     "data": {
      "text/plain": [
       "array([ 0. ,  0.2,  0.4,  0.6,  0.8,  1. ,  1.2,  1.4,  1.6,  1.8,  2. ,\n",
       "        2.2,  2.4,  2.6,  2.8,  3. ,  3.2,  3.4,  3.6,  3.8,  4. ,  4.2,\n",
       "        4.4,  4.6,  4.8,  5. ,  5.2,  5.4,  5.6,  5.8,  6. ,  6.2,  6.4,\n",
       "        6.6,  6.8,  7. ,  7.2,  7.4,  7.6,  7.8,  8. ,  8.2,  8.4,  8.6,\n",
       "        8.8,  9. ,  9.2,  9.4,  9.6,  9.8, 10. ])"
      ]
     },
     "execution_count": 130,
     "metadata": {},
     "output_type": "execute_result"
    }
   ],
   "source": [
    "np.linspace(0, 10, 51)"
   ]
  },
  {
   "cell_type": "code",
   "execution_count": 134,
   "id": "728c05dc-3eaf-4d66-977f-1bd10a3368d4",
   "metadata": {},
   "outputs": [],
   "source": [
    "ha = np.array([[1, 2, 3], [2, 3, 4], [3, 4, 5], [4, 5, 6]])\n",
    "hb = np.array([[9], [8], [7], [6]])"
   ]
  },
  {
   "cell_type": "code",
   "execution_count": 135,
   "id": "0206c80a-e9d0-4d70-b819-3e118ed3256b",
   "metadata": {},
   "outputs": [
    {
     "data": {
      "text/plain": [
       "array([[1, 2, 3],\n",
       "       [2, 3, 4],\n",
       "       [3, 4, 5],\n",
       "       [4, 5, 6]])"
      ]
     },
     "execution_count": 135,
     "metadata": {},
     "output_type": "execute_result"
    }
   ],
   "source": [
    "ha"
   ]
  },
  {
   "cell_type": "code",
   "execution_count": 136,
   "id": "988d3cd0-0a15-44d9-9927-b33f95493dd3",
   "metadata": {},
   "outputs": [
    {
     "data": {
      "text/plain": [
       "array([[9],\n",
       "       [8],\n",
       "       [7],\n",
       "       [6]])"
      ]
     },
     "execution_count": 136,
     "metadata": {},
     "output_type": "execute_result"
    }
   ],
   "source": [
    "hb"
   ]
  },
  {
   "cell_type": "code",
   "execution_count": 143,
   "id": "fe2de5a8-07b0-4c73-ac6c-0b8e0721de17",
   "metadata": {},
   "outputs": [
    {
     "data": {
      "text/plain": [
       "array([[1, 2, 3, 9],\n",
       "       [2, 3, 4, 8],\n",
       "       [3, 4, 5, 7],\n",
       "       [4, 5, 6, 6]])"
      ]
     },
     "execution_count": 143,
     "metadata": {},
     "output_type": "execute_result"
    }
   ],
   "source": [
    "np.hstack((ha, hb))  # Hängt die Zwei gegebenen Matrizen anhand der X-Achse zusammen"
   ]
  }
 ],
 "metadata": {
  "kernelspec": {
   "display_name": "Python 3 (ipykernel)",
   "language": "python",
   "name": "python3"
  },
  "language_info": {
   "codemirror_mode": {
    "name": "ipython",
    "version": 3
   },
   "file_extension": ".py",
   "mimetype": "text/x-python",
   "name": "python",
   "nbconvert_exporter": "python",
   "pygments_lexer": "ipython3",
   "version": "3.10.6"
  }
 },
 "nbformat": 4,
 "nbformat_minor": 5
}
